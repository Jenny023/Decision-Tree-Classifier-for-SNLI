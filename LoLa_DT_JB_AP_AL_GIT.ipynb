{
  "cells": [
    {
      "cell_type": "markdown",
      "metadata": {
        "id": "view-in-github",
        "colab_type": "text"
      },
      "source": [
        "<a href=\"https://colab.research.google.com/github/Jenny023/Decision-Tree-Classifier-for-SNLI/blob/main/LoLa_DT_JB_AP_AL_GIT.ipynb\" target=\"_parent\"><img src=\"https://colab.research.google.com/assets/colab-badge.svg\" alt=\"Open In Colab\"/></a>"
      ]
    },
    {
      "cell_type": "markdown",
      "metadata": {
        "id": "Lh_nsRQ655F7"
      },
      "source": [
        "# Logic & Language: SNLI Decision Tree Classifier\n",
        "\n",
        "Originally by Lasha.Abzianidze@gmail.com\n",
        "\n",
        "Edited by Jenifer Batchelor, Anne Leendertse and Aniek Peters\n",
        "\n",
        "\n"
      ]
    },
    {
      "cell_type": "markdown",
      "metadata": {
        "id": "qy4f-6yLlz63"
      },
      "source": [
        "# Decision trees on SNLI"
      ]
    },
    {
      "cell_type": "markdown",
      "metadata": {
        "id": "imB1E9tFlz67"
      },
      "source": [
        "The following code demonstrates how to load and process the SNLI dataset using the snli_jsonl2dict function. This function efficiently extracts data by separating NLI problem information from sentence annotations, since many sentences appear in multiple NLI problems. By avoiding redundant processing, this approach saves both memory and computation time, which is crucial when handling 550K NLI problems.\n",
        "\n",
        "To facilitate feature extraction, the following functions are provided in this notebook:\n",
        "\n",
        "\n",
        "\n",
        "*   sen2features: Extracts features at the sentence level.\n",
        "*   problem2features: Extracts features at the NLI problem level.\n",
        "*   probs2df: Converts extracted features into a structured DataFrame for further analysis."
      ]
    },
    {
      "cell_type": "code",
      "execution_count": null,
      "metadata": {
        "id": "bI6hXUuexfwS"
      },
      "outputs": [],
      "source": [
        "from tqdm import tqdm\n",
        "import pandas as pd"
      ]
    },
    {
      "cell_type": "code",
      "execution_count": null,
      "metadata": {
        "colab": {
          "base_uri": "https://localhost:8080/"
        },
        "id": "aCZo1GENv1gC",
        "outputId": "5926aa62-17fc-4334-be36-6d85e28d8825"
      },
      "outputs": [
        {
          "output_type": "stream",
          "name": "stdout",
          "text": [
            "Cloning into 'assigntools'...\n",
            "remote: Enumerating objects: 259, done.\u001b[K\n",
            "remote: Counting objects: 100% (59/59), done.\u001b[K\n",
            "remote: Compressing objects: 100% (55/55), done.\u001b[K\n",
            "remote: Total 259 (delta 25), reused 7 (delta 3), pack-reused 200 (from 1)\u001b[K\n",
            "Receiving objects: 100% (259/259), 63.63 KiB | 2.65 MiB/s, done.\n",
            "Resolving deltas: 100% (127/127), done.\n"
          ]
        }
      ],
      "source": [
        "# assigntools package is a course specific collection of useful tools\n",
        "!rm -fr assigntools # helps to rerun this cell witthout errors, if recloning needed\n",
        "! git clone https://github.com/kovvalsky/assigntools.git"
      ]
    },
    {
      "cell_type": "code",
      "execution_count": null,
      "metadata": {
        "id": "xHNHqdmqvu1j"
      },
      "outputs": [],
      "source": [
        "from assigntools.LoLa.read_nli import snli_jsonl2dict, sen2anno_from_nli_problems\n",
        "from assigntools.LoLa.sen_analysis import spacy_process_sen2tok, display_doc_dep"
      ]
    },
    {
      "cell_type": "markdown",
      "metadata": {
        "id": "62OYO9JIPlgj"
      },
      "source": [
        "## Reading data"
      ]
    },
    {
      "cell_type": "code",
      "execution_count": null,
      "metadata": {
        "id": "LvOs4JA-3k17"
      },
      "outputs": [],
      "source": [
        "from nltk.tree import Tree"
      ]
    },
    {
      "cell_type": "code",
      "execution_count": null,
      "metadata": {
        "colab": {
          "base_uri": "https://localhost:8080/"
        },
        "id": "5lKU860ih-Gj",
        "outputId": "61e7f336-c63e-4df9-def2-acef33302906"
      },
      "outputs": [
        {
          "output_type": "stream",
          "name": "stdout",
          "text": [
            "--2025-02-12 10:44:56--  https://nlp.stanford.edu/projects/snli/snli_1.0.zip\n",
            "Resolving nlp.stanford.edu (nlp.stanford.edu)... 171.64.67.140\n",
            "Connecting to nlp.stanford.edu (nlp.stanford.edu)|171.64.67.140|:443... connected.\n",
            "HTTP request sent, awaiting response... 200 OK\n",
            "Length: 94550081 (90M) [application/zip]\n",
            "Saving to: ‘snli_1.0.zip’\n",
            "\n",
            "snli_1.0.zip        100%[===================>]  90.17M  5.76MB/s    in 16s     \n",
            "\n",
            "2025-02-12 10:45:12 (5.80 MB/s) - ‘snli_1.0.zip’ saved [94550081/94550081]\n",
            "\n",
            "Archive:  snli_1.0.zip\n",
            "   creating: snli_1.0/\n",
            "  inflating: snli_1.0/.DS_Store      \n",
            "   creating: __MACOSX/\n",
            "   creating: __MACOSX/snli_1.0/\n",
            "  inflating: __MACOSX/snli_1.0/._.DS_Store  \n",
            " extracting: snli_1.0/Icon           \n",
            "  inflating: __MACOSX/snli_1.0/._Icon  \n",
            "  inflating: snli_1.0/README.txt     \n",
            "  inflating: __MACOSX/snli_1.0/._README.txt  \n",
            "  inflating: snli_1.0/snli_1.0_dev.jsonl  \n",
            "  inflating: snli_1.0/snli_1.0_dev.txt  \n",
            "  inflating: snli_1.0/snli_1.0_test.jsonl  \n",
            "  inflating: snli_1.0/snli_1.0_test.txt  \n",
            "  inflating: snli_1.0/snli_1.0_train.jsonl  \n",
            "  inflating: snli_1.0/snli_1.0_train.txt  \n",
            "  inflating: __MACOSX/._snli_1.0     \n"
          ]
        }
      ],
      "source": [
        "# Get SNLI data on fly\n",
        "!wget https://nlp.stanford.edu/projects/snli/snli_1.0.zip\n",
        "!unzip snli_1.0.zip\n",
        "# !rm -r __MACOSX/ snli_1.0/*_test*"
      ]
    },
    {
      "cell_type": "code",
      "execution_count": null,
      "metadata": {
        "colab": {
          "base_uri": "https://localhost:8080/"
        },
        "id": "dK0AXvsgfltO",
        "outputId": "4b79c8df-7892-4785-d4ba-0d3fc25aca10"
      },
      "outputs": [
        {
          "output_type": "stream",
          "name": "stdout",
          "text": [
            "Found .json files for ['dev', 'train', 'test'] parts\n",
            "processing DEV:\t"
          ]
        },
        {
          "output_type": "stream",
          "name": "stderr",
          "text": [
            "10000it [00:01, 9842.32it/s]\n"
          ]
        },
        {
          "output_type": "stream",
          "name": "stdout",
          "text": [
            "158 problems without a gold label were ignored\n",
            "0 problems have a wrong annotator label\n",
            "9842 problems were returned\n",
            "processing TRAIN:\t"
          ]
        },
        {
          "output_type": "stream",
          "name": "stderr",
          "text": [
            "550152it [00:44, 12297.76it/s]\n"
          ]
        },
        {
          "output_type": "stream",
          "name": "stdout",
          "text": [
            "785 problems without a gold label were ignored\n",
            "198 problems have a wrong annotator label\n",
            "549169 problems were returned\n",
            "processing TEST:\t"
          ]
        },
        {
          "output_type": "stream",
          "name": "stderr",
          "text": [
            "10000it [00:00, 17765.37it/s]"
          ]
        },
        {
          "output_type": "stream",
          "name": "stdout",
          "text": [
            "176 problems without a gold label were ignored\n",
            "0 problems have a wrong annotator label\n",
            "9824 problems were returned\n"
          ]
        },
        {
          "output_type": "stream",
          "name": "stderr",
          "text": [
            "\n"
          ]
        }
      ],
      "source": [
        "# takes ~1min to read and pre-process data\n",
        "# By default it reads the problems that have a gold label.\n",
        "# SNLI is dict {part: {problem_id: problem_info}}\n",
        "# S2A is dict {sentence: sentence annotation dict}\n",
        "SNLI, S2A = snli_jsonl2dict('snli_1.0')"
      ]
    },
    {
      "cell_type": "code",
      "execution_count": null,
      "metadata": {
        "colab": {
          "base_uri": "https://localhost:8080/",
          "height": 156
        },
        "id": "SM8eR682Iu23",
        "outputId": "302942a8-4cda-490d-e0a8-d819147ed625"
      },
      "outputs": [
        {
          "output_type": "display_data",
          "data": {
            "text/plain": [
              "{'g': 'neutral',\n",
              " 'pid': '4804607632.jpg#0r1e',\n",
              " 'cid': '4804607632.jpg#0',\n",
              " 'lnum': 5,\n",
              " 'lcnt': Counter({'entailment': 2, 'neutral': 3}),\n",
              " 'ltype': '230',\n",
              " 'p': 'An older man sits with his orange juice at a small table in a coffee shop while employees in bright colored shirts smile in the background.',\n",
              " 'h': 'An elderly man sits in a small shop.'}"
            ]
          },
          "metadata": {}
        }
      ],
      "source": [
        "# access a problem with its ID in the train part\n",
        "some_prob = SNLI['train']['4804607632.jpg#0r1e']\n",
        "display(some_prob) # you can use print but the data will be squeezed in a single line"
      ]
    },
    {
      "cell_type": "code",
      "execution_count": null,
      "metadata": {
        "colab": {
          "base_uri": "https://localhost:8080/"
        },
        "id": "vnnP33PJJRHp",
        "outputId": "227c6971-de02-4457-a182-99031392bade"
      },
      "outputs": [
        {
          "output_type": "stream",
          "name": "stdout",
          "text": [
            "Sentence: An elderly man sits in a small shop.\n"
          ]
        },
        {
          "output_type": "execute_result",
          "data": {
            "text/plain": [
              "{'tree': '(ROOT (S (NP (DT An) (JJ elderly) (NN man)) (VP (VBZ sits) (PP (IN in) (NP (DT a) (JJ small) (NN shop)))) (. .)))',\n",
              " 'btree': '( ( An ( elderly man ) ) ( ( sits ( in ( a ( small shop ) ) ) ) . ) )',\n",
              " 'tok': ['An', 'elderly', 'man', 'sits', 'in', 'a', 'small', 'shop', '.'],\n",
              " 'pos': ['DT', 'JJ', 'NN', 'VBZ', 'IN', 'DT', 'JJ', 'NN', '.'],\n",
              " 'pids': {('train', '4804607632.jpg#0r1e', 'h')}}"
            ]
          },
          "metadata": {},
          "execution_count": 8
        }
      ],
      "source": [
        "# The analysis/annotation of the hypothesis sentence\n",
        "# It includes tokenization, tree structures and pos tags.\n",
        "# Additionally, for each sentence you can find out in which\n",
        "# parts, problems, and role (premise or hypothesis) it occurs.\n",
        "# Check the key \"pids\" (problemIDs) for this info.\n",
        "print(f\"Sentence: {some_prob['h']}\")\n",
        "S2A[some_prob['h']]"
      ]
    },
    {
      "cell_type": "code",
      "execution_count": null,
      "metadata": {
        "colab": {
          "base_uri": "https://localhost:8080/"
        },
        "id": "JPH1SudlFOBb",
        "outputId": "9f3e686e-d369-47b1-a242-c2009d00332a"
      },
      "outputs": [
        {
          "output_type": "execute_result",
          "data": {
            "text/plain": [
              "343"
            ]
          },
          "metadata": {},
          "execution_count": 9
        }
      ],
      "source": [
        "# It is a good idea to keep the problem annotations and sentence annotations separately\n",
        "# because many sentences occur in many NLI problems and you don't want to extract features\n",
        "# for the same sentence for each problem it occurs in.\n",
        "# For example the following sentence occurs many times in NLI problems\n",
        "len(S2A[\"A man is sleeping.\"]['pids'])"
      ]
    },
    {
      "cell_type": "markdown",
      "metadata": {
        "id": "rQrkjDep4xma"
      },
      "source": [
        "### Displaying syntax trees"
      ]
    },
    {
      "cell_type": "code",
      "execution_count": null,
      "metadata": {
        "colab": {
          "base_uri": "https://localhost:8080/"
        },
        "id": "f7LvFC6D3WZX",
        "outputId": "0061c282-087e-4dcb-d91e-738e2ebe415c"
      },
      "outputs": [
        {
          "output_type": "stream",
          "name": "stdout",
          "text": [
            "(ROOT\n",
            "  (S\n",
            "    (NP (DT An) (JJ elderly) (NN man))\n",
            "    (VP (VBZ sits) (PP (IN in) (NP (DT a) (JJ small) (NN shop))))\n",
            "    (. .)))\n",
            "                     ROOT                       \n",
            "                      |                          \n",
            "                      S                         \n",
            "        ______________|_______________________   \n",
            "       |                   VP                 | \n",
            "       |          _________|___               |  \n",
            "       |         |             PP             | \n",
            "       |         |     ________|____          |  \n",
            "       NP        |    |             NP        | \n",
            "  _____|_____    |    |     ________|____     |  \n",
            " DT    JJ    NN VBZ   IN   DT       JJ   NN   . \n",
            " |     |     |   |    |    |        |    |    |  \n",
            " An elderly man sits  in   a      small shop  . \n",
            "\n"
          ]
        }
      ],
      "source": [
        "# we can read tree representations as NLTK Tree objects\n",
        "t = Tree.fromstring(S2A[some_prob['h']]['tree'])\n",
        "print(t)\n",
        "# better printing\n",
        "t.pretty_print()"
      ]
    },
    {
      "cell_type": "code",
      "execution_count": null,
      "metadata": {
        "colab": {
          "base_uri": "https://localhost:8080/"
        },
        "id": "_8kVznHZ4VXl",
        "outputId": "2f716e43-8363-4724-bd78-139eca890ec4"
      },
      "outputs": [
        {
          "output_type": "stream",
          "name": "stdout",
          "text": [
            "Collecting svgling\n",
            "  Downloading svgling-0.5.0-py3-none-any.whl.metadata (7.4 kB)\n",
            "Collecting svgwrite (from svgling)\n",
            "  Downloading svgwrite-1.4.3-py3-none-any.whl.metadata (8.8 kB)\n",
            "Downloading svgling-0.5.0-py3-none-any.whl (31 kB)\n",
            "Downloading svgwrite-1.4.3-py3-none-any.whl (67 kB)\n",
            "\u001b[2K   \u001b[90m━━━━━━━━━━━━━━━━━━━━━━━━━━━━━━━━━━━━━━━━\u001b[0m \u001b[32m67.1/67.1 kB\u001b[0m \u001b[31m3.2 MB/s\u001b[0m eta \u001b[36m0:00:00\u001b[0m\n",
            "\u001b[?25hInstalling collected packages: svgwrite, svgling\n",
            "Successfully installed svgling-0.5.0 svgwrite-1.4.3\n"
          ]
        }
      ],
      "source": [
        "# you need to have svgline installed to display tree objects\n",
        "! pip install svgling"
      ]
    },
    {
      "cell_type": "code",
      "execution_count": null,
      "metadata": {
        "colab": {
          "base_uri": "https://localhost:8080/",
          "height": 333
        },
        "id": "TJnXUvyj4inJ",
        "outputId": "a4c96d38-cb09-4bcd-b160-69255a2633a1"
      },
      "outputs": [
        {
          "output_type": "execute_result",
          "data": {
            "text/plain": [
              "Tree('ROOT', [Tree('S', [Tree('NP', [Tree('DT', ['An']), Tree('JJ', ['elderly']), Tree('NN', ['man'])]), Tree('VP', [Tree('VBZ', ['sits']), Tree('PP', [Tree('IN', ['in']), Tree('NP', [Tree('DT', ['a']), Tree('JJ', ['small']), Tree('NN', ['shop'])])])]), Tree('.', ['.'])])])"
            ],
            "image/svg+xml": "<svg baseProfile=\"full\" height=\"312px\" preserveAspectRatio=\"xMidYMid meet\" style=\"font-family: times, serif; font-weight: normal; font-style: normal; font-size: 16px\" version=\"1.1\" viewBox=\"0,0,384.0,312.0\" width=\"384px\" xmlns=\"http://www.w3.org/2000/svg\" xmlns:ev=\"http://www.w3.org/2001/xml-events\" xmlns:xlink=\"http://www.w3.org/1999/xlink\"><defs /><svg width=\"100%\" x=\"0\" y=\"0px\"><defs /><text text-anchor=\"middle\" x=\"50%\" y=\"16px\">ROOT</text></svg><svg width=\"100%\" x=\"0%\" y=\"48px\"><defs /><svg width=\"100%\" x=\"0\" y=\"0px\"><defs /><text text-anchor=\"middle\" x=\"50%\" y=\"16px\">S</text></svg><svg width=\"37.5%\" x=\"0%\" y=\"48px\"><defs /><svg width=\"100%\" x=\"0\" y=\"0px\"><defs /><text text-anchor=\"middle\" x=\"50%\" y=\"16px\">NP</text></svg><svg width=\"22.2222%\" x=\"0%\" y=\"48px\"><defs /><svg width=\"100%\" x=\"0\" y=\"0px\"><defs /><text text-anchor=\"middle\" x=\"50%\" y=\"16px\">DT</text></svg><svg width=\"100%\" x=\"0%\" y=\"48px\"><defs /><svg width=\"100%\" x=\"0\" y=\"0px\"><defs /><text text-anchor=\"middle\" x=\"50%\" y=\"16px\">An</text></svg></svg><line stroke=\"black\" x1=\"50%\" x2=\"50%\" y1=\"20px\" y2=\"48px\" /></svg><line stroke=\"black\" x1=\"50%\" x2=\"11.1111%\" y1=\"20px\" y2=\"48px\" /><svg width=\"50%\" x=\"22.2222%\" y=\"48px\"><defs /><svg width=\"100%\" x=\"0\" y=\"0px\"><defs /><text text-anchor=\"middle\" x=\"50%\" y=\"16px\">JJ</text></svg><svg width=\"100%\" x=\"0%\" y=\"48px\"><defs /><svg width=\"100%\" x=\"0\" y=\"0px\"><defs /><text text-anchor=\"middle\" x=\"50%\" y=\"16px\">elderly</text></svg></svg><line stroke=\"black\" x1=\"50%\" x2=\"50%\" y1=\"20px\" y2=\"48px\" /></svg><line stroke=\"black\" x1=\"50%\" x2=\"47.2222%\" y1=\"20px\" y2=\"48px\" /><svg width=\"27.7778%\" x=\"72.2222%\" y=\"48px\"><defs /><svg width=\"100%\" x=\"0\" y=\"0px\"><defs /><text text-anchor=\"middle\" x=\"50%\" y=\"16px\">NN</text></svg><svg width=\"100%\" x=\"0%\" y=\"48px\"><defs /><svg width=\"100%\" x=\"0\" y=\"0px\"><defs /><text text-anchor=\"middle\" x=\"50%\" y=\"16px\">man</text></svg></svg><line stroke=\"black\" x1=\"50%\" x2=\"50%\" y1=\"20px\" y2=\"48px\" /></svg><line stroke=\"black\" x1=\"50%\" x2=\"86.1111%\" y1=\"20px\" y2=\"48px\" /></svg><line stroke=\"black\" x1=\"50%\" x2=\"18.75%\" y1=\"20px\" y2=\"48px\" /><svg width=\"56.25%\" x=\"37.5%\" y=\"48px\"><defs /><svg width=\"100%\" x=\"0\" y=\"0px\"><defs /><text text-anchor=\"middle\" x=\"50%\" y=\"16px\">VP</text></svg><svg width=\"22.2222%\" x=\"0%\" y=\"48px\"><defs /><svg width=\"100%\" x=\"0\" y=\"0px\"><defs /><text text-anchor=\"middle\" x=\"50%\" y=\"16px\">VBZ</text></svg><svg width=\"100%\" x=\"0%\" y=\"48px\"><defs /><svg width=\"100%\" x=\"0\" y=\"0px\"><defs /><text text-anchor=\"middle\" x=\"50%\" y=\"16px\">sits</text></svg></svg><line stroke=\"black\" x1=\"50%\" x2=\"50%\" y1=\"20px\" y2=\"48px\" /></svg><line stroke=\"black\" x1=\"50%\" x2=\"11.1111%\" y1=\"20px\" y2=\"48px\" /><svg width=\"77.7778%\" x=\"22.2222%\" y=\"48px\"><defs /><svg width=\"100%\" x=\"0\" y=\"0px\"><defs /><text text-anchor=\"middle\" x=\"50%\" y=\"16px\">PP</text></svg><svg width=\"19.0476%\" x=\"0%\" y=\"48px\"><defs /><svg width=\"100%\" x=\"0\" y=\"0px\"><defs /><text text-anchor=\"middle\" x=\"50%\" y=\"16px\">IN</text></svg><svg width=\"100%\" x=\"0%\" y=\"48px\"><defs /><svg width=\"100%\" x=\"0\" y=\"0px\"><defs /><text text-anchor=\"middle\" x=\"50%\" y=\"16px\">in</text></svg></svg><line stroke=\"black\" x1=\"50%\" x2=\"50%\" y1=\"20px\" y2=\"48px\" /></svg><line stroke=\"black\" x1=\"50%\" x2=\"9.52381%\" y1=\"20px\" y2=\"48px\" /><svg width=\"80.9524%\" x=\"19.0476%\" y=\"48px\"><defs /><svg width=\"100%\" x=\"0\" y=\"0px\"><defs /><text text-anchor=\"middle\" x=\"50%\" y=\"16px\">NP</text></svg><svg width=\"23.5294%\" x=\"0%\" y=\"48px\"><defs /><svg width=\"100%\" x=\"0\" y=\"0px\"><defs /><text text-anchor=\"middle\" x=\"50%\" y=\"16px\">DT</text></svg><svg width=\"100%\" x=\"0%\" y=\"48px\"><defs /><svg width=\"100%\" x=\"0\" y=\"0px\"><defs /><text text-anchor=\"middle\" x=\"50%\" y=\"16px\">a</text></svg></svg><line stroke=\"black\" x1=\"50%\" x2=\"50%\" y1=\"20px\" y2=\"48px\" /></svg><line stroke=\"black\" x1=\"50%\" x2=\"11.7647%\" y1=\"20px\" y2=\"48px\" /><svg width=\"41.1765%\" x=\"23.5294%\" y=\"48px\"><defs /><svg width=\"100%\" x=\"0\" y=\"0px\"><defs /><text text-anchor=\"middle\" x=\"50%\" y=\"16px\">JJ</text></svg><svg width=\"100%\" x=\"0%\" y=\"48px\"><defs /><svg width=\"100%\" x=\"0\" y=\"0px\"><defs /><text text-anchor=\"middle\" x=\"50%\" y=\"16px\">small</text></svg></svg><line stroke=\"black\" x1=\"50%\" x2=\"50%\" y1=\"20px\" y2=\"48px\" /></svg><line stroke=\"black\" x1=\"50%\" x2=\"44.1176%\" y1=\"20px\" y2=\"48px\" /><svg width=\"35.2941%\" x=\"64.7059%\" y=\"48px\"><defs /><svg width=\"100%\" x=\"0\" y=\"0px\"><defs /><text text-anchor=\"middle\" x=\"50%\" y=\"16px\">NN</text></svg><svg width=\"100%\" x=\"0%\" y=\"48px\"><defs /><svg width=\"100%\" x=\"0\" y=\"0px\"><defs /><text text-anchor=\"middle\" x=\"50%\" y=\"16px\">shop</text></svg></svg><line stroke=\"black\" x1=\"50%\" x2=\"50%\" y1=\"20px\" y2=\"48px\" /></svg><line stroke=\"black\" x1=\"50%\" x2=\"82.3529%\" y1=\"20px\" y2=\"48px\" /></svg><line stroke=\"black\" x1=\"50%\" x2=\"59.5238%\" y1=\"20px\" y2=\"48px\" /></svg><line stroke=\"black\" x1=\"50%\" x2=\"61.1111%\" y1=\"20px\" y2=\"48px\" /></svg><line stroke=\"black\" x1=\"50%\" x2=\"65.625%\" y1=\"20px\" y2=\"48px\" /><svg width=\"6.25%\" x=\"93.75%\" y=\"48px\"><defs /><svg width=\"100%\" x=\"0\" y=\"0px\"><defs /><text text-anchor=\"middle\" x=\"50%\" y=\"16px\">.</text></svg><svg width=\"100%\" x=\"0%\" y=\"48px\"><defs /><svg width=\"100%\" x=\"0\" y=\"0px\"><defs /><text text-anchor=\"middle\" x=\"50%\" y=\"16px\">.</text></svg></svg><line stroke=\"black\" x1=\"50%\" x2=\"50%\" y1=\"20px\" y2=\"48px\" /></svg><line stroke=\"black\" x1=\"50%\" x2=\"96.875%\" y1=\"20px\" y2=\"48px\" /></svg><line stroke=\"black\" x1=\"50%\" x2=\"50%\" y1=\"20px\" y2=\"48px\" /></svg>"
          },
          "metadata": {},
          "execution_count": 12
        }
      ],
      "source": [
        "# display tree\n",
        "t"
      ]
    },
    {
      "cell_type": "markdown",
      "metadata": {
        "id": "1S9FJwAqneFf"
      },
      "source": [
        "### Datasplit"
      ]
    },
    {
      "cell_type": "code",
      "execution_count": null,
      "metadata": {
        "id": "kkLgL1XXIGqN"
      },
      "outputs": [],
      "source": [
        "# Separate training instances labeled by 5 annotators\n",
        "labeled_5 = {pid: ex for pid, ex in SNLI['train'].items() if ex['lnum'] == 5}\n",
        "\n",
        "# Take the first 10,000 instances as the pre-development set\n",
        "SNLI['dev_set_new'] = {pid: labeled_5[pid] for pid in sorted(labeled_5)[:10000]}\n",
        "\n",
        "# Remaining training data: everything in 'train' except the dev set\n",
        "SNLI['sub_train2'] = {pid: ex for pid, ex in SNLI['train'].items() if pid not in SNLI['dev_set_new']}\n",
        "\n",
        "# Final training set used for analysis: first 200,000 of sub_train2\n",
        "SNLI['sub_train3'] = { pid: SNLI['sub_train2'][pid] for pid in sorted(SNLI['sub_train2'])[:200000] }"
      ]
    },
    {
      "cell_type": "code",
      "execution_count": null,
      "metadata": {
        "colab": {
          "base_uri": "https://localhost:8080/"
        },
        "id": "l6xsvcv2JFU0",
        "outputId": "dd123396-73f6-424e-da7f-2ffb950747af"
      },
      "outputs": [
        {
          "output_type": "stream",
          "name": "stdout",
          "text": [
            "Total training examples in SNLI['train']: 549169\n",
            "Number of examples in SNLI['dev_set_new']: 10000\n",
            "Number of examples in SNLI['sub_train2']: 539169\n",
            "Number of examples in SNLI['sub_train3']: 200000\n"
          ]
        }
      ],
      "source": [
        "# Print the sizes of the datasets\n",
        "print(f\"Total training examples in SNLI['train']: {len(SNLI['train'])}\")\n",
        "print(f\"Number of examples in SNLI['dev_set_new']: {len(SNLI['dev_set_new'])}\")\n",
        "print(f\"Number of examples in SNLI['sub_train2']: {len(SNLI['sub_train2'])}\")\n",
        "print(f\"Number of examples in SNLI['sub_train3']: {len(SNLI['sub_train3'])}\")\n",
        "\n",
        "# Check if the split was done correctly\n",
        "assert len(SNLI['train']) == len(SNLI['dev_set_new']) + len(SNLI['sub_train2']), \"Split error: Sizes don't match!\""
      ]
    },
    {
      "cell_type": "markdown",
      "metadata": {
        "id": "GrXD-I5z1L1c"
      },
      "source": [
        "## Processing with spaCy\n"
      ]
    },
    {
      "cell_type": "markdown",
      "metadata": {
        "id": "ajg-s4mf1ZM9"
      },
      "source": [
        "For more reasoning-relevant features, one can use [spaCy](https://spacy.io/) to get dependency parse trees for sentences. In addition to the dependency parsing, spaCy pipeline also does part-of-speech tagging (with general and fine-grained POS tags), named entity recognition, and lemmatization. SpaCy is used for some of the smart features that were implemented in this notebook file."
      ]
    },
    {
      "cell_type": "code",
      "execution_count": null,
      "metadata": {
        "id": "W6bY0Emz3KO4"
      },
      "outputs": [],
      "source": [
        "# downloading spaCy's large model\n",
        "# !python -m spacy download en_core_web_lg\n",
        "import spacy"
      ]
    },
    {
      "cell_type": "code",
      "execution_count": null,
      "metadata": {
        "id": "t8R-birU3bJB"
      },
      "outputs": [],
      "source": [
        "NLP = spacy.load(\"en_core_web_sm\")"
      ]
    },
    {
      "cell_type": "code",
      "execution_count": null,
      "metadata": {
        "colab": {
          "base_uri": "https://localhost:8080/"
        },
        "id": "T4J7GVJeWDCC",
        "outputId": "1ea122fc-efe1-447b-e961-d9ee71935918"
      },
      "outputs": [
        {
          "output_type": "stream",
          "name": "stdout",
          "text": [
            "Train contains 549169 problems\n",
            "The number of different sentences in SNLI: 651357\n",
            "The number of different sentences in subTRAIN, DEV and TEST: 265569\n"
          ]
        }
      ],
      "source": [
        "# SNLI train part contains 640K different sentences\n",
        "# First, processing all these sentences with spaCy and then using the analyses\n",
        "# for feature extraction is not feasible as the colab will run out of the memory\n",
        "# There are two options, either reduce the number of sentecnes by using subpart\n",
        "# of the training part, or process the sentences with spaCy in batches while\n",
        "# at the same time converting NLI problems into a set of feature-values\n",
        "# The former is simpler and this is how you can create new SNLI and S2A variables\n",
        "print(f\"Train contains {len(SNLI['train'])} problems\")\n",
        "print(f\"The number of different sentences in SNLI: {len(S2A)}\")\n",
        "# Let's decide that we take first 10K problems from TRAIN\n",
        "# (the label distribution should reflect the original distribution from the training data)\n",
        "\n",
        "sub_S2A = sen2anno_from_nli_problems({**SNLI['sub_train3'], **SNLI['dev'], **SNLI['dev_set_new'], **SNLI['test']}, S2A)\n",
        "print(f\"The number of different sentences in subTRAIN, DEV and TEST: {len(sub_S2A)}\")"
      ]
    },
    {
      "cell_type": "code",
      "execution_count": null,
      "metadata": {
        "colab": {
          "base_uri": "https://localhost:8080/"
        },
        "id": "EHU6OGIlfinH",
        "outputId": "e8455811-1e6e-414c-a246-fa71d686c885"
      },
      "outputs": [
        {
          "output_type": "stream",
          "name": "stderr",
          "text": [
            "265569it [06:28, 682.73it/s]\n"
          ]
        }
      ],
      "source": [
        "# process all sentecnes in DEV and subTRAIN with spaCy\n",
        "# Note thet the following function takes spaCy pipeline and sen->tokens dict\n",
        "# With the tokenization input, the pipeline is forced to use the same tokenization\n",
        "sen2Doc = spacy_process_sen2tok(NLP, { sen: anno['tok'] for sen, anno in sub_S2A.items() })"
      ]
    },
    {
      "cell_type": "markdown",
      "metadata": {
        "id": "GRPLEAWvWg7f"
      },
      "source": [
        "## Display trees"
      ]
    },
    {
      "cell_type": "code",
      "execution_count": null,
      "metadata": {
        "id": "QUiqLx3ul8Tf",
        "colab": {
          "base_uri": "https://localhost:8080/",
          "height": 395
        },
        "outputId": "6aa5e478-74c4-44d4-edea-0a050521f3ea"
      },
      "outputs": [
        {
          "output_type": "display_data",
          "data": {
            "text/plain": [
              "<IPython.core.display.HTML object>"
            ],
            "text/html": [
              "<span class=\"tex2jax_ignore\"><svg xmlns=\"http://www.w3.org/2000/svg\" xmlns:xlink=\"http://www.w3.org/1999/xlink\" xml:lang=\"en\" id=\"8cbbd470d2e9412fb175b574772d0665-0\" class=\"displacy\" width=\"650\" height=\"287.0\" direction=\"ltr\" style=\"max-width: none; height: 287.0px; color: #000000; background: #ffffff; font-family: Arial; direction: ltr\">\n",
              "<text class=\"displacy-token\" fill=\"currentColor\" text-anchor=\"middle\" y=\"197.0\">\n",
              "    <tspan class=\"displacy-word\" fill=\"currentColor\" x=\"50\">A</tspan>\n",
              "    <tspan class=\"displacy-tag\" dy=\"2em\" fill=\"currentColor\" x=\"50\">DT</tspan>\n",
              "</text>\n",
              "\n",
              "<text class=\"displacy-token\" fill=\"currentColor\" text-anchor=\"middle\" y=\"197.0\">\n",
              "    <tspan class=\"displacy-word\" fill=\"currentColor\" x=\"200\">man</tspan>\n",
              "    <tspan class=\"displacy-tag\" dy=\"2em\" fill=\"currentColor\" x=\"200\">NN</tspan>\n",
              "</text>\n",
              "\n",
              "<text class=\"displacy-token\" fill=\"currentColor\" text-anchor=\"middle\" y=\"197.0\">\n",
              "    <tspan class=\"displacy-word\" fill=\"currentColor\" x=\"350\">is</tspan>\n",
              "    <tspan class=\"displacy-tag\" dy=\"2em\" fill=\"currentColor\" x=\"350\">VBZ</tspan>\n",
              "</text>\n",
              "\n",
              "<text class=\"displacy-token\" fill=\"currentColor\" text-anchor=\"middle\" y=\"197.0\">\n",
              "    <tspan class=\"displacy-word\" fill=\"currentColor\" x=\"500\">sleeping .</tspan>\n",
              "    <tspan class=\"displacy-tag\" dy=\"2em\" fill=\"currentColor\" x=\"500\">VBG</tspan>\n",
              "</text>\n",
              "\n",
              "<g class=\"displacy-arrow\">\n",
              "    <path class=\"displacy-arc\" id=\"arrow-8cbbd470d2e9412fb175b574772d0665-0-0\" stroke-width=\"2px\" d=\"M62,152.0 62,127.0 197.0,127.0 197.0,152.0\" fill=\"none\" stroke=\"currentColor\"/>\n",
              "    <text dy=\"1.25em\" style=\"font-size: 0.8em; letter-spacing: 1px\">\n",
              "        <textPath xlink:href=\"#arrow-8cbbd470d2e9412fb175b574772d0665-0-0\" class=\"displacy-label\" startOffset=\"50%\" side=\"left\" fill=\"currentColor\" text-anchor=\"middle\">det</textPath>\n",
              "    </text>\n",
              "    <path class=\"displacy-arrowhead\" d=\"M62,154.0 L58,146.0 66,146.0\" fill=\"currentColor\"/>\n",
              "</g>\n",
              "\n",
              "<g class=\"displacy-arrow\">\n",
              "    <path class=\"displacy-arc\" id=\"arrow-8cbbd470d2e9412fb175b574772d0665-0-1\" stroke-width=\"2px\" d=\"M212,152.0 212,102.0 500.0,102.0 500.0,152.0\" fill=\"none\" stroke=\"currentColor\"/>\n",
              "    <text dy=\"1.25em\" style=\"font-size: 0.8em; letter-spacing: 1px\">\n",
              "        <textPath xlink:href=\"#arrow-8cbbd470d2e9412fb175b574772d0665-0-1\" class=\"displacy-label\" startOffset=\"50%\" side=\"left\" fill=\"currentColor\" text-anchor=\"middle\">nsubj</textPath>\n",
              "    </text>\n",
              "    <path class=\"displacy-arrowhead\" d=\"M212,154.0 L208,146.0 216,146.0\" fill=\"currentColor\"/>\n",
              "</g>\n",
              "\n",
              "<g class=\"displacy-arrow\">\n",
              "    <path class=\"displacy-arc\" id=\"arrow-8cbbd470d2e9412fb175b574772d0665-0-2\" stroke-width=\"2px\" d=\"M362,152.0 362,127.0 497.0,127.0 497.0,152.0\" fill=\"none\" stroke=\"currentColor\"/>\n",
              "    <text dy=\"1.25em\" style=\"font-size: 0.8em; letter-spacing: 1px\">\n",
              "        <textPath xlink:href=\"#arrow-8cbbd470d2e9412fb175b574772d0665-0-2\" class=\"displacy-label\" startOffset=\"50%\" side=\"left\" fill=\"currentColor\" text-anchor=\"middle\">aux</textPath>\n",
              "    </text>\n",
              "    <path class=\"displacy-arrowhead\" d=\"M362,154.0 L358,146.0 366,146.0\" fill=\"currentColor\"/>\n",
              "</g>\n",
              "</svg></span>"
            ]
          },
          "metadata": {}
        },
        {
          "output_type": "stream",
          "name": "stdout",
          "text": [
            "Token: A, POS: DET, Lemma: a, Dependency: det, Head: man\n",
            "Token: man, POS: NOUN, Lemma: man, Dependency: nsubj, Head: sleeping\n",
            "Token: is, POS: AUX, Lemma: be, Dependency: aux, Head: sleeping\n",
            "Token: sleeping, POS: VERB, Lemma: sleep, Dependency: ROOT, Head: sleeping\n",
            "Token: ., POS: PUNCT, Lemma: ., Dependency: punct, Head: sleeping\n"
          ]
        }
      ],
      "source": [
        "display_doc_dep(sen2Doc[\"A man is sleeping.\"])\n",
        "\n",
        "doc = sen2Doc[\"A man is sleeping.\"]\n",
        "for token in doc:\n",
        "    print(f\"Token: {token.text}, POS: {token.pos_}, Lemma: {token.lemma_}, Dependency: {token.dep_}, Head: {token.head.text}\")"
      ]
    },
    {
      "cell_type": "markdown",
      "metadata": {
        "id": "ZiAkHr7-Pfnw"
      },
      "source": [
        "## Create features"
      ]
    },
    {
      "cell_type": "markdown",
      "metadata": {
        "id": "wMZA1J4mH6kV"
      },
      "source": [
        "This section contains all the code for the feature extraction. We implemented different functions for most of the features (both shallow and smart). The smart features are all grouped together with other smart features that are aimed at the same label (Neutral, Entailment, Contradiction).\n",
        "\n",
        "All these feature functions get combined in two different functions that work on different levels:\n",
        "\n",
        "*   **sen2features():** Sentence-level features – extracted first and used as building blocks.\n",
        "*   **problem2features():** Problem/pair-level features – constructed using sentence-level features.\n",
        "\n",
        "Finally there is a function called **problems2df()** that puts all the extracted features in a Pandas Dataframe for further analysis.\n"
      ]
    },
    {
      "cell_type": "markdown",
      "metadata": {
        "id": "HHh7_35df9bd"
      },
      "source": [
        "### Shallow Features"
      ]
    },
    {
      "cell_type": "code",
      "source": [
        "from nltk.translate.bleu_score import sentence_bleu, SmoothingFunction"
      ],
      "metadata": {
        "id": "lr8j1dLgrv8B"
      },
      "execution_count": null,
      "outputs": []
    },
    {
      "cell_type": "markdown",
      "metadata": {
        "id": "R5AJiSpkntvy"
      },
      "source": [
        "#### Finding negations (improved)"
      ]
    },
    {
      "cell_type": "code",
      "execution_count": null,
      "metadata": {
        "id": "KYUR-iUyntZa"
      },
      "outputs": [],
      "source": [
        "def find_negations(doc):\n",
        "\n",
        "    negation_words = {\"n't\", \"no\", \"not\", \"none\", \"neither\", \"nobody\", \"nothing\", \"nowhere\", \"never\", \"hardly\"}\n",
        "    negations = []\n",
        "\n",
        "    for token in doc:\n",
        "        # Check for negation words from the predefined set or if the dependency relation is 'neg'\n",
        "        if token.text.lower() in negation_words or token.dep_ == 'neg':\n",
        "            # Add token to negations list if it's a negation\n",
        "            negations.append(token.text)\n",
        "\n",
        "    return len(negations)"
      ]
    },
    {
      "cell_type": "markdown",
      "metadata": {
        "id": "Czbe9C4gHIOv"
      },
      "source": [
        "#### Frequent Words"
      ]
    },
    {
      "cell_type": "code",
      "execution_count": null,
      "metadata": {
        "id": "KGkqWkkQICKj"
      },
      "outputs": [],
      "source": [
        "# Words associated with entailment\n",
        "entailment_words = [\n",
        "    \"instrument\", \"touching\", \"least\", \"humans\",\n",
        "    \"transportation\", \"speaking\", \"screen\", \"arts\",\n",
        "    \"activity\", \"opposing\", \"outdoors\", \"outside\"\n",
        "]\n",
        "\n",
        "# Words associated with neutral\n",
        "neutral_words = [\n",
        "    \"tall\", \"competition\", \"because\", \"birthday\",\n",
        "    \"mom\", \"win\", \"got\", \"trip\",\n",
        "    \"tries\", \"owner\"\n",
        "]\n",
        "\n",
        "# Words associated with contradiction\n",
        "contradiction_words = [\n",
        "    \"sleeping\", \"driving\", \"nobody\", \"alone\",\n",
        "    \"cat\", \"asleep\", \"no\", \"empty\",\n",
        "    \"eats\", \"sleeps\"\n",
        "]"
      ]
    },
    {
      "cell_type": "code",
      "execution_count": null,
      "metadata": {
        "id": "_Qtc6DEzHL0d"
      },
      "outputs": [],
      "source": [
        "def check_label_words(sentence, entailment_words, neutral_words, contradiction_words):\n",
        "    \"\"\"\n",
        "    Input: sentence (str) and three lists of inference related words.\n",
        "    Function: Checks if a sentence contains any words from the entailment, neutral, or contradiction word lists.\n",
        "    Output: three binary notations indicating whether associated words were present in the sentence.\n",
        "    \"\"\"\n",
        "\n",
        "    # Tokenize the sentence into words\n",
        "    sentence_words = set(sentence.lower().split())\n",
        "\n",
        "    # Check for matches in each list\n",
        "    entailment_flag = 1 if any(word in sentence_words for word in entailment_words) else 0\n",
        "    neutral_flag = 1 if any(word in sentence_words for word in neutral_words) else 0\n",
        "    contradiction_flag = 1 if any(word in sentence_words for word in contradiction_words) else 0\n",
        "\n",
        "    return entailment_flag, neutral_flag, contradiction_flag"
      ]
    },
    {
      "cell_type": "markdown",
      "metadata": {
        "id": "jQXPbvutRhx-"
      },
      "source": [
        "#### BLEU-score"
      ]
    },
    {
      "cell_type": "code",
      "execution_count": null,
      "metadata": {
        "id": "qCeGFX8yRlZ4"
      },
      "outputs": [],
      "source": [
        "def compute_bleu_scores(premise, hypothesis):\n",
        "    \"\"\"\n",
        "    Input: premise and hypothesis sentence (str)\n",
        "    Function: Compute BLEU scores for n-grams (1 to 4) between a premise and a hypothesis.\n",
        "    Output: Returns None for BLEU-N if N is greater than the length of either sentence.\n",
        "    \"\"\"\n",
        "\n",
        "    # Tokenize premise and hypothesis\n",
        "    premise_tokens = premise.lower().split()\n",
        "    hypothesis_tokens = hypothesis.lower().split()\n",
        "\n",
        "    # Store BLEU scores for different n-grams\n",
        "    bleu_scores = {}\n",
        "\n",
        "    for n in range(1, 5):\n",
        "        # Check if the hypothesis and premise are long enough for the n-gram\n",
        "        if len(premise_tokens) < n or len(hypothesis_tokens) < n:\n",
        "            bleu_scores[f'BLEU-{n}'] = None\n",
        "            continue\n",
        "\n",
        "        # BLEU computation with n-gram weights\n",
        "        weights = tuple((1/n if i < n else 0) for i in range(4))\n",
        "        bleu_score = sentence_bleu(\n",
        "            [premise_tokens],\n",
        "            hypothesis_tokens,\n",
        "            weights=weights,\n",
        "            smoothing_function=SmoothingFunction().method1\n",
        "        )\n",
        "        bleu_scores[f'BLEU-{n}'] = bleu_score\n",
        "\n",
        "    return bleu_scores"
      ]
    },
    {
      "cell_type": "markdown",
      "metadata": {
        "id": "UleNNFZogGs-"
      },
      "source": [
        "### Smart Features: Neutral"
      ]
    },
    {
      "cell_type": "code",
      "execution_count": null,
      "metadata": {
        "id": "HpvOQBYKvsYM",
        "colab": {
          "base_uri": "https://localhost:8080/"
        },
        "outputId": "306b76e5-0561-42fe-d8af-31f82d24c9af"
      },
      "outputs": [
        {
          "output_type": "stream",
          "name": "stderr",
          "text": [
            "[nltk_data] Downloading package wordnet to /root/nltk_data...\n"
          ]
        }
      ],
      "source": [
        "import nltk\n",
        "nltk.download('wordnet')\n",
        "from nltk.corpus import wordnet as wn\n",
        "from nltk.corpus.reader.wordnet import Lemma"
      ]
    },
    {
      "cell_type": "markdown",
      "metadata": {
        "id": "sCmr1HLCiuYs"
      },
      "source": [
        "#### Detail addition (hyponym)"
      ]
    },
    {
      "cell_type": "code",
      "execution_count": null,
      "metadata": {
        "id": "0vhKJrvA5rQU"
      },
      "outputs": [],
      "source": [
        "def check_hyponyms(words1, words2, pos=wn.NOUN):\n",
        "    \"\"\"\n",
        "    Input: Two lists of word tokens.\n",
        "    Function: Includes hardcoded hyponym checks for common animal-related terms, profession terms, person, and human-related terms.\n",
        "    Output: Returns 1 if any word in words2 is a hyponym of any word in words1, else 0.\n",
        "    \"\"\"\n",
        "\n",
        "    # Hardcoded list of specific hyponym relationships\n",
        "    specific_hyponyms = {\n",
        "        \"animal\": [\"dog\", \"cat\", \"lion\", \"elephant\", \"horse\", \"cow\", \"bird\", \"fish\"],  # general to specific animals\n",
        "        \"tree\": [\"oak\", \"pine\", \"maple\", \"birch\", \"cedar\"],  # general to tree types\n",
        "        \"flower\": [\"rose\", \"lily\", \"tulip\", \"sunflower\", \"daisy\"],  # general to flower types\n",
        "        \"vehicle\": [\"car\", \"truck\", \"bike\", \"motorcycle\", \"bus\"],  # general to vehicle types\n",
        "        \"fruit\": [\"apple\", \"banana\", \"cherry\", \"orange\", \"grape\"],  # general to fruits\n",
        "        \"profession\": [\"doctor\", \"engineer\", \"teacher\", \"lawyer\", \"chef\"],  # general to profession types\n",
        "        \"person\": [\"man\", \"woman\", \"girl\", \"boy\", \"child\", \"adult\"],  # person-related terms\n",
        "        \"human\": [\"man\", \"woman\", \"girl\", \"boy\", \"child\", \"adult\"],  # human-related terms\n",
        "    }\n",
        "\n",
        "    # Check if either list is empty or if the word lists contain only None values\n",
        "    if not words1 or not words2 or all(word is None for word in words1) or all(word is None for word in words2):\n",
        "        return 0\n",
        "\n",
        "    # Check for specific hardcoded hyponym relationships\n",
        "    for word1 in words1:\n",
        "        word1 = word1.lower()\n",
        "\n",
        "        # Check if word1 is in the general categories and if any word2 is in its specific hyponyms\n",
        "        for general_category, hyponyms in specific_hyponyms.items():\n",
        "            if word1 == general_category:  # If the word1 is a general category\n",
        "                for word2 in words2:\n",
        "                    if word2.lower() in hyponyms:\n",
        "                        return 1\n",
        "\n",
        "        # Otherwise, perform WordNet-based hyponym checks\n",
        "        synsets1 = wn.synsets(word1, pos=pos)\n",
        "        for syn1 in synsets1:\n",
        "            hyponyms1 = syn1.hyponyms()  # Get all hyponyms for the synset\n",
        "            for hyponym in hyponyms1:\n",
        "                hyponym_lemmas = {lemma.name() for lemma in hyponym.lemmas()}\n",
        "                for word2 in words2:\n",
        "                    if word2 is None:\n",
        "                        continue\n",
        "                    if word2.lower() in hyponym_lemmas and word1.lower() != word2.lower():\n",
        "                        return 1\n",
        "    return 0\n"
      ]
    },
    {
      "cell_type": "markdown",
      "metadata": {
        "id": "gB98bzL97e-F"
      },
      "source": [
        "#### Additional Purpose Clause"
      ]
    },
    {
      "cell_type": "code",
      "execution_count": null,
      "metadata": {
        "id": "hBgxIMYb-mzH"
      },
      "outputs": [],
      "source": [
        "def contains_purpose_clause_spacy2(doc):\n",
        "    \"\"\"\n",
        "    Input: doc (spacy.tokens.Doc): The parsed spaCy document.\n",
        "    Function: Detects if a sentence contains a purpose clause or 'for + a noun phrase' using SpaCy.\n",
        "    Output: (integer) 1 if a purpose clause or 'for + noun phrase' is found, 0 otherwise.\n",
        "    \"\"\"\n",
        "\n",
        "    for token in doc:\n",
        "      # Look for verbs followed by \"for\", \"to\", or \"so\"\n",
        "      if token.pos_ == \"VERB\":\n",
        "          for child in token.children:\n",
        "              if child.text in {\"for\", \"to\", \"so\"}:\n",
        "\n",
        "                  # Check for a purpose-related structure\n",
        "                  for grandchild in child.children:\n",
        "                      if grandchild.dep_ == \"pobj\" or grandchild.pos_ == \"VERB\":\n",
        "                          return 1\n",
        "\n",
        "      if token.text.lower() == \"for\" and token.dep_ == \"prep\":\n",
        "          if any(child.dep_ == \"pobj\" and child.pos_ in {\"NOUN\", \"PRON\", \"PROPN\"} for child in token.children):\n",
        "              return 1\n",
        "\n",
        "    return 0"
      ]
    },
    {
      "cell_type": "code",
      "execution_count": null,
      "metadata": {
        "id": "ieUtaet_O20N"
      },
      "outputs": [],
      "source": [
        "def contains_purpose_clause_spacy(doc):\n",
        "    \"\"\"\n",
        "    Input: doc (spacy.tokens.Doc): The parsed spaCy document.\n",
        "    Function: Detects if a sentence contains a purpose clause or 'for + a noun phrase' using SpaCy.\n",
        "    Output: (integer) 1 if a purpose clause or 'for + noun phrase' is found, 0 otherwise.\n",
        "    \"\"\"\n",
        "\n",
        "    # Iterate over tokens to check for purpose-related structures\n",
        "    for token in doc:\n",
        "        # Look for verbs followed by \"for\", \"to\", or \"so\"\n",
        "        if token.pos_ == \"VERB\" and any(child.text in {\"for\", \"to\", \"so\"} for child in token.children):\n",
        "            # Check for a purpose-related structure\n",
        "            if any(grandchild.dep_ == \"pobj\" or grandchild.pos_ == \"VERB\" for child in token.children for grandchild in child.children):\n",
        "                return 1\n",
        "\n",
        "        # Check for 'for + a noun phrase'\n",
        "        if token.text.lower() == \"for\" and token.dep_ == \"prep\":\n",
        "            if any(child.dep_ == \"pobj\" and child.pos_ in {\"NOUN\", \"PRON\", \"PROPN\"} for child in token.children):\n",
        "                return 1\n",
        "\n",
        "\n",
        "    return 0"
      ]
    },
    {
      "cell_type": "code",
      "execution_count": null,
      "metadata": {
        "id": "WoNZI8G77eQc"
      },
      "outputs": [],
      "source": [
        "def has_purpose_clause_simple(hypothesis, hypothesis_doc):\n",
        "    \"\"\"\n",
        "    Input: The hypothesis sentence (str) and hypothesis document (SpaCy annotation dictionary)\n",
        "    Function: Detects if the hypothesis contains a purpose clause using explicit phrases.\n",
        "    Output: (integer) 1 if a purpose clause is found, 0 otherwise.\n",
        "    \"\"\"\n",
        "\n",
        "    # Define purpose-indicating phrases\n",
        "    purpose_phrases = [\n",
        "        \"in order to\", \"for the purpose of\", \"so that\", \"for the sake of\",\n",
        "        \"aimed at\", \"with the goal of\", \"with the intention of\", \"in an attempt to\",\n",
        "        \"meant to\", \"designed to\", \"intended for\", \"so as to\", \"in order that\",\n",
        "        \"goal\", \"reason\", \"aim\", \"objective\", \"purpose\"\n",
        "    ]\n",
        "\n",
        "    hypothesis_lower = hypothesis.lower()\n",
        "\n",
        "    for phrase in purpose_phrases:\n",
        "        if phrase in hypothesis_lower:\n",
        "            return 1\n",
        "\n",
        "    if contains_purpose_clause_spacy(hypothesis_doc) == 1:\n",
        "        return 1\n",
        "\n",
        "    return 0"
      ]
    },
    {
      "cell_type": "markdown",
      "metadata": {
        "id": "ltoiYewygJzS"
      },
      "source": [
        "### Smart Features: Entailment"
      ]
    },
    {
      "cell_type": "code",
      "source": [
        "NLP = spacy.load(\"en_core_web_sm\")"
      ],
      "metadata": {
        "id": "EZ4ZHCx5sQ3R",
        "colab": {
          "base_uri": "https://localhost:8080/"
        },
        "outputId": "513458ca-0b24-4981-8740-d480e2755a0d"
      },
      "execution_count": null,
      "outputs": [
        {
          "output_type": "stream",
          "name": "stderr",
          "text": [
            "/usr/local/lib/python3.11/dist-packages/spacy/util.py:1740: UserWarning: [W111] Jupyter notebook detected: if using `prefer_gpu()` or `require_gpu()`, include it in the same cell right before `spacy.load()` to ensure that the model is loaded on the correct device. More information: http://spacy.io/usage/v3#jupyter-notebook-gpu\n",
            "  warnings.warn(Warnings.W111)\n"
          ]
        }
      ]
    },
    {
      "cell_type": "markdown",
      "metadata": {
        "id": "hJ5KGRAQyDgH"
      },
      "source": [
        "#### Generalization (hypernym)"
      ]
    },
    {
      "cell_type": "code",
      "execution_count": null,
      "metadata": {
        "id": "xMb2oKuCwXrG"
      },
      "outputs": [],
      "source": [
        "def extract_subject_object(sentence):\n",
        "    \"\"\"\n",
        "    Input: A string representing the sentence\n",
        "    Function: Extracts the subject, direct object, and prepositional objects from a given sentence using SpaCy.\n",
        "    Output: (tuple) containing subject (str or None), direct object (str or None) and prepositional objects (list)\n",
        "    \"\"\"\n",
        "\n",
        "    doc = sen2Doc[sentence]\n",
        "    subject = None\n",
        "    direct_object = None\n",
        "    prepositional_objects = []\n",
        "\n",
        "    for token in doc:\n",
        "        # Check for nominal subject\n",
        "        if token.dep_ == \"nsubj\":\n",
        "            subject = token.text\n",
        "        # Check for direct object (the noun receiving the action)\n",
        "        elif token.dep_ == \"dobj\":\n",
        "            direct_object = token.text\n",
        "        # Check for prepositional object (the object of a preposition)\n",
        "        elif token.dep_ == \"pobj\":\n",
        "            prepositional_objects.append(token.text)\n",
        "\n",
        "    return subject, direct_object, prepositional_objects"
      ]
    },
    {
      "cell_type": "code",
      "source": [
        "def extract_subject_object2(doc):\n",
        "    subject = None\n",
        "    direct_object = None\n",
        "    prepositional_objects = []\n",
        "\n",
        "    for token in doc:\n",
        "        # Check for nominal subject\n",
        "        if token.dep_ == \"nsubj\":\n",
        "            subject = token.text\n",
        "        # Check for direct object (the noun receiving the action)\n",
        "        elif token.dep_ == \"dobj\":\n",
        "            direct_object = token.text\n",
        "        # Check for prepositional object (the object of a preposition)\n",
        "        elif token.dep_ == \"pobj\":\n",
        "            prepositional_objects.append(token.text)\n",
        "\n",
        "    return [subject], [direct_object], prepositional_objects"
      ],
      "metadata": {
        "id": "nZUnlTVImjjK"
      },
      "execution_count": null,
      "outputs": []
    },
    {
      "cell_type": "code",
      "execution_count": null,
      "metadata": {
        "id": "bJ_QukokykBW"
      },
      "outputs": [],
      "source": [
        "def check_hypernyms(words1, words2, pos=wn.NOUN):\n",
        "    \"\"\"\n",
        "    Input: Two lists of word tokens.\n",
        "    Function: Checks whether word2 is a hypernym of word1 using SpaCy.\n",
        "    Additionally, includes hardcoded check for common animals and their hypernym \"animal\".\n",
        "    Output: Returns 1 if any word in words2 is a hypernym of any word in words1, else 0.\n",
        "    \"\"\"\n",
        "\n",
        "    # Common animals and their hypernym\n",
        "    animal_hypernyms = {\n",
        "        \"dog\": \"animal\", \"cat\": \"animal\", \"lion\": \"animal\", \"tiger\": \"animal\", \"elephant\": \"animal\",\n",
        "        \"horse\": \"animal\", \"cow\": \"animal\", \"sheep\": \"animal\", \"bird\": \"animal\", \"fish\": \"animal\",\n",
        "        \"rabbit\": \"animal\", \"bear\": \"animal\", \"wolf\": \"animal\", \"deer\": \"animal\", \"kangaroo\": \"animal\",\n",
        "        \"giraffe\": \"animal\", \"zebra\": \"animal\", \"hippopotamus\": \"animal\", \"leopard\": \"animal\", \"cheetah\": \"animal\",\n",
        "        \"whale\": \"animal\", \"dolphin\": \"animal\", \"shark\": \"animal\", \"penguin\": \"animal\", \"panda\": \"animal\",\n",
        "        \"koala\": \"animal\", \"octopus\": \"animal\", \"seal\": \"animal\", \"otter\": \"animal\"\n",
        "    }\n",
        "\n",
        "    # Human-related terms and their hypernym\n",
        "    human_related = {\n",
        "        \"woman\": \"human\", \"man\": \"human\", \"child\": \"human\", \"girl\": \"human\", \"boy\": \"human\", \"adult\": \"human\",\n",
        "        \"student\": \"human\", \"teacher\": \"human\", \"scientist\": \"human\", \"doctor\": \"human\", \"nurse\": \"human\",\n",
        "        \"patient\": \"human\", \"actor\": \"human\", \"actress\": \"human\", \"musician\": \"human\", \"author\": \"human\",\n",
        "        \"parent\": \"human\", \"son\": \"human\", \"daughter\": \"human\", \"baby\": \"human\", \"grandmother\": \"human\",\n",
        "        \"grandfather\": \"human\", \"sibling\": \"human\", \"manager\": \"human\", \"worker\": \"human\", \"engineer\": \"human\",\n",
        "        \"driver\": \"human\", \"chef\": \"human\", \"waiter\": \"human\", \"police\": \"human\", \"officer\": \"human\",\n",
        "        \"student\": \"human\", \"employee\": \"human\", \"employer\": \"human\", \"lawyer\": \"human\", \"judge\": \"human\"\n",
        "    }\n",
        "\n",
        "    # Person-related terms and their hypernym\n",
        "    person_related = {\n",
        "        \"woman\": \"person\", \"man\": \"person\", \"child\": \"person\", \"girl\": \"person\", \"boy\": \"person\", \"adult\": \"person\",\n",
        "        \"student\": \"person\", \"teacher\": \"person\", \"scientist\": \"person\", \"doctor\": \"person\", \"nurse\": \"person\",\n",
        "        \"patient\": \"person\", \"actor\": \"person\", \"actress\": \"person\", \"musician\": \"person\", \"author\": \"person\",\n",
        "        \"parent\": \"person\", \"son\": \"person\", \"daughter\": \"person\", \"baby\": \"person\", \"grandmother\": \"person\",\n",
        "        \"grandfather\": \"person\", \"sibling\": \"person\", \"manager\": \"person\", \"worker\": \"person\", \"engineer\": \"person\",\n",
        "        \"driver\": \"person\", \"chef\": \"person\", \"waiter\": \"person\", \"police\": \"person\", \"officer\": \"person\",\n",
        "        \"student\": \"person\", \"employee\": \"person\", \"employer\": \"person\", \"lawyer\": \"person\", \"judge\": \"person\"\n",
        "    }\n",
        "\n",
        "\n",
        "    if not words1 or not words2 or all(word is None for word in words1) or all(word is None for word in words2):\n",
        "        return 0\n",
        "\n",
        "    for word1 in words1:\n",
        "\n",
        "        if word1 is None:\n",
        "            continue\n",
        "\n",
        "        # Check for specific animal-to-animal hypernyms\n",
        "        if word1.lower() in animal_hypernyms and \"animal\" in words2:\n",
        "            return 1\n",
        "\n",
        "        # Check for specific human-related hypernyms\n",
        "        if word1.lower() in human_related and \"human\" in words2:\n",
        "            return 1\n",
        "\n",
        "        # Check for specific person-related hypernyms\n",
        "        if word1.lower() in person_related and \"person\" in words2:\n",
        "            return 1\n",
        "\n",
        "        # Otherwise, perform WordNet hypernym checks\n",
        "        synsets1 = wn.synsets(word1, pos=pos)\n",
        "        for syn1 in synsets1:\n",
        "            for hypernym in syn1.hypernyms():\n",
        "                hypernym_lemmas = {lemma.name() for lemma in hypernym.lemmas()}\n",
        "                for word2 in words2:\n",
        "                    if word2 is None:\n",
        "                        continue\n",
        "                    if word2 in hypernym_lemmas and word1.lower() != word2.lower():\n",
        "                        return 1\n",
        "    return 0\n"
      ]
    },
    {
      "cell_type": "markdown",
      "metadata": {
        "id": "BtokWWrBwP_M"
      },
      "source": [
        "#### Rephrasing the premise (synonym)"
      ]
    },
    {
      "cell_type": "code",
      "execution_count": null,
      "metadata": {
        "id": "NMIxjmZWwrPI"
      },
      "outputs": [],
      "source": [
        "def check_overlap(words1, words2, pos=wn.NOUN):\n",
        "    \"\"\"\n",
        "    Input: two word lists\n",
        "    Function: Iterates through all word pairs from the two input lists and performs a case-insensitive comparison to check for matching words.\n",
        "    Output: Returns 1 if any word pair from the lists is the same, else 0.\n",
        "    \"\"\"\n",
        "    if not words1 or not words2:\n",
        "        return 0\n",
        "\n",
        "    for word1 in words1:\n",
        "        for word2 in words2:\n",
        "            if word1.lower() == word2.lower():\n",
        "                return 1\n",
        "    return 0"
      ]
    },
    {
      "cell_type": "code",
      "source": [
        "def check_synonyms(words1, words2, pos=wn.NOUN):\n",
        "    \"\"\"\n",
        "    Input: two word lists\n",
        "    Function: Retrieves synonym sets for each word in both lists using WordNet and checks for intersections between these sets.\n",
        "    Output: Returns 1 if there is any overlap in the synonym sets of any word pair from the lists, else 0.\n",
        "    \"\"\"\n",
        "    if not words1 or not words2:\n",
        "        return 0\n",
        "\n",
        "    for word1 in words1:\n",
        "        synonyms1 = set(lemma.name() for synset in wn.synsets(word1, pos=pos) for lemma in synset.lemmas())\n",
        "        for word2 in words2:\n",
        "            synonyms2 = set(lemma.name() for synset in wn.synsets(word2, pos=pos) for lemma in synset.lemmas())\n",
        "            if synonyms1 & synonyms2:\n",
        "                return 1\n",
        "    return 0"
      ],
      "metadata": {
        "id": "ieGgxgR5eJfb"
      },
      "execution_count": null,
      "outputs": []
    },
    {
      "cell_type": "markdown",
      "metadata": {
        "id": "bvGgp3sagLyV"
      },
      "source": [
        "### Smart Features: Contradiction"
      ]
    },
    {
      "cell_type": "code",
      "execution_count": null,
      "metadata": {
        "colab": {
          "base_uri": "https://localhost:8080/"
        },
        "id": "vt2uuzY2gYoU",
        "outputId": "1d826124-fd5e-4933-ff00-2d446d3fb05d"
      },
      "outputs": [
        {
          "output_type": "stream",
          "name": "stdout",
          "text": [
            "Collecting vaderSentiment\n",
            "  Downloading vaderSentiment-3.3.2-py2.py3-none-any.whl.metadata (572 bytes)\n",
            "Requirement already satisfied: requests in /usr/local/lib/python3.11/dist-packages (from vaderSentiment) (2.32.3)\n",
            "Requirement already satisfied: charset-normalizer<4,>=2 in /usr/local/lib/python3.11/dist-packages (from requests->vaderSentiment) (3.4.1)\n",
            "Requirement already satisfied: idna<4,>=2.5 in /usr/local/lib/python3.11/dist-packages (from requests->vaderSentiment) (3.10)\n",
            "Requirement already satisfied: urllib3<3,>=1.21.1 in /usr/local/lib/python3.11/dist-packages (from requests->vaderSentiment) (2.3.0)\n",
            "Requirement already satisfied: certifi>=2017.4.17 in /usr/local/lib/python3.11/dist-packages (from requests->vaderSentiment) (2025.1.31)\n",
            "Downloading vaderSentiment-3.3.2-py2.py3-none-any.whl (125 kB)\n",
            "\u001b[?25l   \u001b[90m━━━━━━━━━━━━━━━━━━━━━━━━━━━━━━━━━━━━━━━━\u001b[0m \u001b[32m0.0/126.0 kB\u001b[0m \u001b[31m?\u001b[0m eta \u001b[36m-:--:--\u001b[0m\r\u001b[2K   \u001b[91m━━━━━━━━━━━━━━━━━━━━━━━━━━━━━━━━\u001b[0m\u001b[91m╸\u001b[0m\u001b[90m━━━━━━━\u001b[0m \u001b[32m102.4/126.0 kB\u001b[0m \u001b[31m2.8 MB/s\u001b[0m eta \u001b[36m0:00:01\u001b[0m\r\u001b[2K   \u001b[90m━━━━━━━━━━━━━━━━━━━━━━━━━━━━━━━━━━━━━━━━\u001b[0m \u001b[32m126.0/126.0 kB\u001b[0m \u001b[31m2.4 MB/s\u001b[0m eta \u001b[36m0:00:00\u001b[0m\n",
            "\u001b[?25hInstalling collected packages: vaderSentiment\n",
            "Successfully installed vaderSentiment-3.3.2\n"
          ]
        }
      ],
      "source": [
        "!pip install vaderSentiment\n",
        "from vaderSentiment.vaderSentiment import SentimentIntensityAnalyzer\n",
        "sentiment_analyzer = SentimentIntensityAnalyzer()\n",
        "\n",
        "NLP = spacy.load(\"en_core_web_sm\")"
      ]
    },
    {
      "cell_type": "markdown",
      "metadata": {
        "id": "8PZXmHtVG5IH"
      },
      "source": [
        "#### Adverb/Adjective Alteration"
      ]
    },
    {
      "cell_type": "code",
      "execution_count": null,
      "metadata": {
        "id": "PQdlnY4ZYs05"
      },
      "outputs": [],
      "source": [
        "def extract_modifiers(doc):\n",
        "    \"\"\"\n",
        "    Input: SpaCy Annotation Document.\n",
        "    Function: Extracts a mapping of nouns/verbs to their associated modifiers (adjectives/adverbs).\n",
        "    Output: Returns a dictionary where keys are nouns/verbs and values are sets of their corresponding modifiers.\n",
        "    \"\"\"\n",
        "\n",
        "    modifiers = {}\n",
        "    for token in doc:\n",
        "        if token.pos_ in ['ADJ', 'ADV'] and token.dep_ in ['amod', 'advmod']:\n",
        "            head_token = token.head\n",
        "            if head_token.pos_ in ['NOUN', 'VERB']:\n",
        "                head_text = head_token.text.lower()\n",
        "                if head_text not in modifiers:\n",
        "                    modifiers[head_text] = set()\n",
        "                modifiers[head_text].add(token.text.lower())\n",
        "    return modifiers"
      ]
    },
    {
      "cell_type": "code",
      "execution_count": null,
      "metadata": {
        "id": "G-KCero-r99g"
      },
      "outputs": [],
      "source": [
        "def are_words_synonyms(word1, word2):\n",
        "    \"\"\"\n",
        "    Input: Two words\n",
        "    Function: Retrieves synsets for both words and compares their similarity using WordNet’s Wu-Palmer similarity metric.\n",
        "    Output: Returns True if the similarity between any synset pair exceeds 0.9, indicating synonymy, else False.\n",
        "    \"\"\"\n",
        "\n",
        "    # Get the synsets for each word\n",
        "    synsets1 = wn.synsets(word1)\n",
        "    synsets2 = wn.synsets(word2)\n",
        "\n",
        "    # Check for synonymy (intersection of synsets)\n",
        "    for syn1 in synsets1:\n",
        "        for syn2 in synsets2:\n",
        "            if syn1.wup_similarity(syn2) is not None and syn1.wup_similarity(syn2) > 0.9:\n",
        "                return True\n",
        "\n",
        "    return False"
      ]
    },
    {
      "cell_type": "code",
      "execution_count": null,
      "metadata": {
        "id": "WJkcAYHDoOSO"
      },
      "outputs": [],
      "source": [
        "def are_words_related(word1, word2, similarity_threshold=0.8):\n",
        "    \"\"\"\n",
        "    Input: two word strings and an optional similarity treshold (float)\n",
        "    Function: Determines if two words are synonyms or antonyms using WordNet, considering synonyms of each word.\n",
        "    Output: (tuple) True if the words are synonyms/antonyms or highly similar.\n",
        "    \"\"\"\n",
        "\n",
        "    # hardcoded list of common color names\n",
        "    colors = {\n",
        "        \"red\", \"blue\", \"green\", \"yellow\", \"orange\", \"purple\",\n",
        "        \"pink\", \"brown\", \"black\", \"white\", \"gray\", \"grey\", \"cyan\", \"magenta\"\n",
        "    }\n",
        "\n",
        "    # special case: if both words are colors and different, treat them as distinct\n",
        "    if word1 in colors and word2 in colors and word1 != word2:\n",
        "        return False, True\n",
        "\n",
        "    # special case 2: old & elderly\n",
        "    if word1 == 'elderly' and word2 == 'old':\n",
        "        return True, False\n",
        "\n",
        "    if word1 == 'old' and word2 == 'elderly':\n",
        "        return True, False\n",
        "\n",
        "    is_synonym = False\n",
        "    is_antonym = False\n",
        "\n",
        "    # Get synsets for both words\n",
        "    synsets1 = wn.synsets(word1)\n",
        "    synsets2 = wn.synsets(word2)\n",
        "\n",
        "    # Create a set of candidate synonyms for each word\n",
        "    candidate_synonyms_word1 = set()\n",
        "    candidate_synonyms_word2 = set()\n",
        "\n",
        "    # Populate candidate synonyms for word1\n",
        "    for syn1 in synsets1:\n",
        "        candidate_synonyms_word1.update(lemma.name().lower() for lemma in syn1.lemmas())\n",
        "\n",
        "    # Populate candidate synonyms for word2\n",
        "    for syn2 in synsets2:\n",
        "        candidate_synonyms_word2.update(lemma.name().lower() for lemma in syn2.lemmas())\n",
        "\n",
        "    # Check for synonymy\n",
        "    for syn1 in synsets1:\n",
        "        for syn2 in synsets2:\n",
        "            # Check similarity between synsets\n",
        "            similarity = syn1.wup_similarity(syn2)\n",
        "            if similarity is not None and similarity >= similarity_threshold:\n",
        "                is_synonym = True\n",
        "\n",
        "    # Check for antonymy directly or through synonyms\n",
        "    for syn1 in synsets1:\n",
        "        for lemma1 in syn1.lemmas():\n",
        "            # Check if lemma1's antonyms match word2 or its synonyms\n",
        "            for antonym in lemma1.antonyms():\n",
        "                if antonym.name().lower() == word2.lower() or antonym.name().lower() in candidate_synonyms_word2:\n",
        "                    is_antonym = True\n",
        "            # Check if word1 or its synonyms are antonyms of word2's synonyms\n",
        "            for syn2 in synsets2:\n",
        "                for lemma2 in syn2.lemmas():\n",
        "                    if lemma2.name().lower() in candidate_synonyms_word1:\n",
        "                        for antonym in lemma2.antonyms():\n",
        "                            if antonym.name().lower() == word1.lower():\n",
        "                                is_antonym = True\n",
        "\n",
        "    return is_synonym, is_antonym"
      ]
    },
    {
      "cell_type": "code",
      "execution_count": null,
      "metadata": {
        "id": "ZTeZVwwGpRMu"
      },
      "outputs": [],
      "source": [
        "def compute_dif_adjs_advs(premise_doc, hypothesis_doc):\n",
        "    \"\"\"\n",
        "    Input: The parsed spaCy documents for the premise and hypothesis.\n",
        "    Function: Computes whether there are new/different adjectives or adverbs in the hypothesis\n",
        "    compared to the premise, accounting for both synonymy and antonymy using WordNet.\n",
        "    Ouput: (tuple) A flag indicating if differences exist (1 or 0) and the set of differing adjectives/adverbs.\n",
        "\n",
        "    \"\"\"\n",
        "\n",
        "    # Extract modifiers (adjectives and adverbs) from the premise and hypothesis\n",
        "    premise_modifiers = extract_modifiers(premise_doc)\n",
        "    hypothesis_modifiers = extract_modifiers(hypothesis_doc)\n",
        "\n",
        "    # Check for differences in modifiers\n",
        "    dif_adjs_advs = set()\n",
        "    for noun_or_verb, hypothesis_mods in hypothesis_modifiers.items():\n",
        "        # If the same noun/verb exists in the premise\n",
        "        if noun_or_verb in premise_modifiers:\n",
        "            # Find modifiers in the hypothesis that are not in the premise\n",
        "            new_mods = hypothesis_mods - premise_modifiers[noun_or_verb]\n",
        "\n",
        "            # Check if the new modifier is a synonym or antonym of any existing modifier in the premise\n",
        "            for new_mod in new_mods:\n",
        "                should_add = True\n",
        "                for premise_mod in premise_modifiers[noun_or_verb]:\n",
        "                    is_synonym, is_antonym = are_words_related(new_mod, premise_mod)\n",
        "\n",
        "                    # If they're synonyms but not antonyms, skip adding\n",
        "                    if is_synonym and not is_antonym:\n",
        "                        should_add = False\n",
        "                        break\n",
        "\n",
        "                    # If they're both synonyms and antonyms, add them\n",
        "                    if is_synonym and is_antonym:\n",
        "                        should_add = True\n",
        "                        break\n",
        "\n",
        "                if should_add:\n",
        "                    dif_adjs_advs.add(new_mod)\n",
        "\n",
        "        else:\n",
        "            continue\n",
        "\n",
        "    return (1 if dif_adjs_advs else 0, dif_adjs_advs)"
      ]
    },
    {
      "cell_type": "markdown",
      "metadata": {
        "id": "mwDgp5CbSq4g"
      },
      "source": [
        "#### Semantic Negation of Matching Terms"
      ]
    },
    {
      "cell_type": "code",
      "execution_count": null,
      "metadata": {
        "id": "4-Kx46ClSqkI"
      },
      "outputs": [],
      "source": [
        "def extract_negations(sentence):\n",
        "    \"\"\"\n",
        "    Input: A sentence (str)\n",
        "    Function: Extracts explicit negations (such as \"not\" or \"never\") and implicit negations using common negation prefixes from the parsed sentence.\n",
        "    Output: Returns a list of negation phrases or prefix-modified words.\n",
        "    \"\"\"\n",
        "\n",
        "    doc = sen2Doc[sentence]\n",
        "    negs = []\n",
        "    negation_prefixes = ['un', 'in', 'im', 'dis', 'non']\n",
        "\n",
        "    for token in doc:\n",
        "        # Check for explicit negations\n",
        "        if token.dep_ == 'neg':\n",
        "            neg_pair = f\"{token.text} {token.head.text}\"\n",
        "            negs.append(neg_pair)\n",
        "\n",
        "        # Check for implicit negation via prefixes\n",
        "        if token.pos_ in {\"ADJ\", \"VERB\", \"NOUN\"}:\n",
        "            lemma = token.lemma_\n",
        "            for prefix in negation_prefixes:\n",
        "                if lemma.startswith(prefix) and len(lemma) > len(prefix):\n",
        "                    root_word = lemma[len(prefix):]\n",
        "                    negs.append(f\"{prefix}-{root_word}\")\n",
        "    return negs\n",
        "\n",
        "\n",
        "def check_negation(anno1, anno2):\n",
        "    \"\"\"\n",
        "    Input: Two annotations from SpaCy Doc containing negation words and tokens.\n",
        "    Function: Checks for mismatched negation pairs by comparing unique negations and verifying if their parent words are present in both annotations.\n",
        "    Output: Returns 1 if a parent is common across both annotations despite differing negations, else 0.\n",
        "    \"\"\"\n",
        "    unique_negations = set(anno1['neg_word']).symmetric_difference(set(anno2['neg_word']))\n",
        "\n",
        "    for negation_pair in unique_negations:\n",
        "        parent = negation_pair.split()[1] if \" \" in negation_pair else negation_pair.split('-')[-1]\n",
        "\n",
        "        # Check whether the parent is present in both sentences\n",
        "        if (parent in anno1['tok']) and (parent in anno2['tok']):\n",
        "            return 1\n",
        "\n",
        "    return 0"
      ]
    },
    {
      "cell_type": "markdown",
      "metadata": {
        "id": "Ygu8AOf4dev9"
      },
      "source": [
        "#### Opposing Sentiment (VADER model)"
      ]
    },
    {
      "cell_type": "code",
      "execution_count": null,
      "metadata": {
        "id": "R4Cqz3e1diYd"
      },
      "outputs": [],
      "source": [
        "def get_sentiment(sentence):\n",
        "    \"\"\"\n",
        "    Input: A sentence (str)\n",
        "    Function: Analyzes the sentiment of the sentence using VADER sentiment analyzer and retrieves the compound score from the sentiment polarity scores.\n",
        "    Output: Returns 1 for positive sentiment (compound ≥ 0.05), -1 for negative sentiment (compound ≤ -0.05), and 0 for neutral sentiment (compound between -0.05 and 0.05).\n",
        "    \"\"\"\n",
        "    scores = sentiment_analyzer.polarity_scores(sentence)\n",
        "    compound = scores['compound']\n",
        "\n",
        "    if compound >= 0.05:\n",
        "        return 1\n",
        "    elif compound <= -0.05:\n",
        "        return -1\n",
        "    else:\n",
        "        return 0"
      ]
    },
    {
      "cell_type": "markdown",
      "metadata": {
        "id": "__bmVJJhphOl"
      },
      "source": [
        "#### Antagonym\n",
        "\n"
      ]
    },
    {
      "cell_type": "code",
      "execution_count": null,
      "metadata": {
        "id": "AWl3E-sZpm7V"
      },
      "outputs": [],
      "source": [
        "def get_antonyms(word):\n",
        "    \"\"\"\n",
        "    Input: A word (str)\n",
        "    Function: Retrieves antonyms of the given word by exploring WordNet synsets and their associated lemmas.\n",
        "    Output: Returns a set of antonyms for the given word.\n",
        "    \"\"\"\n",
        "    antonyms = []\n",
        "    for synset in wn.synsets(word, pos=wn.VERB):\n",
        "        for lemma in synset.lemmas():\n",
        "            for ant in lemma.antonyms():\n",
        "                antonyms.append(ant.name())\n",
        "    return set(antonyms)"
      ]
    },
    {
      "cell_type": "code",
      "execution_count": null,
      "metadata": {
        "id": "Z6NCZjTpzOgI"
      },
      "outputs": [],
      "source": [
        "def check_antagonyms(words1, words2):\n",
        "    \"\"\"\n",
        "    Returns 1 if any word in words2 is an antagonym (contronym) of any word in words1, else 0.\n",
        "    Uses both WordNet antonym relationships and a hardcoded list of known antagonyms.\n",
        "    \"\"\"\n",
        "\n",
        "    # Common antonyms\n",
        "    antagonyms = {\n",
        "        \"sanction\": [\"prohibit\", \"permit\"],\n",
        "        \"cleave\": [\"separate\", \"stick\"],\n",
        "        \"dust\": [\"remove\", \"add\"],\n",
        "        \"oversight\": [\"supervision\", \"error\"],\n",
        "        \"screen\": [\"hide\", \"show\"],\n",
        "        \"fast\": [\"quick\", \"stuck\"],\n",
        "        \"bound\": [\"moving\", \"tied\"],\n",
        "        \"custom\": [\"usual\", \"unique\"],\n",
        "    }\n",
        "\n",
        "    if not words1 or not words2 or all(word is None for word in words1) or all(word is None for word in words2):\n",
        "        return 0\n",
        "\n",
        "    for word1 in words1:\n",
        "        if word1 is None:\n",
        "            continue\n",
        "\n",
        "        if word1.lower() in antagonyms:\n",
        "            for word2 in words2:\n",
        "                if word2 in antagonyms[word1.lower()]:\n",
        "                    return 1\n",
        "\n",
        "        # Check for antonyms in WordNet\n",
        "        synsets1 = wn.synsets(word1)\n",
        "        for syn1 in synsets1:\n",
        "            for lemma in syn1.lemmas():\n",
        "                if lemma.antonyms():\n",
        "                    antonym_lemmas = {ant.name() for ant in lemma.antonyms()}\n",
        "                    for word2 in words2:\n",
        "                        if word2 is None:\n",
        "                            continue\n",
        "                        if word2 in antonym_lemmas and word1.lower() != word2.lower():\n",
        "                            return 1\n",
        "\n",
        "    return 0\n"
      ]
    },
    {
      "cell_type": "markdown",
      "metadata": {
        "id": "DQLel0AlvY-C"
      },
      "source": [
        "### Combining feature functions"
      ]
    },
    {
      "cell_type": "code",
      "execution_count": null,
      "metadata": {
        "id": "NjzKBnZ7UrRy"
      },
      "outputs": [],
      "source": [
        "def sen2features(sen, anno):\n",
        "    '''\n",
        "    Takes a sentence and its annotation and returns a dictionary\n",
        "    of feature:value that characterizes the sentence\n",
        "    '''\n",
        "    feats = {}\n",
        "\n",
        "    sen_doc = sen2Doc[sen]\n",
        "\n",
        "\n",
        "    # =================== SHALLOW FEATURES ===================\n",
        "\n",
        "    # === Pre-existing Features ===\n",
        "    # 1. number of tokens\n",
        "    feats['tok_num'] = len(anno['tok'])\n",
        "\n",
        "    # For improved version, see (12.)\n",
        "    # 2. number of negation words\n",
        "    # neg_words = \"n't no not\"\n",
        "    # feats['neg_num'] = len([ t for t in anno['tok'] if t.lower() in neg_words ])\n",
        "\n",
        "    # 3. number of nouns\n",
        "    feats['noun_num'] = len([ t for t in anno['pos'] if t == \"NNS\" or t == \"NN\" ])\n",
        "\n",
        "    # === Newly Added Features ===\n",
        "\n",
        "    # 4. number of verbs\n",
        "    feats['verb_num'] = len([ t for t in anno['pos'] if t == \"VB\" or t == \"VBD\" or t == 'VBG' or t == 'VBN' or t == 'VBP' or t == 'VBZ'])\n",
        "\n",
        "    # 5. number of adjectives\n",
        "    feats['adj_num'] = len([ t for t in anno['pos'] if t == \"JJ\" or t == \"JJR\" or t == 'JJS' or t == 'RB' or t == 'RBR' or t == 'RBS'])\n",
        "\n",
        "    # 6. number of upper case words\n",
        "    feats['uppcase_num'] = len([ t for t in anno['tok'] if any(c.isupper() for c in t) ])\n",
        "\n",
        "    # 7. number of characters\n",
        "    feats['char_num'] = len(sen.replace(\" \", \"\"))\n",
        "\n",
        "    # 8. number of punctuations\n",
        "    punctuations = \".,!?\"\n",
        "    feats['punc_num'] = len([ t for t in anno['tok'] if t in punctuations ])\n",
        "\n",
        "    # 9. number of articles/determiners\n",
        "    feats['art_num'] = len([ t for t in anno['pos'] if t == \"DT\"])\n",
        "\n",
        "    # 10. subject and objects\n",
        "    subject, direct_object, prepositional_objects = extract_subject_object(sen)\n",
        "    feats['subj'] = subject\n",
        "    feats['dobj'] = direct_object\n",
        "    feats['pobj'] = prepositional_objects\n",
        "\n",
        "    # 11. neg+word (list)\n",
        "    negations = extract_negations(sen)\n",
        "    feats['neg_word'] = negations\n",
        "\n",
        "    # 12. number of negations deeper (with help of spacy and more negation words)\n",
        "    feats['neg_num'] = find_negations(sen_doc)\n",
        "\n",
        "    # 13. sentiment score using VADER\n",
        "    feats['sentiment'] = get_sentiment(sen)\n",
        "\n",
        "    return {**feats, **anno}"
      ]
    },
    {
      "cell_type": "code",
      "execution_count": null,
      "metadata": {
        "colab": {
          "base_uri": "https://localhost:8080/"
        },
        "id": "vLIGFVRPXxFO",
        "outputId": "22bd3d6c-976c-4ea4-bbd2-ad429de75370"
      },
      "outputs": [
        {
          "output_type": "stream",
          "name": "stderr",
          "text": [
            "100%|██████████| 265569/265569 [00:48<00:00, 5527.67it/s]\n"
          ]
        }
      ],
      "source": [
        "# Add features to the sentence annotations\n",
        "s2af = { s: sen2features(s, a) for s, a in tqdm(sub_S2A.items()) }"
      ]
    },
    {
      "cell_type": "code",
      "execution_count": null,
      "metadata": {
        "colab": {
          "base_uri": "https://localhost:8080/"
        },
        "id": "AMht8gs4YOII",
        "outputId": "6f7e5143-5e61-424d-a9e3-45d917e62bfb"
      },
      "outputs": [
        {
          "output_type": "execute_result",
          "data": {
            "text/plain": [
              "{'tok_num': 8,\n",
              " 'noun_num': 2,\n",
              " 'verb_num': 1,\n",
              " 'adj_num': 1,\n",
              " 'uppcase_num': 1,\n",
              " 'char_num': 24,\n",
              " 'punc_num': 1,\n",
              " 'art_num': 1,\n",
              " 'subj': 'women',\n",
              " 'dobj': None,\n",
              " 'pobj': ['phone'],\n",
              " 'neg_word': ['not is'],\n",
              " 'neg_num': 1,\n",
              " 'sentiment': 0,\n",
              " 'tree': '(ROOT (S (NP (DT The) (NNS women)) (VP (VBZ is) (RB not) (PP (IN on) (NP (PRP$ her) (NN phone)))) (. .)))',\n",
              " 'btree': '( ( The women ) ( ( ( is not ) ( on ( her phone ) ) ) . ) )',\n",
              " 'tok': ['The', 'women', 'is', 'not', 'on', 'her', 'phone', '.'],\n",
              " 'pos': ['DT', 'NNS', 'VBZ', 'RB', 'IN', 'PRP$', 'NN', '.'],\n",
              " 'pids': {('train', '109770830.jpg#0r5c', 'h')}}"
            ]
          },
          "metadata": {},
          "execution_count": 47
        }
      ],
      "source": [
        "# an example of a sentence with feature-added annotations\n",
        "s2af['The women is not on her phone.']"
      ]
    },
    {
      "cell_type": "code",
      "execution_count": null,
      "metadata": {
        "id": "fshUfLIdPsyO"
      },
      "outputs": [],
      "source": [
        "from sklearn.feature_extraction.text import CountVectorizer\n",
        "from sklearn.metrics.pairwise import cosine_similarity\n",
        "\n",
        "def problem2features(sen1, anno1, sen2, anno2, sen_feats=set(['tok_num', 'neg_num', 'noun_numm'])):\n",
        "    '''\n",
        "    Takes two sentences and their anotations (_features) and returns a dictionary of\n",
        "    feature:value that characterizes the sentence pair, i.e. feature is about both sentences\n",
        "    '''\n",
        "    features = {}\n",
        "    # define the sentence-based features that will be part of the problem features\n",
        "    sen_feats = set('tok_num neg_num noun_num verb_num adj_num uppcase_num char_num, art_num, sentiment'.split())\n",
        "    sen1_feats = { f\"{k}1\": v for k, v in anno1.items() if k in sen_feats }\n",
        "    sen2_feats = { f\"{k}2\": v for k, v in anno2.items() if k in sen_feats }\n",
        "    # not very smart idea: putting single sentence-based features as pair features\n",
        "    features = {**sen1_feats, **sen2_feats} # merge two dicts\n",
        "\n",
        "    # token and POS sets for later use\n",
        "    premise_pos = anno1['pos']\n",
        "    hypothesis_pos = anno2['pos']\n",
        "\n",
        "    # obtains spacy doc for premise and hypothesis\n",
        "    premise_doc = sen2Doc[sen1]\n",
        "    hypothesis_doc = sen2Doc[sen2]\n",
        "\n",
        "\n",
        "    # =================== SHALLOW FEATURES ===================\n",
        "    # === Pre-existing Features ===\n",
        "    # pair-related features\n",
        "    # 1. If only one of the sentences has a negation\n",
        "    neg_set = set([anno1['neg_num'], anno2['neg_num']])\n",
        "    features['neg_diff'] = 1 if (0 in neg_set and len(neg_set) > 1) else 0\n",
        "\n",
        "    if anno2['neg_num'] > anno1['neg_num']:\n",
        "        features['more_neg_in_hyp'] = 1\n",
        "    else:\n",
        "        features['more_neg_in_hyp'] = 0\n",
        "\n",
        "    # 2. Difference in number of tokens between premise and hypothesis (from paper by Gururangan et al. (2018))\n",
        "    features['tok_diff'] = anno1['tok_num'] - anno2['tok_num']\n",
        "\n",
        "    # 3. Difference in nouns between premise and hypothesis\n",
        "    features['noun_diff'] = anno1['noun_num'] - anno2['noun_num']\n",
        "\n",
        "    # === Newly Added Features ===\n",
        "    # 4. Difference in number of verbs between premise and hypothesis\n",
        "    features['verb_diff'] = anno1['verb_num'] - anno2['verb_num']\n",
        "\n",
        "    # 5. Difference in number of adjectives between premise and hypothesis\n",
        "    features['adj_diff'] = anno1['adj_num'] - anno2['adj_num']\n",
        "\n",
        "    # 6. Jaccard similarity between premise and hypothesis\n",
        "    premise_set = set(anno1['tok'])\n",
        "    hypothesis_set = set(anno2['tok'])\n",
        "    features['jaccard_sim'] = len(premise_set & hypothesis_set) / len(premise_set | hypothesis_set)\n",
        "\n",
        "    # 7. Difference in number of uppercase characters between premise and hypothesis\n",
        "    features['uppcase_diff'] = anno1['uppcase_num'] - anno2['uppcase_num']\n",
        "\n",
        "    # 8. Difference in number of characters between premise and hypothesis\n",
        "    features['charnum_diff'] = anno1['char_num'] - anno2['char_num']\n",
        "\n",
        "    # 9. Difference in number of punctuation marks between premise and hypothesis\n",
        "    features['punc_diff'] = anno1['punc_num'] - anno2['punc_num']\n",
        "\n",
        "    # 10. Difference in number of articles/determiners between premise and hypothesis\n",
        "    features['art_diff'] = anno1['art_num'] - anno2['art_num']\n",
        "\n",
        "    # 11.  === Common words from paper by Poliak et al. (2018)\n",
        "    features['entailment_words'], features['neutral_words'], features['contradiction_words'] = check_label_words(sen2, entailment_words, neutral_words, contradiction_words)\n",
        "\n",
        "    # 12.  === Purpose clause in neutral labels from paper by Gururangan et al. (2018)\n",
        "    features['purpose_neutral'] = has_purpose_clause_simple(sen2, hypothesis_doc)\n",
        "\n",
        "    # 13. Sentiment score using VADER\n",
        "    # oposite sentiment (positive and negative)\n",
        "    if anno1['sentiment'] == 1 and anno2['sentiment'] == -1:\n",
        "        features['opposite_sentiment'] = 1\n",
        "    elif anno1['sentiment'] == -1 and anno2['sentiment'] == 1:\n",
        "        features['opposite_sentiment'] = 1\n",
        "    else:\n",
        "        features['opposite_sentiment'] = 0\n",
        "\n",
        "    # =================== SMART FEATURES ===================\n",
        "\n",
        "    # 14.  === (USING SPACY other way) Newly Added Smart Feature: Adjective and Adverb Additions ===\n",
        "    dif_adjs_advs_feature, dif_adjs_advs = compute_dif_adjs_advs(premise_doc, hypothesis_doc)\n",
        "    features['dif_adjs_advs'] = dif_adjs_advs_feature\n",
        "\n",
        "    if len(dif_adjs_advs) > 0:\n",
        "      features['dif_adjs_advs'] = 1\n",
        "\n",
        "    else:\n",
        "      features['dif_adjs_advs'] = 0\n",
        "\n",
        "    # 15. Check for hypernyms, hyponyms, antonyms and synonyms\n",
        "    prem_sub, prem_dobj, prem_pobj = extract_subject_object2(premise_doc)\n",
        "    hyp_sub, hyp_dobj, hyp_pobj = extract_subject_object2(hypothesis_doc)\n",
        "\n",
        "    features['sub_hypothesis_hyper'] = check_hypernyms(prem_sub, hyp_sub, pos=wn.NOUN)\n",
        "    features['dobj_hypothesis_hyper'] = check_hypernyms(prem_dobj, hyp_dobj, pos=wn.NOUN)\n",
        "    features['pobj_hypothesis_hyper'] = check_hypernyms(prem_pobj, hyp_pobj, pos=wn.NOUN)\n",
        "\n",
        "    features['sub_hypothesis_anto'] = check_antagonyms(prem_sub, hyp_sub)\n",
        "    features['dobj_hypothesis_anto'] = check_antagonyms(prem_dobj, hyp_dobj)\n",
        "    features['pobj_hypothesis_anto'] = check_antagonyms(prem_pobj, hyp_pobj)\n",
        "\n",
        "    features['sub_hypothesis_hypo'] = check_hyponyms(prem_sub, hyp_sub, pos=wn.NOUN)\n",
        "    features['dobj_hypothesis_hypo'] = check_hyponyms(prem_dobj, hyp_dobj, pos=wn.NOUN)\n",
        "    features['pobj_hypothesis_hypo'] = check_hyponyms(prem_pobj, hyp_pobj, pos=wn.NOUN)\n",
        "\n",
        "    features['subj_synonym'] = check_synonyms(anno1['subj'], anno2['subj'])\n",
        "    features['dobj_synonym'] = check_synonyms(anno1['dobj'], anno2['dobj'])\n",
        "    features['pobj_synonym'] = check_synonyms(anno1['pobj'], anno2['pobj'])\n",
        "\n",
        "    # 16. Presence of negation+word and word\n",
        "    # must be at least one negation in hypothesis XOR premise\n",
        "    features['neg_word_and_word'] = check_negation(anno1, anno2)\n",
        "\n",
        "    # === SHALLOW ===\n",
        "    # 17. BLEU-scores (n-gram 1 to 4)\n",
        "    bleu_scores = compute_bleu_scores(sen1, sen2)\n",
        "    features['BLEU1'] = bleu_scores['BLEU-1']\n",
        "    features['BLEU2'] = bleu_scores['BLEU-2']\n",
        "    features['BLEU3'] = bleu_scores['BLEU-3']\n",
        "    features['BLEU4'] = bleu_scores['BLEU-4']\n",
        "\n",
        "\n",
        "    return features"
      ]
    },
    {
      "cell_type": "code",
      "execution_count": null,
      "metadata": {
        "id": "W5BBptMfUGD-"
      },
      "outputs": [],
      "source": [
        "# You can modify the function, but it might not be necessary as it is pretty general\n",
        "def problems2df(data_dict, sen2af):\n",
        "    '''\n",
        "    Read a dictionary of NLI problems {pid->prob} and\n",
        "    a dictionary of sentence annotations {sent->anno_feats}\n",
        "    and represent each problem as a set of feature-values in DatFrame.\n",
        "    DataFrame offers an easy way of viewing and manipulating data.\n",
        "    Separate DataFrames are created for labels, features, and sentence pairs\n",
        "    https://pandas.pydata.org/pandas-docs/stable/user_guide/10min.html\n",
        "    '''\n",
        "    dict_of_feats = { pid: problem2features(prob['p'], sen2af[prob['p']], prob['h'], sen2af[prob['h']])\n",
        "                      for pid, prob in tqdm(data_dict.items()) }\n",
        "    # Use  {key : list or dict} to create DataFrame\n",
        "    gold_labels = { pid:[prob['g']] for pid, prob in data_dict.items() }\n",
        "    # Don't use label annotations as features as this will be cheating :)\n",
        "    # Create DataFrame for sentence pairs for visualization\n",
        "    pair_df = { pid:[f\"{prob['p']} ??? {prob['h']}\"] for pid, prob in tqdm(data_dict.items()) }\n",
        "    # make each problem charactersistics as a row\n",
        "    feat_df = pd.DataFrame(dict_of_feats).transpose()\n",
        "    lab_df = pd.DataFrame(gold_labels).transpose()\n",
        "    pair_df = pd.DataFrame(pair_df).transpose()\n",
        "    # match the order in label, feature and pair farmes\n",
        "    lab_df.reindex(feat_df.index)\n",
        "    pair_df.reindex(feat_df.index)\n",
        "    return feat_df, lab_df, pair_df"
      ]
    },
    {
      "cell_type": "code",
      "execution_count": null,
      "metadata": {
        "colab": {
          "base_uri": "https://localhost:8080/"
        },
        "id": "kUz1uh9WqFSp",
        "outputId": "5876e19e-4b21-4af0-ae9a-f7ffc6c6a45a"
      },
      "outputs": [
        {
          "output_type": "stream",
          "name": "stderr",
          "text": [
            "100%|██████████| 200000/200000 [04:14<00:00, 786.16it/s]\n",
            "100%|██████████| 200000/200000 [00:00<00:00, 450098.06it/s]\n"
          ]
        }
      ],
      "source": [
        "feat_df, lab_df, pair_df = problems2df(SNLI['sub_train3'], s2af)"
      ]
    },
    {
      "cell_type": "code",
      "execution_count": null,
      "metadata": {
        "colab": {
          "base_uri": "https://localhost:8080/",
          "height": 1000
        },
        "id": "s1eQ5ZHkrZhb",
        "outputId": "d3a67b1f-718d-4dc4-b9ed-c0da5dac3e18"
      },
      "outputs": [
        {
          "output_type": "execute_result",
          "data": {
            "text/plain": [
              "                                 0  tok_num1  noun_num1  verb_num1  adj_num1  \\\n",
              "1000092795.jpg#0r1c  contradiction      17.0        4.0        2.0       2.0   \n",
              "1000092795.jpg#0r1e     entailment      17.0        4.0        2.0       2.0   \n",
              "1000092795.jpg#0r1n        neutral      17.0        4.0        2.0       2.0   \n",
              "1000092795.jpg#1r1c  contradiction      11.0        2.0        1.0       4.0   \n",
              "1000092795.jpg#1r1e     entailment      11.0        2.0        1.0       4.0   \n",
              "...                            ...       ...        ...        ...       ...   \n",
              "3042488474.jpg#4r1c  contradiction       8.0        2.0        1.0       1.0   \n",
              "3042488474.jpg#4r1e     entailment       8.0        2.0        1.0       1.0   \n",
              "3042488474.jpg#4r1n        neutral       8.0        2.0        1.0       1.0   \n",
              "3042604058.jpg#0r1c  contradiction      10.0        3.0        2.0       0.0   \n",
              "3042604058.jpg#0r1e     entailment      10.0        3.0        2.0       0.0   \n",
              "\n",
              "                     uppcase_num1  neg_num1  sentiment1  tok_num2  noun_num2  \\\n",
              "1000092795.jpg#0r1c           1.0       0.0         0.0       6.0        1.0   \n",
              "1000092795.jpg#0r1e           1.0       0.0         0.0       6.0        2.0   \n",
              "1000092795.jpg#0r1n           1.0       0.0         0.0       4.0        1.0   \n",
              "1000092795.jpg#1r1c           2.0       0.0         0.0       5.0        1.0   \n",
              "1000092795.jpg#1r1e           2.0       0.0         0.0       9.0        2.0   \n",
              "...                           ...       ...         ...       ...        ...   \n",
              "3042488474.jpg#4r1c           0.0       0.0         0.0      13.0        3.0   \n",
              "3042488474.jpg#4r1e           0.0       0.0         0.0       7.0        1.0   \n",
              "3042488474.jpg#4r1n           0.0       0.0         0.0       8.0        3.0   \n",
              "3042604058.jpg#0r1c           1.0       0.0         1.0       8.0        2.0   \n",
              "3042604058.jpg#0r1e           1.0       0.0         1.0      12.0        3.0   \n",
              "\n",
              "                     ...  pobj_hypothesis_hypo  subj_synonym  dobj_synonym  \\\n",
              "1000092795.jpg#0r1c  ...                   0.0           1.0           0.0   \n",
              "1000092795.jpg#0r1e  ...                   0.0           1.0           0.0   \n",
              "1000092795.jpg#0r1n  ...                   0.0           1.0           0.0   \n",
              "1000092795.jpg#1r1c  ...                   0.0           1.0           0.0   \n",
              "1000092795.jpg#1r1e  ...                   0.0           1.0           0.0   \n",
              "...                  ...                   ...           ...           ...   \n",
              "3042488474.jpg#4r1c  ...                   0.0           1.0           0.0   \n",
              "3042488474.jpg#4r1e  ...                   0.0           0.0           0.0   \n",
              "3042488474.jpg#4r1n  ...                   0.0           1.0           0.0   \n",
              "3042604058.jpg#0r1c  ...                   0.0           1.0           0.0   \n",
              "3042604058.jpg#0r1e  ...                   0.0           1.0           0.0   \n",
              "\n",
              "                     pobj_synonym  neg_word_and_word     BLEU1     BLEU2  \\\n",
              "1000092795.jpg#0r1c           0.0                0.0  0.000000  0.000000   \n",
              "1000092795.jpg#0r1e           1.0                0.0  0.094438  0.018888   \n",
              "1000092795.jpg#0r1n           0.0                0.0  0.000000  0.000000   \n",
              "1000092795.jpg#1r1c           0.0                0.0  0.000000  0.000000   \n",
              "1000092795.jpg#1r1e           1.0                0.0  0.551561  0.083388   \n",
              "...                           ...                ...       ...       ...   \n",
              "3042488474.jpg#4r1c           0.0                0.0  0.416667  0.337100   \n",
              "3042488474.jpg#4r1e           0.0                0.0  0.423241  0.378558   \n",
              "3042488474.jpg#4r1n           1.0                0.0  0.428571  0.267261   \n",
              "3042604058.jpg#0r1c           0.0                0.0  0.214708  0.051857   \n",
              "3042604058.jpg#0r1e           1.0                0.0  0.454545  0.213201   \n",
              "\n",
              "                        BLEU3     BLEU4  \\\n",
              "1000092795.jpg#0r1c  0.000000  0.000000   \n",
              "1000092795.jpg#0r1e  0.011898  0.010148   \n",
              "1000092795.jpg#0r1n  0.000000  0.000000   \n",
              "1000092795.jpg#1r1c  0.000000  0.000000   \n",
              "1000092795.jpg#1r1e  0.046765  0.036655   \n",
              "...                       ...       ...   \n",
              "3042488474.jpg#4r1c  0.224822  0.106003   \n",
              "3042488474.jpg#4r1e  0.311847  0.171033   \n",
              "3042488474.jpg#4r1n  0.112625  0.077306   \n",
              "3042604058.jpg#0r1c  0.034318  0.029519   \n",
              "3042604058.jpg#0r1e  0.079636  0.050126   \n",
              "\n",
              "                                                                     0  \n",
              "1000092795.jpg#0r1c  Two young guys with shaggy hair look at their ...  \n",
              "1000092795.jpg#0r1e  Two young guys with shaggy hair look at their ...  \n",
              "1000092795.jpg#0r1n  Two young guys with shaggy hair look at their ...  \n",
              "1000092795.jpg#1r1c  Two young, White males are outside near many b...  \n",
              "1000092795.jpg#1r1e  Two young, White males are outside near many b...  \n",
              "...                                                                ...  \n",
              "3042488474.jpg#4r1c  a blond man looks at the camera. ??? A blond m...  \n",
              "3042488474.jpg#4r1e  a blond man looks at the camera. ??? A blond m...  \n",
              "3042488474.jpg#4r1n  a blond man looks at the camera. ??? The man i...  \n",
              "3042604058.jpg#0r1c  College students sitting on the floor cheering...  \n",
              "3042604058.jpg#0r1e  College students sitting on the floor cheering...  \n",
              "\n",
              "[200000 rows x 50 columns]"
            ],
            "text/html": [
              "\n",
              "  <div id=\"df-352de978-8487-4dc8-843b-1c58f49bea7d\" class=\"colab-df-container\">\n",
              "    <div>\n",
              "<style scoped>\n",
              "    .dataframe tbody tr th:only-of-type {\n",
              "        vertical-align: middle;\n",
              "    }\n",
              "\n",
              "    .dataframe tbody tr th {\n",
              "        vertical-align: top;\n",
              "    }\n",
              "\n",
              "    .dataframe thead th {\n",
              "        text-align: right;\n",
              "    }\n",
              "</style>\n",
              "<table border=\"1\" class=\"dataframe\">\n",
              "  <thead>\n",
              "    <tr style=\"text-align: right;\">\n",
              "      <th></th>\n",
              "      <th>0</th>\n",
              "      <th>tok_num1</th>\n",
              "      <th>noun_num1</th>\n",
              "      <th>verb_num1</th>\n",
              "      <th>adj_num1</th>\n",
              "      <th>uppcase_num1</th>\n",
              "      <th>neg_num1</th>\n",
              "      <th>sentiment1</th>\n",
              "      <th>tok_num2</th>\n",
              "      <th>noun_num2</th>\n",
              "      <th>...</th>\n",
              "      <th>pobj_hypothesis_hypo</th>\n",
              "      <th>subj_synonym</th>\n",
              "      <th>dobj_synonym</th>\n",
              "      <th>pobj_synonym</th>\n",
              "      <th>neg_word_and_word</th>\n",
              "      <th>BLEU1</th>\n",
              "      <th>BLEU2</th>\n",
              "      <th>BLEU3</th>\n",
              "      <th>BLEU4</th>\n",
              "      <th>0</th>\n",
              "    </tr>\n",
              "  </thead>\n",
              "  <tbody>\n",
              "    <tr>\n",
              "      <th>1000092795.jpg#0r1c</th>\n",
              "      <td>contradiction</td>\n",
              "      <td>17.0</td>\n",
              "      <td>4.0</td>\n",
              "      <td>2.0</td>\n",
              "      <td>2.0</td>\n",
              "      <td>1.0</td>\n",
              "      <td>0.0</td>\n",
              "      <td>0.0</td>\n",
              "      <td>6.0</td>\n",
              "      <td>1.0</td>\n",
              "      <td>...</td>\n",
              "      <td>0.0</td>\n",
              "      <td>1.0</td>\n",
              "      <td>0.0</td>\n",
              "      <td>0.0</td>\n",
              "      <td>0.0</td>\n",
              "      <td>0.000000</td>\n",
              "      <td>0.000000</td>\n",
              "      <td>0.000000</td>\n",
              "      <td>0.000000</td>\n",
              "      <td>Two young guys with shaggy hair look at their ...</td>\n",
              "    </tr>\n",
              "    <tr>\n",
              "      <th>1000092795.jpg#0r1e</th>\n",
              "      <td>entailment</td>\n",
              "      <td>17.0</td>\n",
              "      <td>4.0</td>\n",
              "      <td>2.0</td>\n",
              "      <td>2.0</td>\n",
              "      <td>1.0</td>\n",
              "      <td>0.0</td>\n",
              "      <td>0.0</td>\n",
              "      <td>6.0</td>\n",
              "      <td>2.0</td>\n",
              "      <td>...</td>\n",
              "      <td>0.0</td>\n",
              "      <td>1.0</td>\n",
              "      <td>0.0</td>\n",
              "      <td>1.0</td>\n",
              "      <td>0.0</td>\n",
              "      <td>0.094438</td>\n",
              "      <td>0.018888</td>\n",
              "      <td>0.011898</td>\n",
              "      <td>0.010148</td>\n",
              "      <td>Two young guys with shaggy hair look at their ...</td>\n",
              "    </tr>\n",
              "    <tr>\n",
              "      <th>1000092795.jpg#0r1n</th>\n",
              "      <td>neutral</td>\n",
              "      <td>17.0</td>\n",
              "      <td>4.0</td>\n",
              "      <td>2.0</td>\n",
              "      <td>2.0</td>\n",
              "      <td>1.0</td>\n",
              "      <td>0.0</td>\n",
              "      <td>0.0</td>\n",
              "      <td>4.0</td>\n",
              "      <td>1.0</td>\n",
              "      <td>...</td>\n",
              "      <td>0.0</td>\n",
              "      <td>1.0</td>\n",
              "      <td>0.0</td>\n",
              "      <td>0.0</td>\n",
              "      <td>0.0</td>\n",
              "      <td>0.000000</td>\n",
              "      <td>0.000000</td>\n",
              "      <td>0.000000</td>\n",
              "      <td>0.000000</td>\n",
              "      <td>Two young guys with shaggy hair look at their ...</td>\n",
              "    </tr>\n",
              "    <tr>\n",
              "      <th>1000092795.jpg#1r1c</th>\n",
              "      <td>contradiction</td>\n",
              "      <td>11.0</td>\n",
              "      <td>2.0</td>\n",
              "      <td>1.0</td>\n",
              "      <td>4.0</td>\n",
              "      <td>2.0</td>\n",
              "      <td>0.0</td>\n",
              "      <td>0.0</td>\n",
              "      <td>5.0</td>\n",
              "      <td>1.0</td>\n",
              "      <td>...</td>\n",
              "      <td>0.0</td>\n",
              "      <td>1.0</td>\n",
              "      <td>0.0</td>\n",
              "      <td>0.0</td>\n",
              "      <td>0.0</td>\n",
              "      <td>0.000000</td>\n",
              "      <td>0.000000</td>\n",
              "      <td>0.000000</td>\n",
              "      <td>0.000000</td>\n",
              "      <td>Two young, White males are outside near many b...</td>\n",
              "    </tr>\n",
              "    <tr>\n",
              "      <th>1000092795.jpg#1r1e</th>\n",
              "      <td>entailment</td>\n",
              "      <td>11.0</td>\n",
              "      <td>2.0</td>\n",
              "      <td>1.0</td>\n",
              "      <td>4.0</td>\n",
              "      <td>2.0</td>\n",
              "      <td>0.0</td>\n",
              "      <td>0.0</td>\n",
              "      <td>9.0</td>\n",
              "      <td>2.0</td>\n",
              "      <td>...</td>\n",
              "      <td>0.0</td>\n",
              "      <td>1.0</td>\n",
              "      <td>0.0</td>\n",
              "      <td>1.0</td>\n",
              "      <td>0.0</td>\n",
              "      <td>0.551561</td>\n",
              "      <td>0.083388</td>\n",
              "      <td>0.046765</td>\n",
              "      <td>0.036655</td>\n",
              "      <td>Two young, White males are outside near many b...</td>\n",
              "    </tr>\n",
              "    <tr>\n",
              "      <th>...</th>\n",
              "      <td>...</td>\n",
              "      <td>...</td>\n",
              "      <td>...</td>\n",
              "      <td>...</td>\n",
              "      <td>...</td>\n",
              "      <td>...</td>\n",
              "      <td>...</td>\n",
              "      <td>...</td>\n",
              "      <td>...</td>\n",
              "      <td>...</td>\n",
              "      <td>...</td>\n",
              "      <td>...</td>\n",
              "      <td>...</td>\n",
              "      <td>...</td>\n",
              "      <td>...</td>\n",
              "      <td>...</td>\n",
              "      <td>...</td>\n",
              "      <td>...</td>\n",
              "      <td>...</td>\n",
              "      <td>...</td>\n",
              "      <td>...</td>\n",
              "    </tr>\n",
              "    <tr>\n",
              "      <th>3042488474.jpg#4r1c</th>\n",
              "      <td>contradiction</td>\n",
              "      <td>8.0</td>\n",
              "      <td>2.0</td>\n",
              "      <td>1.0</td>\n",
              "      <td>1.0</td>\n",
              "      <td>0.0</td>\n",
              "      <td>0.0</td>\n",
              "      <td>0.0</td>\n",
              "      <td>13.0</td>\n",
              "      <td>3.0</td>\n",
              "      <td>...</td>\n",
              "      <td>0.0</td>\n",
              "      <td>1.0</td>\n",
              "      <td>0.0</td>\n",
              "      <td>0.0</td>\n",
              "      <td>0.0</td>\n",
              "      <td>0.416667</td>\n",
              "      <td>0.337100</td>\n",
              "      <td>0.224822</td>\n",
              "      <td>0.106003</td>\n",
              "      <td>a blond man looks at the camera. ??? A blond m...</td>\n",
              "    </tr>\n",
              "    <tr>\n",
              "      <th>3042488474.jpg#4r1e</th>\n",
              "      <td>entailment</td>\n",
              "      <td>8.0</td>\n",
              "      <td>2.0</td>\n",
              "      <td>1.0</td>\n",
              "      <td>1.0</td>\n",
              "      <td>0.0</td>\n",
              "      <td>0.0</td>\n",
              "      <td>0.0</td>\n",
              "      <td>7.0</td>\n",
              "      <td>1.0</td>\n",
              "      <td>...</td>\n",
              "      <td>0.0</td>\n",
              "      <td>0.0</td>\n",
              "      <td>0.0</td>\n",
              "      <td>0.0</td>\n",
              "      <td>0.0</td>\n",
              "      <td>0.423241</td>\n",
              "      <td>0.378558</td>\n",
              "      <td>0.311847</td>\n",
              "      <td>0.171033</td>\n",
              "      <td>a blond man looks at the camera. ??? A blond m...</td>\n",
              "    </tr>\n",
              "    <tr>\n",
              "      <th>3042488474.jpg#4r1n</th>\n",
              "      <td>neutral</td>\n",
              "      <td>8.0</td>\n",
              "      <td>2.0</td>\n",
              "      <td>1.0</td>\n",
              "      <td>1.0</td>\n",
              "      <td>0.0</td>\n",
              "      <td>0.0</td>\n",
              "      <td>0.0</td>\n",
              "      <td>8.0</td>\n",
              "      <td>3.0</td>\n",
              "      <td>...</td>\n",
              "      <td>0.0</td>\n",
              "      <td>1.0</td>\n",
              "      <td>0.0</td>\n",
              "      <td>1.0</td>\n",
              "      <td>0.0</td>\n",
              "      <td>0.428571</td>\n",
              "      <td>0.267261</td>\n",
              "      <td>0.112625</td>\n",
              "      <td>0.077306</td>\n",
              "      <td>a blond man looks at the camera. ??? The man i...</td>\n",
              "    </tr>\n",
              "    <tr>\n",
              "      <th>3042604058.jpg#0r1c</th>\n",
              "      <td>contradiction</td>\n",
              "      <td>10.0</td>\n",
              "      <td>3.0</td>\n",
              "      <td>2.0</td>\n",
              "      <td>0.0</td>\n",
              "      <td>1.0</td>\n",
              "      <td>0.0</td>\n",
              "      <td>1.0</td>\n",
              "      <td>8.0</td>\n",
              "      <td>2.0</td>\n",
              "      <td>...</td>\n",
              "      <td>0.0</td>\n",
              "      <td>1.0</td>\n",
              "      <td>0.0</td>\n",
              "      <td>0.0</td>\n",
              "      <td>0.0</td>\n",
              "      <td>0.214708</td>\n",
              "      <td>0.051857</td>\n",
              "      <td>0.034318</td>\n",
              "      <td>0.029519</td>\n",
              "      <td>College students sitting on the floor cheering...</td>\n",
              "    </tr>\n",
              "    <tr>\n",
              "      <th>3042604058.jpg#0r1e</th>\n",
              "      <td>entailment</td>\n",
              "      <td>10.0</td>\n",
              "      <td>3.0</td>\n",
              "      <td>2.0</td>\n",
              "      <td>0.0</td>\n",
              "      <td>1.0</td>\n",
              "      <td>0.0</td>\n",
              "      <td>1.0</td>\n",
              "      <td>12.0</td>\n",
              "      <td>3.0</td>\n",
              "      <td>...</td>\n",
              "      <td>0.0</td>\n",
              "      <td>1.0</td>\n",
              "      <td>0.0</td>\n",
              "      <td>1.0</td>\n",
              "      <td>0.0</td>\n",
              "      <td>0.454545</td>\n",
              "      <td>0.213201</td>\n",
              "      <td>0.079636</td>\n",
              "      <td>0.050126</td>\n",
              "      <td>College students sitting on the floor cheering...</td>\n",
              "    </tr>\n",
              "  </tbody>\n",
              "</table>\n",
              "<p>200000 rows × 50 columns</p>\n",
              "</div>\n",
              "    <div class=\"colab-df-buttons\">\n",
              "\n",
              "  <div class=\"colab-df-container\">\n",
              "    <button class=\"colab-df-convert\" onclick=\"convertToInteractive('df-352de978-8487-4dc8-843b-1c58f49bea7d')\"\n",
              "            title=\"Convert this dataframe to an interactive table.\"\n",
              "            style=\"display:none;\">\n",
              "\n",
              "  <svg xmlns=\"http://www.w3.org/2000/svg\" height=\"24px\" viewBox=\"0 -960 960 960\">\n",
              "    <path d=\"M120-120v-720h720v720H120Zm60-500h600v-160H180v160Zm220 220h160v-160H400v160Zm0 220h160v-160H400v160ZM180-400h160v-160H180v160Zm440 0h160v-160H620v160ZM180-180h160v-160H180v160Zm440 0h160v-160H620v160Z\"/>\n",
              "  </svg>\n",
              "    </button>\n",
              "\n",
              "  <style>\n",
              "    .colab-df-container {\n",
              "      display:flex;\n",
              "      gap: 12px;\n",
              "    }\n",
              "\n",
              "    .colab-df-convert {\n",
              "      background-color: #E8F0FE;\n",
              "      border: none;\n",
              "      border-radius: 50%;\n",
              "      cursor: pointer;\n",
              "      display: none;\n",
              "      fill: #1967D2;\n",
              "      height: 32px;\n",
              "      padding: 0 0 0 0;\n",
              "      width: 32px;\n",
              "    }\n",
              "\n",
              "    .colab-df-convert:hover {\n",
              "      background-color: #E2EBFA;\n",
              "      box-shadow: 0px 1px 2px rgba(60, 64, 67, 0.3), 0px 1px 3px 1px rgba(60, 64, 67, 0.15);\n",
              "      fill: #174EA6;\n",
              "    }\n",
              "\n",
              "    .colab-df-buttons div {\n",
              "      margin-bottom: 4px;\n",
              "    }\n",
              "\n",
              "    [theme=dark] .colab-df-convert {\n",
              "      background-color: #3B4455;\n",
              "      fill: #D2E3FC;\n",
              "    }\n",
              "\n",
              "    [theme=dark] .colab-df-convert:hover {\n",
              "      background-color: #434B5C;\n",
              "      box-shadow: 0px 1px 3px 1px rgba(0, 0, 0, 0.15);\n",
              "      filter: drop-shadow(0px 1px 2px rgba(0, 0, 0, 0.3));\n",
              "      fill: #FFFFFF;\n",
              "    }\n",
              "  </style>\n",
              "\n",
              "    <script>\n",
              "      const buttonEl =\n",
              "        document.querySelector('#df-352de978-8487-4dc8-843b-1c58f49bea7d button.colab-df-convert');\n",
              "      buttonEl.style.display =\n",
              "        google.colab.kernel.accessAllowed ? 'block' : 'none';\n",
              "\n",
              "      async function convertToInteractive(key) {\n",
              "        const element = document.querySelector('#df-352de978-8487-4dc8-843b-1c58f49bea7d');\n",
              "        const dataTable =\n",
              "          await google.colab.kernel.invokeFunction('convertToInteractive',\n",
              "                                                    [key], {});\n",
              "        if (!dataTable) return;\n",
              "\n",
              "        const docLinkHtml = 'Like what you see? Visit the ' +\n",
              "          '<a target=\"_blank\" href=https://colab.research.google.com/notebooks/data_table.ipynb>data table notebook</a>'\n",
              "          + ' to learn more about interactive tables.';\n",
              "        element.innerHTML = '';\n",
              "        dataTable['output_type'] = 'display_data';\n",
              "        await google.colab.output.renderOutput(dataTable, element);\n",
              "        const docLink = document.createElement('div');\n",
              "        docLink.innerHTML = docLinkHtml;\n",
              "        element.appendChild(docLink);\n",
              "      }\n",
              "    </script>\n",
              "  </div>\n",
              "\n",
              "\n",
              "<div id=\"df-b8f5bbbe-c593-4129-879d-6057549e4b18\">\n",
              "  <button class=\"colab-df-quickchart\" onclick=\"quickchart('df-b8f5bbbe-c593-4129-879d-6057549e4b18')\"\n",
              "            title=\"Suggest charts\"\n",
              "            style=\"display:none;\">\n",
              "\n",
              "<svg xmlns=\"http://www.w3.org/2000/svg\" height=\"24px\"viewBox=\"0 0 24 24\"\n",
              "     width=\"24px\">\n",
              "    <g>\n",
              "        <path d=\"M19 3H5c-1.1 0-2 .9-2 2v14c0 1.1.9 2 2 2h14c1.1 0 2-.9 2-2V5c0-1.1-.9-2-2-2zM9 17H7v-7h2v7zm4 0h-2V7h2v10zm4 0h-2v-4h2v4z\"/>\n",
              "    </g>\n",
              "</svg>\n",
              "  </button>\n",
              "\n",
              "<style>\n",
              "  .colab-df-quickchart {\n",
              "      --bg-color: #E8F0FE;\n",
              "      --fill-color: #1967D2;\n",
              "      --hover-bg-color: #E2EBFA;\n",
              "      --hover-fill-color: #174EA6;\n",
              "      --disabled-fill-color: #AAA;\n",
              "      --disabled-bg-color: #DDD;\n",
              "  }\n",
              "\n",
              "  [theme=dark] .colab-df-quickchart {\n",
              "      --bg-color: #3B4455;\n",
              "      --fill-color: #D2E3FC;\n",
              "      --hover-bg-color: #434B5C;\n",
              "      --hover-fill-color: #FFFFFF;\n",
              "      --disabled-bg-color: #3B4455;\n",
              "      --disabled-fill-color: #666;\n",
              "  }\n",
              "\n",
              "  .colab-df-quickchart {\n",
              "    background-color: var(--bg-color);\n",
              "    border: none;\n",
              "    border-radius: 50%;\n",
              "    cursor: pointer;\n",
              "    display: none;\n",
              "    fill: var(--fill-color);\n",
              "    height: 32px;\n",
              "    padding: 0;\n",
              "    width: 32px;\n",
              "  }\n",
              "\n",
              "  .colab-df-quickchart:hover {\n",
              "    background-color: var(--hover-bg-color);\n",
              "    box-shadow: 0 1px 2px rgba(60, 64, 67, 0.3), 0 1px 3px 1px rgba(60, 64, 67, 0.15);\n",
              "    fill: var(--button-hover-fill-color);\n",
              "  }\n",
              "\n",
              "  .colab-df-quickchart-complete:disabled,\n",
              "  .colab-df-quickchart-complete:disabled:hover {\n",
              "    background-color: var(--disabled-bg-color);\n",
              "    fill: var(--disabled-fill-color);\n",
              "    box-shadow: none;\n",
              "  }\n",
              "\n",
              "  .colab-df-spinner {\n",
              "    border: 2px solid var(--fill-color);\n",
              "    border-color: transparent;\n",
              "    border-bottom-color: var(--fill-color);\n",
              "    animation:\n",
              "      spin 1s steps(1) infinite;\n",
              "  }\n",
              "\n",
              "  @keyframes spin {\n",
              "    0% {\n",
              "      border-color: transparent;\n",
              "      border-bottom-color: var(--fill-color);\n",
              "      border-left-color: var(--fill-color);\n",
              "    }\n",
              "    20% {\n",
              "      border-color: transparent;\n",
              "      border-left-color: var(--fill-color);\n",
              "      border-top-color: var(--fill-color);\n",
              "    }\n",
              "    30% {\n",
              "      border-color: transparent;\n",
              "      border-left-color: var(--fill-color);\n",
              "      border-top-color: var(--fill-color);\n",
              "      border-right-color: var(--fill-color);\n",
              "    }\n",
              "    40% {\n",
              "      border-color: transparent;\n",
              "      border-right-color: var(--fill-color);\n",
              "      border-top-color: var(--fill-color);\n",
              "    }\n",
              "    60% {\n",
              "      border-color: transparent;\n",
              "      border-right-color: var(--fill-color);\n",
              "    }\n",
              "    80% {\n",
              "      border-color: transparent;\n",
              "      border-right-color: var(--fill-color);\n",
              "      border-bottom-color: var(--fill-color);\n",
              "    }\n",
              "    90% {\n",
              "      border-color: transparent;\n",
              "      border-bottom-color: var(--fill-color);\n",
              "    }\n",
              "  }\n",
              "</style>\n",
              "\n",
              "  <script>\n",
              "    async function quickchart(key) {\n",
              "      const quickchartButtonEl =\n",
              "        document.querySelector('#' + key + ' button');\n",
              "      quickchartButtonEl.disabled = true;  // To prevent multiple clicks.\n",
              "      quickchartButtonEl.classList.add('colab-df-spinner');\n",
              "      try {\n",
              "        const charts = await google.colab.kernel.invokeFunction(\n",
              "            'suggestCharts', [key], {});\n",
              "      } catch (error) {\n",
              "        console.error('Error during call to suggestCharts:', error);\n",
              "      }\n",
              "      quickchartButtonEl.classList.remove('colab-df-spinner');\n",
              "      quickchartButtonEl.classList.add('colab-df-quickchart-complete');\n",
              "    }\n",
              "    (() => {\n",
              "      let quickchartButtonEl =\n",
              "        document.querySelector('#df-b8f5bbbe-c593-4129-879d-6057549e4b18 button');\n",
              "      quickchartButtonEl.style.display =\n",
              "        google.colab.kernel.accessAllowed ? 'block' : 'none';\n",
              "    })();\n",
              "  </script>\n",
              "</div>\n",
              "\n",
              "  <div id=\"id_c512a7a3-d20c-46f9-b5a2-54e542c153c4\">\n",
              "    <style>\n",
              "      .colab-df-generate {\n",
              "        background-color: #E8F0FE;\n",
              "        border: none;\n",
              "        border-radius: 50%;\n",
              "        cursor: pointer;\n",
              "        display: none;\n",
              "        fill: #1967D2;\n",
              "        height: 32px;\n",
              "        padding: 0 0 0 0;\n",
              "        width: 32px;\n",
              "      }\n",
              "\n",
              "      .colab-df-generate:hover {\n",
              "        background-color: #E2EBFA;\n",
              "        box-shadow: 0px 1px 2px rgba(60, 64, 67, 0.3), 0px 1px 3px 1px rgba(60, 64, 67, 0.15);\n",
              "        fill: #174EA6;\n",
              "      }\n",
              "\n",
              "      [theme=dark] .colab-df-generate {\n",
              "        background-color: #3B4455;\n",
              "        fill: #D2E3FC;\n",
              "      }\n",
              "\n",
              "      [theme=dark] .colab-df-generate:hover {\n",
              "        background-color: #434B5C;\n",
              "        box-shadow: 0px 1px 3px 1px rgba(0, 0, 0, 0.15);\n",
              "        filter: drop-shadow(0px 1px 2px rgba(0, 0, 0, 0.3));\n",
              "        fill: #FFFFFF;\n",
              "      }\n",
              "    </style>\n",
              "    <button class=\"colab-df-generate\" onclick=\"generateWithVariable('df')\"\n",
              "            title=\"Generate code using this dataframe.\"\n",
              "            style=\"display:none;\">\n",
              "\n",
              "  <svg xmlns=\"http://www.w3.org/2000/svg\" height=\"24px\"viewBox=\"0 0 24 24\"\n",
              "       width=\"24px\">\n",
              "    <path d=\"M7,19H8.4L18.45,9,17,7.55,7,17.6ZM5,21V16.75L18.45,3.32a2,2,0,0,1,2.83,0l1.4,1.43a1.91,1.91,0,0,1,.58,1.4,1.91,1.91,0,0,1-.58,1.4L9.25,21ZM18.45,9,17,7.55Zm-12,3A5.31,5.31,0,0,0,4.9,8.1,5.31,5.31,0,0,0,1,6.5,5.31,5.31,0,0,0,4.9,4.9,5.31,5.31,0,0,0,6.5,1,5.31,5.31,0,0,0,8.1,4.9,5.31,5.31,0,0,0,12,6.5,5.46,5.46,0,0,0,6.5,12Z\"/>\n",
              "  </svg>\n",
              "    </button>\n",
              "    <script>\n",
              "      (() => {\n",
              "      const buttonEl =\n",
              "        document.querySelector('#id_c512a7a3-d20c-46f9-b5a2-54e542c153c4 button.colab-df-generate');\n",
              "      buttonEl.style.display =\n",
              "        google.colab.kernel.accessAllowed ? 'block' : 'none';\n",
              "\n",
              "      buttonEl.onclick = () => {\n",
              "        google.colab.notebook.generateWithVariable('df');\n",
              "      }\n",
              "      })();\n",
              "    </script>\n",
              "  </div>\n",
              "\n",
              "    </div>\n",
              "  </div>\n"
            ],
            "application/vnd.google.colaboratory.intrinsic+json": {
              "type": "dataframe",
              "variable_name": "df"
            }
          },
          "metadata": {},
          "execution_count": 51
        }
      ],
      "source": [
        "# Let's put all three dataframes together for visualization\n",
        "# Press the magic wand icon after the frame appears\n",
        "df = pd.concat([lab_df, feat_df, pair_df], axis=1)\n",
        "df"
      ]
    },
    {
      "cell_type": "markdown",
      "metadata": {
        "id": "B2RdZNuOqLJ3"
      },
      "source": [
        "## Training and Evaluation"
      ]
    },
    {
      "cell_type": "markdown",
      "source": [
        "This section contains the code we implemented to find all the performance results we included in the paper. This includes code to see the performance on the pre-development set, code to find the optimal hyperparameters, and the final evaluation on the SNLI test set."
      ],
      "metadata": {
        "id": "e7qx6R0lilrK"
      }
    },
    {
      "cell_type": "markdown",
      "source": [
        "### Splitting the smart and shallow features and training example"
      ],
      "metadata": {
        "id": "2RCBMTJcqLJ5"
      }
    },
    {
      "cell_type": "code",
      "execution_count": null,
      "metadata": {
        "id": "xm1Y_plhqLJ6"
      },
      "outputs": [],
      "source": [
        "feat_df\n",
        "\n",
        "shallow_features = ['tok_num1', 'noun_num1', 'verb_num1', 'adj_num1', 'uppcase_num1',\n",
        "       'neg_num1', 'sentiment1', 'tok_num2', 'noun_num2', 'verb_num2',\n",
        "       'adj_num2', 'uppcase_num2', 'neg_num2', 'sentiment2', 'neg_diff',\n",
        "       'more_neg_in_hyp', 'tok_diff', 'noun_diff', 'verb_diff', 'adj_diff',\n",
        "       'jaccard_sim', 'uppcase_diff', 'charnum_diff', 'punc_diff', 'art_diff',\n",
        "       'entailment_words', 'neutral_words', 'contradiction_words', 'BLEU1', 'BLEU2', 'BLEU3', 'BLEU4']\n",
        "\n",
        "smart_features = ['purpose_neutral', 'sub_hypothesis_hypo', 'dobj_hypothesis_hypo',\n",
        "       'pobj_hypothesis_hypo', 'sub_hypothesis_hyper', 'dobj_hypothesis_hyper',\n",
        "       'pobj_hypothesis_hyper', 'subj_synonym',\n",
        "       'dobj_synonym', 'pobj_synonym', 'dif_adjs_advs', 'neg_word_and_word', 'sub_hypothesis_anto', 'dobj_hypothesis_anto',\n",
        "       'pobj_hypothesis_anto',  'opposite_sentiment']\n",
        "\n",
        "# Split the DataFrame into two parts for analysis on both feature types\n",
        "shallow_df = feat_df[shallow_features]\n",
        "smart_df = feat_df[smart_features]"
      ]
    },
    {
      "cell_type": "code",
      "execution_count": null,
      "metadata": {
        "id": "jERS2oo-qLJ6"
      },
      "outputs": [],
      "source": [
        "# Just an example with decision trees\n",
        "from sklearn.tree import DecisionTreeClassifier as DTC\n",
        "\n",
        "# initializing a DT classifier and training it\n",
        "DT = DTC(criterion=\"gini\", max_depth=10, random_state=0)\n",
        "default_DT = DT.fit(feat_df, lab_df)\n",
        "\n",
        "MODEL = {'cheater': default_DT}"
      ]
    },
    {
      "cell_type": "markdown",
      "metadata": {
        "id": "2RNgzg2NqLJ7"
      },
      "source": [
        "### Evaluation functions"
      ]
    },
    {
      "cell_type": "code",
      "execution_count": null,
      "metadata": {
        "id": "62xwGlRAqLJ7"
      },
      "outputs": [],
      "source": [
        "def evaluate(model, dataset, sen2anno):\n",
        "    \"\"\"\n",
        "    function to evaluate on both feature types\n",
        "    \"\"\"\n",
        "\n",
        "    # a sample code wich is adapted to the previous code about decision trees\n",
        "    s2af = { s: sen2features(s, a) for s, a in tqdm(sen2anno.items()) }\n",
        "    feat_df, lab_df, pair_df = problems2df(dataset, s2af)\n",
        "\n",
        "    pred_list = model.predict(feat_df)\n",
        "    return pred_list.tolist(), lab_df.values.squeeze().tolist()"
      ]
    },
    {
      "cell_type": "code",
      "execution_count": null,
      "metadata": {
        "id": "abZzLtCuqLJ7"
      },
      "outputs": [],
      "source": [
        "def evaluate2(model, dataset, sen2anno):\n",
        "    \"\"\"\n",
        "    function to evaluate on smart features only\n",
        "    \"\"\"\n",
        "\n",
        "    # Extract feature values and labels only for shallow_features\n",
        "    s2af = {s: sen2features(s, a) for s, a in tqdm(sen2anno.items())}\n",
        "    smart_df, lab_df, pair_df = problems2df(dataset, s2af)\n",
        "\n",
        "    # Ensure only shallow features are used for prediction\n",
        "    smart_df = smart_df[smart_features]\n",
        "\n",
        "    # Predict using the trained model\n",
        "    pred_list = model.predict(smart_df)\n",
        "\n",
        "    return pred_list.tolist(), lab_df.values.squeeze().tolist()"
      ]
    },
    {
      "cell_type": "code",
      "execution_count": null,
      "metadata": {
        "id": "2oaelZPoqLJ8"
      },
      "outputs": [],
      "source": [
        "def evaluate3(model, dataset, sen2anno):\n",
        "    \"\"\"\n",
        "    function to evaluate on shallow features only\n",
        "    \"\"\"\n",
        "\n",
        "    # Extract feature values and labels only for shallow_features\n",
        "    s2af = {s: sen2features(s, a) for s, a in tqdm(sen2anno.items())}\n",
        "    shallow_df, lab_df, pair_df = problems2df(dataset, s2af)\n",
        "\n",
        "    # Ensure only shallow features are used for prediction\n",
        "    shallow_df = shallow_df[shallow_features]\n",
        "\n",
        "    # Predict using the trained model\n",
        "    pred_list = model.predict(shallow_df)\n",
        "\n",
        "    return pred_list.tolist(), lab_df.values.squeeze().tolist()"
      ]
    },
    {
      "cell_type": "markdown",
      "source": [
        "### Evaluating on the pre-development set"
      ],
      "metadata": {
        "id": "GRu53fMLhWD8"
      }
    },
    {
      "cell_type": "code",
      "source": [
        "from nltk.metrics.scores import accuracy as Accuracy\n",
        "from nltk.metrics import ConfusionMatrix"
      ],
      "metadata": {
        "id": "FKXSkSQes3cX"
      },
      "execution_count": null,
      "outputs": []
    },
    {
      "cell_type": "code",
      "execution_count": null,
      "metadata": {
        "id": "0BnLJ7gSqLJ8",
        "colab": {
          "base_uri": "https://localhost:8080/"
        },
        "outputId": "8bc3e284-3688-401d-f47e-993fa9287dc2"
      },
      "outputs": [
        {
          "output_type": "stream",
          "name": "stderr",
          "text": [
            "100%|██████████| 19542/19542 [00:01<00:00, 10761.59it/s]\n",
            "100%|██████████| 10000/10000 [00:12<00:00, 794.47it/s]\n",
            "100%|██████████| 10000/10000 [00:00<00:00, 382252.52it/s]\n"
          ]
        },
        {
          "output_type": "stream",
          "name": "stdout",
          "text": [
            "====================================cheater=====================================\n",
            "              |    c           |\n",
            "              |    o           |\n",
            "              |    n           |\n",
            "              |    t    e      |\n",
            "              |    r    n      |\n",
            "              |    a    t      |\n",
            "              |    d    a    n |\n",
            "              |    i    i    e |\n",
            "              |    c    l    u |\n",
            "              |    t    m    t |\n",
            "              |    i    e    r |\n",
            "              |    o    n    a |\n",
            "              |    n    t    l |\n",
            "--------------+----------------+\n",
            "contradiction |<1818> 813  733 |\n",
            "   entailment |  572<2226> 512 |\n",
            "      neutral | 1041  763<1522>|\n",
            "--------------+----------------+\n",
            "(row = reference; col = test)\n",
            "\n",
            "Accuracy = 0.5566\n",
            "================================================================================\n"
          ]
        }
      ],
      "source": [
        "# TEST\n",
        "S2A_dev = sen2anno_from_nli_problems(SNLI['dev_set_new'], S2A)\n",
        "\n",
        "for name in MODEL:\n",
        "    pred, gold = evaluate(MODEL[name], SNLI['dev_set_new'], S2A_dev)\n",
        "    print(f\"{name:=^80}\")\n",
        "    cm = ConfusionMatrix(gold, pred)  # Ensure labels match unique gold values\n",
        "    print(cm)\n",
        "    print(f\"Accuracy = {Accuracy(gold, pred)}\")\n",
        "    print(f\"{'':=^80}\")"
      ]
    },
    {
      "cell_type": "markdown",
      "metadata": {
        "id": "T5mjlOj1qLJ9"
      },
      "source": [
        "### Find hyperparameters with SNLI development set"
      ]
    },
    {
      "cell_type": "markdown",
      "metadata": {
        "id": "oxMOmFt0qLJ9"
      },
      "source": [
        "#### max_depth"
      ]
    },
    {
      "cell_type": "code",
      "execution_count": null,
      "metadata": {
        "id": "1Q289dUMqLJ9",
        "colab": {
          "base_uri": "https://localhost:8080/"
        },
        "outputId": "858b4d11-c77b-4193-c5bc-5ff5c08d34cc"
      },
      "outputs": [
        {
          "output_type": "stream",
          "name": "stderr",
          "text": [
            "100%|██████████| 12982/12982 [00:01<00:00, 11270.72it/s]\n",
            "100%|██████████| 9842/9842 [00:27<00:00, 360.66it/s]\n",
            "100%|██████████| 9842/9842 [00:00<00:00, 736491.35it/s]\n",
            "100%|██████████| 12982/12982 [00:01<00:00, 10504.14it/s]\n",
            "100%|██████████| 9842/9842 [00:12<00:00, 762.99it/s]\n",
            "100%|██████████| 9842/9842 [00:00<00:00, 807549.98it/s]\n",
            "100%|██████████| 12982/12982 [00:01<00:00, 11048.49it/s]\n",
            "100%|██████████| 9842/9842 [00:13<00:00, 751.20it/s]\n",
            "100%|██████████| 9842/9842 [00:00<00:00, 840158.34it/s]\n",
            "100%|██████████| 12982/12982 [00:01<00:00, 11042.58it/s]\n",
            "100%|██████████| 9842/9842 [00:12<00:00, 761.91it/s]\n",
            "100%|██████████| 9842/9842 [00:00<00:00, 800844.68it/s]\n",
            "100%|██████████| 12982/12982 [00:01<00:00, 11258.76it/s]\n",
            "100%|██████████| 9842/9842 [00:15<00:00, 638.99it/s]\n",
            "100%|██████████| 9842/9842 [00:00<00:00, 762248.69it/s]\n",
            "100%|██████████| 12982/12982 [00:01<00:00, 10971.43it/s]\n",
            "100%|██████████| 9842/9842 [00:13<00:00, 745.36it/s]\n",
            "100%|██████████| 9842/9842 [00:00<00:00, 784111.61it/s]\n",
            "100%|██████████| 12982/12982 [00:01<00:00, 10875.52it/s]\n",
            "100%|██████████| 9842/9842 [00:13<00:00, 742.66it/s]\n",
            "100%|██████████| 9842/9842 [00:00<00:00, 801295.49it/s]\n"
          ]
        },
        {
          "output_type": "stream",
          "name": "stdout",
          "text": [
            "[0.540743751270067, 0.5476529160739687, 0.5505994716521032, 0.555984555984556, 0.5518187360292623, 0.5545620808778704, 0.5541556594188173]\n"
          ]
        }
      ],
      "source": [
        "max_depth_values = [8, 9, 10, 11, 12, 13, 14]\n",
        "accuracies = []\n",
        "\n",
        "S2A_dev = sen2anno_from_nli_problems(SNLI['dev'], S2A)\n",
        "\n",
        "for max_depth_value in max_depth_values:\n",
        "    DT_find_maxdepth = DTC(criterion=\"gini\", max_depth=max_depth_value, random_state=0)\n",
        "    maxdepth_DT = DT_find_maxdepth.fit(feat_df, lab_df)\n",
        "    pred, gold = evaluate(maxdepth_DT, SNLI['dev'], S2A_dev)\n",
        "    accuracies.append(Accuracy(gold, pred))\n",
        "\n",
        "\n",
        "print(accuracies)"
      ]
    },
    {
      "cell_type": "code",
      "execution_count": null,
      "metadata": {
        "id": "hi9t7FCeqLJ-",
        "colab": {
          "base_uri": "https://localhost:8080/"
        },
        "outputId": "235600e4-a4aa-4e33-b105-e922640e13cb"
      },
      "outputs": [
        {
          "output_type": "stream",
          "name": "stdout",
          "text": [
            "max_depth_values:  [8, 9, 10, 11, 12, 13, 14]\n",
            "accuracies:  [0.540743751270067, 0.5476529160739687, 0.5505994716521032, 0.555984555984556, 0.5518187360292623, 0.5545620808778704, 0.5541556594188173]\n",
            "best max_depth accuracy:  0.555984555984556\n",
            "max depth value:  11\n"
          ]
        }
      ],
      "source": [
        "max_value = max(accuracies)\n",
        "max_index = accuracies.index(max_value)\n",
        "print('max_depth_values: ', max_depth_values)\n",
        "print('accuracies: ', accuracies)\n",
        "print('best max_depth accuracy: ',  max_value)\n",
        "print('max depth value: ', max_depth_values[max_index])"
      ]
    },
    {
      "cell_type": "markdown",
      "metadata": {
        "id": "Ow3kIHSbqLJ-"
      },
      "source": [
        "#### min_samples_split"
      ]
    },
    {
      "cell_type": "code",
      "execution_count": null,
      "metadata": {
        "id": "vedkm_gBqLJ_",
        "colab": {
          "base_uri": "https://localhost:8080/"
        },
        "outputId": "7de6bf66-3b35-4fe1-f565-c19423db2a33"
      },
      "outputs": [
        {
          "output_type": "stream",
          "name": "stderr",
          "text": [
            "100%|██████████| 12982/12982 [00:01<00:00, 10934.24it/s]\n",
            "100%|██████████| 9842/9842 [00:13<00:00, 747.06it/s]\n",
            "100%|██████████| 9842/9842 [00:00<00:00, 777627.20it/s]\n",
            "100%|██████████| 12982/12982 [00:01<00:00, 6937.99it/s]\n",
            "100%|██████████| 9842/9842 [00:13<00:00, 747.44it/s]\n",
            "100%|██████████| 9842/9842 [00:00<00:00, 693693.96it/s]\n",
            "100%|██████████| 12982/12982 [00:01<00:00, 10961.47it/s]\n",
            "100%|██████████| 9842/9842 [00:13<00:00, 740.95it/s]\n",
            "100%|██████████| 9842/9842 [00:00<00:00, 820112.05it/s]\n",
            "100%|██████████| 12982/12982 [00:01<00:00, 11070.81it/s]\n",
            "100%|██████████| 9842/9842 [00:13<00:00, 739.50it/s]\n",
            "100%|██████████| 9842/9842 [00:00<00:00, 726958.53it/s]\n",
            "100%|██████████| 12982/12982 [00:01<00:00, 6952.88it/s]\n",
            "100%|██████████| 9842/9842 [00:13<00:00, 728.08it/s]\n",
            "100%|██████████| 9842/9842 [00:00<00:00, 828789.35it/s]\n",
            "100%|██████████| 12982/12982 [00:01<00:00, 10653.25it/s]\n",
            "100%|██████████| 9842/9842 [00:13<00:00, 747.10it/s]\n",
            "100%|██████████| 9842/9842 [00:00<00:00, 663703.07it/s]\n"
          ]
        },
        {
          "output_type": "stream",
          "name": "stdout",
          "text": [
            "[0.5575086364560049, 0.5584230847388743, 0.558727900833164, 0.5589311115626905, 0.5577118471855314, 0.5573054257264783]\n"
          ]
        }
      ],
      "source": [
        "min_samples_split_values = [400, 500, 600, 700, 800, 900]\n",
        "\n",
        "accuracies2 = []\n",
        "\n",
        "S2A_dev = sen2anno_from_nli_problems(SNLI['dev'], S2A)\n",
        "\n",
        "for min_samples_split_value in min_samples_split_values:\n",
        "    DT_find_minsamples = DTC(criterion=\"gini\", max_depth=11, min_samples_split=min_samples_split_value, random_state=0)\n",
        "    minsamples_DT = DT_find_minsamples.fit(feat_df, lab_df)\n",
        "    pred, gold = evaluate(minsamples_DT, SNLI['dev'], S2A_dev)\n",
        "    accuracies2.append(Accuracy(gold, pred))\n",
        "\n",
        "\n",
        "print(accuracies2)"
      ]
    },
    {
      "cell_type": "code",
      "execution_count": null,
      "metadata": {
        "id": "ccAhlD1zqLJ_",
        "colab": {
          "base_uri": "https://localhost:8080/"
        },
        "outputId": "72492741-9920-48ff-cf00-c0ad5863fb71"
      },
      "outputs": [
        {
          "output_type": "stream",
          "name": "stdout",
          "text": [
            "min_sample_split_values:  [400, 500, 600, 700, 800, 900]\n",
            "accuracies:  [0.5575086364560049, 0.5584230847388743, 0.558727900833164, 0.5589311115626905, 0.5577118471855314, 0.5573054257264783]\n",
            "best min_samples_split accuracy:  0.5589311115626905\n",
            "min samples split value:  700\n"
          ]
        }
      ],
      "source": [
        "max_value2 = max(accuracies2)\n",
        "max_index2 = accuracies2.index(max_value2)\n",
        "print('min_sample_split_values: ', min_samples_split_values)\n",
        "print('accuracies: ', accuracies2)\n",
        "print('best min_samples_split accuracy: ',  max_value2)\n",
        "print('min samples split value: ', min_samples_split_values[max_index2])"
      ]
    },
    {
      "cell_type": "markdown",
      "metadata": {
        "id": "RoB7WhKtqLKA"
      },
      "source": [
        "#### min_samples_leaf"
      ]
    },
    {
      "cell_type": "code",
      "execution_count": null,
      "metadata": {
        "id": "IK1C6zaGqLKA",
        "colab": {
          "base_uri": "https://localhost:8080/"
        },
        "outputId": "9726ff61-ae72-4d0c-9587-3f483848131d"
      },
      "outputs": [
        {
          "output_type": "stream",
          "name": "stderr",
          "text": [
            "100%|██████████| 12982/12982 [00:01<00:00, 7575.08it/s]\n",
            "100%|██████████| 9842/9842 [00:14<00:00, 662.54it/s]\n",
            "100%|██████████| 9842/9842 [00:00<00:00, 347700.04it/s]\n",
            "100%|██████████| 12982/12982 [00:01<00:00, 10621.26it/s]\n",
            "100%|██████████| 9842/9842 [00:13<00:00, 750.40it/s]\n",
            "100%|██████████| 9842/9842 [00:00<00:00, 779639.27it/s]\n",
            "100%|██████████| 12982/12982 [00:01<00:00, 10973.98it/s]\n",
            "100%|██████████| 9842/9842 [00:13<00:00, 755.19it/s]\n",
            "100%|██████████| 9842/9842 [00:00<00:00, 740866.49it/s]\n",
            "100%|██████████| 12982/12982 [00:01<00:00, 11107.48it/s]\n",
            "100%|██████████| 9842/9842 [00:13<00:00, 745.20it/s]\n",
            "100%|██████████| 9842/9842 [00:00<00:00, 694814.85it/s]\n",
            "100%|██████████| 12982/12982 [00:01<00:00, 10950.52it/s]\n",
            "100%|██████████| 9842/9842 [00:12<00:00, 758.27it/s]\n",
            "100%|██████████| 9842/9842 [00:00<00:00, 771898.13it/s]\n",
            "100%|██████████| 12982/12982 [00:01<00:00, 11127.19it/s]\n",
            "100%|██████████| 9842/9842 [00:12<00:00, 774.78it/s]\n",
            "100%|██████████| 9842/9842 [00:00<00:00, 777876.31it/s]\n",
            "100%|██████████| 12982/12982 [00:01<00:00, 10910.57it/s]\n",
            "100%|██████████| 9842/9842 [00:12<00:00, 779.03it/s]\n",
            "100%|██████████| 9842/9842 [00:00<00:00, 890775.97it/s]\n"
          ]
        },
        {
          "output_type": "stream",
          "name": "stdout",
          "text": [
            "[0.559134322292217, 0.5592359276569803, 0.5592359276569803, 0.5592359276569803, 0.5592359276569803, 0.5590327169274538, 0.5589311115626905]\n"
          ]
        }
      ],
      "source": [
        "min_samples_leaf_values = [3, 5, 7, 9, 10, 11, 13]\n",
        "\n",
        "accuracies3 = []\n",
        "\n",
        "S2A_dev = sen2anno_from_nli_problems(SNLI['dev'], S2A)\n",
        "\n",
        "for min_samples_leaf_value in min_samples_leaf_values:\n",
        "    DT_find_minleafs = DTC(criterion=\"gini\", max_depth=11, min_samples_split=700, min_samples_leaf=min_samples_leaf_value, random_state=0)\n",
        "    minleafs_DT = DT_find_minleafs.fit(feat_df, lab_df)\n",
        "    pred, gold = evaluate(minleafs_DT, SNLI['dev'], S2A_dev)\n",
        "    accuracies3.append(Accuracy(gold, pred))\n",
        "\n",
        "\n",
        "print(accuracies3)"
      ]
    },
    {
      "cell_type": "code",
      "execution_count": null,
      "metadata": {
        "id": "WZcAojkQqLKB",
        "colab": {
          "base_uri": "https://localhost:8080/"
        },
        "outputId": "cac84178-6e82-4108-929c-d4ac4c2b0f06"
      },
      "outputs": [
        {
          "output_type": "stream",
          "name": "stdout",
          "text": [
            "min_samples_leaf_values:  [3, 5, 7, 9, 10, 11, 13]\n",
            "accuracies:  [0.559134322292217, 0.5592359276569803, 0.5592359276569803, 0.5592359276569803, 0.5592359276569803, 0.5590327169274538, 0.5589311115626905]\n",
            "best min_samples_split accuracy:  0.5592359276569803\n",
            "min samples split value:  5\n"
          ]
        }
      ],
      "source": [
        "max_value3 = max(accuracies3)\n",
        "max_index3 = accuracies3.index(max_value3)\n",
        "print('min_samples_leaf_values: ', min_samples_leaf_values)\n",
        "print('accuracies: ', accuracies3)\n",
        "print('best min_samples_split accuracy: ',  max_value3)\n",
        "print('min samples split value: ', min_samples_leaf_values[max_index3])"
      ]
    },
    {
      "cell_type": "markdown",
      "metadata": {
        "id": "JWzr3YzCqLKC"
      },
      "source": [
        "#### max_leaf_nodes"
      ]
    },
    {
      "cell_type": "code",
      "execution_count": null,
      "metadata": {
        "id": "xi7EW7SjqLKC",
        "colab": {
          "base_uri": "https://localhost:8080/"
        },
        "outputId": "c85ebef2-5a8c-48f7-dbf4-eb64b1855049"
      },
      "outputs": [
        {
          "output_type": "stream",
          "name": "stderr",
          "text": [
            "100%|██████████| 12982/12982 [00:01<00:00, 7785.06it/s]\n",
            "100%|██████████| 9842/9842 [00:12<00:00, 808.19it/s]\n",
            "100%|██████████| 9842/9842 [00:00<00:00, 527935.59it/s]\n",
            "100%|██████████| 12982/12982 [00:01<00:00, 11139.66it/s]\n",
            "100%|██████████| 9842/9842 [00:12<00:00, 771.09it/s]\n",
            "100%|██████████| 9842/9842 [00:00<00:00, 813005.22it/s]\n",
            "100%|██████████| 12982/12982 [00:01<00:00, 11241.65it/s]\n",
            "100%|██████████| 9842/9842 [00:14<00:00, 677.17it/s]\n",
            "100%|██████████| 9842/9842 [00:00<00:00, 760297.26it/s]\n",
            "100%|██████████| 12982/12982 [00:01<00:00, 10925.79it/s]\n",
            "100%|██████████| 9842/9842 [00:13<00:00, 756.04it/s]\n",
            "100%|██████████| 9842/9842 [00:00<00:00, 767121.46it/s]\n",
            "100%|██████████| 12982/12982 [00:01<00:00, 7154.35it/s]\n",
            "100%|██████████| 9842/9842 [00:13<00:00, 749.92it/s]\n",
            "100%|██████████| 9842/9842 [00:00<00:00, 676216.95it/s]\n",
            "100%|██████████| 12982/12982 [00:01<00:00, 10684.36it/s]\n",
            "100%|██████████| 9842/9842 [00:13<00:00, 750.44it/s]\n",
            "100%|██████████| 9842/9842 [00:00<00:00, 762981.29it/s]\n"
          ]
        },
        {
          "output_type": "stream",
          "name": "stdout",
          "text": [
            "[0.49634220686852265, 0.5433854907539118, 0.550091444828287, 0.556390977443609, 0.5592359276569803, 0.5592359276569803]\n"
          ]
        }
      ],
      "source": [
        "max_leaf_nodes_values = [10, 50, 100, 200, 300, None]\n",
        "\n",
        "accuracies4 = []\n",
        "\n",
        "S2A_dev = sen2anno_from_nli_problems(SNLI['dev'], S2A)\n",
        "\n",
        "for max_leaf_nodes_value in max_leaf_nodes_values:\n",
        "    DT_find_maxleafs = DTC(criterion=\"gini\", max_depth=11, min_samples_split=700, min_samples_leaf=5, max_leaf_nodes=max_leaf_nodes_value,  random_state=0)\n",
        "    maxleafs_DT = DT_find_maxleafs.fit(feat_df, lab_df)\n",
        "    pred, gold = evaluate(maxleafs_DT, SNLI['dev'], S2A_dev)\n",
        "    accuracies4.append(Accuracy(gold, pred))\n",
        "\n",
        "\n",
        "print(accuracies4)"
      ]
    },
    {
      "cell_type": "code",
      "execution_count": null,
      "metadata": {
        "id": "0LswjZcSqLKD",
        "colab": {
          "base_uri": "https://localhost:8080/"
        },
        "outputId": "a400105f-a3a1-427c-e417-607679e6bb86"
      },
      "outputs": [
        {
          "output_type": "stream",
          "name": "stdout",
          "text": [
            "max_leaf_nodes values:  [10, 50, 100, 200, 300, None]\n",
            "accuracies:  [0.49634220686852265, 0.5433854907539118, 0.550091444828287, 0.556390977443609, 0.5592359276569803, 0.5592359276569803]\n",
            "best max_leaf_nodes accuracy:  0.5592359276569803\n",
            "best max_leaf_nodes value:  300\n"
          ]
        }
      ],
      "source": [
        "max_value4 = max(accuracies4)\n",
        "max_index4 = accuracies4.index(max_value4)\n",
        "print('max_leaf_nodes values: ', max_leaf_nodes_values)\n",
        "print('accuracies: ', accuracies4)\n",
        "print('best max_leaf_nodes accuracy: ',  max_value4)\n",
        "print('best max_leaf_nodes value: ', max_leaf_nodes_values[max_index4])"
      ]
    },
    {
      "cell_type": "markdown",
      "metadata": {
        "id": "Q8QeK17QqLKD"
      },
      "source": [
        "#### splitter"
      ]
    },
    {
      "cell_type": "code",
      "execution_count": null,
      "metadata": {
        "id": "cDbUkgDOqLKE",
        "colab": {
          "base_uri": "https://localhost:8080/"
        },
        "outputId": "4634400b-cb50-4809-ec19-eefb4bd6d240"
      },
      "outputs": [
        {
          "output_type": "stream",
          "name": "stderr",
          "text": [
            "100%|██████████| 12982/12982 [00:01<00:00, 6970.48it/s]\n",
            "100%|██████████| 9842/9842 [00:12<00:00, 783.61it/s]\n",
            "100%|██████████| 9842/9842 [00:00<00:00, 484767.07it/s]\n",
            "100%|██████████| 12982/12982 [00:01<00:00, 11258.08it/s]\n",
            "100%|██████████| 9842/9842 [00:13<00:00, 756.64it/s]\n",
            "100%|██████████| 9842/9842 [00:00<00:00, 747696.79it/s]\n"
          ]
        },
        {
          "output_type": "stream",
          "name": "stdout",
          "text": [
            "[0.5592359276569803, 0.5259093680146312]\n"
          ]
        }
      ],
      "source": [
        "splitter_values = ['best', 'random']\n",
        "\n",
        "accuracies5 = []\n",
        "\n",
        "S2A_dev = sen2anno_from_nli_problems(SNLI['dev'], S2A)\n",
        "\n",
        "for splitter_value in splitter_values:\n",
        "    DT_find_splitter = DTC(criterion=\"gini\", max_depth=11, min_samples_split=700, min_samples_leaf=5, max_leaf_nodes=None, splitter=splitter_value, random_state=0)\n",
        "    splitter_DT = DT_find_splitter.fit(feat_df, lab_df)\n",
        "    pred, gold = evaluate(splitter_DT, SNLI['dev'], S2A_dev)\n",
        "    accuracies5.append(Accuracy(gold, pred))\n",
        "\n",
        "\n",
        "print(accuracies5)"
      ]
    },
    {
      "cell_type": "code",
      "execution_count": null,
      "metadata": {
        "id": "IgelIyIqqLKE",
        "colab": {
          "base_uri": "https://localhost:8080/"
        },
        "outputId": "adb0177f-8a52-4ce5-f93a-e7ff47b254c5"
      },
      "outputs": [
        {
          "output_type": "stream",
          "name": "stdout",
          "text": [
            "splitter values:  ['best', 'random']\n",
            "accuracies:  [0.5592359276569803, 0.5259093680146312]\n",
            "best splitter accuracy:  0.5592359276569803\n",
            "best splitter value:  best\n"
          ]
        }
      ],
      "source": [
        "max_value5 = max(accuracies5)\n",
        "max_index5 = accuracies5.index(max_value5)\n",
        "print('splitter values: ', splitter_values)\n",
        "print('accuracies: ', accuracies5)\n",
        "print('best splitter accuracy: ',  max_value5)\n",
        "print('best splitter value: ', splitter_values[max_index5])"
      ]
    },
    {
      "cell_type": "markdown",
      "metadata": {
        "id": "_byl5kXUqLKE"
      },
      "source": [
        "#### Criterion"
      ]
    },
    {
      "cell_type": "code",
      "execution_count": null,
      "metadata": {
        "id": "c0wOhA3tqLKF",
        "colab": {
          "base_uri": "https://localhost:8080/"
        },
        "outputId": "ce34f2a7-71e5-41e6-9d89-84d7be98da63"
      },
      "outputs": [
        {
          "output_type": "stream",
          "name": "stderr",
          "text": [
            "100%|██████████| 12982/12982 [00:01<00:00, 10092.41it/s]\n",
            "100%|██████████| 9842/9842 [00:12<00:00, 766.59it/s]\n",
            "100%|██████████| 9842/9842 [00:00<00:00, 843454.29it/s]\n",
            "100%|██████████| 12982/12982 [00:01<00:00, 11013.06it/s]\n",
            "100%|██████████| 9842/9842 [00:12<00:00, 759.87it/s]\n",
            "100%|██████████| 9842/9842 [00:00<00:00, 751631.25it/s]\n",
            "100%|██████████| 12982/12982 [00:01<00:00, 11160.75it/s]\n",
            "100%|██████████| 9842/9842 [00:12<00:00, 763.72it/s]\n",
            "100%|██████████| 9842/9842 [00:00<00:00, 830339.74it/s]\n"
          ]
        },
        {
          "output_type": "stream",
          "name": "stdout",
          "text": [
            "[0.5592359276569803, 0.5510058931111562, 0.5510058931111562]\n"
          ]
        }
      ],
      "source": [
        "criterion_values = ['gini', 'entropy', 'log_loss']\n",
        "\n",
        "accuracies6 = []\n",
        "\n",
        "S2A_dev = sen2anno_from_nli_problems(SNLI['dev'], S2A)\n",
        "\n",
        "for criterion_value in criterion_values:\n",
        "    DT_find_criterion = DTC(criterion=criterion_value, max_depth=11, min_samples_split=700, min_samples_leaf=5, max_leaf_nodes=None, splitter='best', random_state=0)\n",
        "    criterion_DT = DT_find_criterion.fit(feat_df, lab_df)\n",
        "    pred, gold = evaluate(criterion_DT, SNLI['dev'], S2A_dev)\n",
        "    accuracies6.append(Accuracy(gold, pred))\n",
        "\n",
        "\n",
        "print(accuracies6)"
      ]
    },
    {
      "cell_type": "code",
      "execution_count": null,
      "metadata": {
        "id": "ystCjLbEqLKG",
        "colab": {
          "base_uri": "https://localhost:8080/"
        },
        "outputId": "bc73468c-edc7-49e9-d31d-fe729ea562cd"
      },
      "outputs": [
        {
          "output_type": "stream",
          "name": "stdout",
          "text": [
            "criterion values:  ['gini', 'entropy', 'log_loss']\n",
            "accuracies:  [0.5592359276569803, 0.5510058931111562, 0.5510058931111562]\n",
            "best criterion accuracy:  0.5592359276569803\n",
            "best criterion value:  gini\n"
          ]
        }
      ],
      "source": [
        "max_value6 = max(accuracies6)\n",
        "max_index6 = accuracies6.index(max_value6)\n",
        "print('criterion values: ', criterion_values)\n",
        "print('accuracies: ', accuracies6)\n",
        "print('best criterion accuracy: ',  max_value6)\n",
        "print('best criterion value: ', criterion_values[max_index6])"
      ]
    },
    {
      "cell_type": "markdown",
      "metadata": {
        "id": "Q7MAV7MCqLKH"
      },
      "source": [
        "#### max_features"
      ]
    },
    {
      "cell_type": "code",
      "execution_count": null,
      "metadata": {
        "id": "Vp8jxskXqLKH",
        "colab": {
          "base_uri": "https://localhost:8080/"
        },
        "outputId": "90ab9d89-e5df-4904-acde-a74c3cd50f39"
      },
      "outputs": [
        {
          "output_type": "stream",
          "name": "stderr",
          "text": [
            "100%|██████████| 12982/12982 [00:01<00:00, 11352.61it/s]\n",
            "100%|██████████| 9842/9842 [00:12<00:00, 776.50it/s]\n",
            "100%|██████████| 9842/9842 [00:00<00:00, 792953.00it/s]\n",
            "100%|██████████| 12982/12982 [00:01<00:00, 10983.23it/s]\n",
            "100%|██████████| 9842/9842 [00:12<00:00, 766.23it/s]\n",
            "100%|██████████| 9842/9842 [00:00<00:00, 772244.69it/s]\n",
            "100%|██████████| 12982/12982 [00:01<00:00, 11135.57it/s]\n",
            "100%|██████████| 9842/9842 [00:12<00:00, 767.73it/s]\n",
            "100%|██████████| 9842/9842 [00:00<00:00, 781173.64it/s]\n"
          ]
        },
        {
          "output_type": "stream",
          "name": "stdout",
          "text": [
            "[0.5592359276569803, 0.4953261532208901, 0.5158504369030685]\n"
          ]
        }
      ],
      "source": [
        "max_features_values = [None, 'sqrt', 'log2']\n",
        "\n",
        "accuracies7 = []\n",
        "\n",
        "S2A_dev = sen2anno_from_nli_problems(SNLI['dev'], S2A)\n",
        "\n",
        "for max_features_value in max_features_values:\n",
        "    DT_find_maxfeat = DTC(criterion='gini', max_depth=11, min_samples_split=700, min_samples_leaf=5, max_leaf_nodes=None, splitter='best', max_features=max_features_value, random_state=0)\n",
        "    maxfeat_DT = DT_find_maxfeat.fit(feat_df, lab_df)\n",
        "    pred, gold = evaluate(maxfeat_DT, SNLI['dev'], S2A_dev)\n",
        "    accuracies7.append(Accuracy(gold, pred))\n",
        "\n",
        "print(accuracies7)"
      ]
    },
    {
      "cell_type": "code",
      "execution_count": null,
      "metadata": {
        "id": "uDHkUPd7qLKI",
        "colab": {
          "base_uri": "https://localhost:8080/"
        },
        "outputId": "a28a1169-236d-4016-991a-e048a0893f3f"
      },
      "outputs": [
        {
          "output_type": "stream",
          "name": "stdout",
          "text": [
            "max_feat values:  [None, 'sqrt', 'log2']\n",
            "accuracies:  [0.5592359276569803, 0.4953261532208901, 0.5158504369030685]\n",
            "best criterion accuracy:  0.5592359276569803\n",
            "best criterion value:  None\n"
          ]
        }
      ],
      "source": [
        "max_value7 = max(accuracies7)\n",
        "max_index7 = accuracies7.index(max_value7)\n",
        "print('max_feat values: ', max_features_values)\n",
        "print('accuracies: ', accuracies7)\n",
        "print('best criterion accuracy: ',  max_value7)\n",
        "print('best criterion value: ', max_features_values[max_index7])"
      ]
    },
    {
      "cell_type": "markdown",
      "metadata": {
        "id": "zYAnJl7SqLKJ"
      },
      "source": [
        "#### Performance difference between standard and optimal parameters"
      ]
    },
    {
      "cell_type": "code",
      "execution_count": null,
      "metadata": {
        "id": "F7GaueRVqLKJ"
      },
      "outputs": [],
      "source": [
        "# initializing a DT classifier and training it\n",
        "DT = DTC(criterion=\"gini\", max_depth=10, random_state=0)\n",
        "default_DT = DT.fit(feat_df, lab_df)\n",
        "\n",
        "DT_opt = DTC(criterion='gini', max_depth=11, min_samples_split=700, min_samples_leaf=5, max_leaf_nodes=None, splitter='best', max_features=None, random_state=0)\n",
        "optimal_DT = DT_opt.fit(feat_df, lab_df)\n",
        "\n",
        "\n",
        "MODEL = {'default': default_DT, 'optimal_param': optimal_DT}"
      ]
    },
    {
      "cell_type": "code",
      "execution_count": null,
      "metadata": {
        "id": "TZu_9W4xqLKJ",
        "colab": {
          "base_uri": "https://localhost:8080/"
        },
        "outputId": "0754e43a-9c1d-42c5-eb94-a7294ba81412"
      },
      "outputs": [
        {
          "output_type": "stream",
          "name": "stderr",
          "text": [
            "100%|██████████| 12982/12982 [00:01<00:00, 11228.05it/s]\n",
            "100%|██████████| 9842/9842 [00:12<00:00, 776.70it/s]\n",
            "100%|██████████| 9842/9842 [00:00<00:00, 828323.70it/s]\n"
          ]
        },
        {
          "output_type": "stream",
          "name": "stdout",
          "text": [
            "====================================default=====================================\n",
            "              |    c           |\n",
            "              |    o           |\n",
            "              |    n           |\n",
            "              |    t    e      |\n",
            "              |    r    n      |\n",
            "              |    a    t      |\n",
            "              |    d    a    n |\n",
            "              |    i    i    e |\n",
            "              |    c    l    u |\n",
            "              |    t    m    t |\n",
            "              |    i    e    r |\n",
            "              |    o    n    a |\n",
            "              |    n    t    l |\n",
            "--------------+----------------+\n",
            "contradiction |<1833> 733  712 |\n",
            "   entailment |  699<2108> 522 |\n",
            "      neutral | 1032  725<1478>|\n",
            "--------------+----------------+\n",
            "(row = reference; col = test)\n",
            "\n",
            "Accuracy = 0.5505994716521032\n",
            "================================================================================\n"
          ]
        },
        {
          "output_type": "stream",
          "name": "stderr",
          "text": [
            "100%|██████████| 12982/12982 [00:01<00:00, 8000.94it/s] \n",
            "100%|██████████| 9842/9842 [00:13<00:00, 745.33it/s]\n",
            "100%|██████████| 9842/9842 [00:00<00:00, 543291.04it/s]\n"
          ]
        },
        {
          "output_type": "stream",
          "name": "stdout",
          "text": [
            "=================================optimal_param==================================\n",
            "              |    c           |\n",
            "              |    o           |\n",
            "              |    n           |\n",
            "              |    t    e      |\n",
            "              |    r    n      |\n",
            "              |    a    t      |\n",
            "              |    d    a    n |\n",
            "              |    i    i    e |\n",
            "              |    c    l    u |\n",
            "              |    t    m    t |\n",
            "              |    i    e    r |\n",
            "              |    o    n    a |\n",
            "              |    n    t    l |\n",
            "--------------+----------------+\n",
            "contradiction |<2004> 700  574 |\n",
            "   entailment |  794<2096> 439 |\n",
            "      neutral | 1129  702<1404>|\n",
            "--------------+----------------+\n",
            "(row = reference; col = test)\n",
            "\n",
            "Accuracy = 0.5592359276569803\n",
            "================================================================================\n"
          ]
        }
      ],
      "source": [
        "S2A_dev = sen2anno_from_nli_problems(SNLI['dev'], S2A)\n",
        "# The code should also work for 'test' part\n",
        "\n",
        "for name in MODEL:\n",
        "    pred, gold = evaluate(MODEL[name], SNLI['dev'], S2A_dev)\n",
        "    print(f\"{name:=^80}\")\n",
        "    cm = ConfusionMatrix(gold, pred)  # Ensure labels match unique gold values\n",
        "    print(cm)\n",
        "    print(f\"Accuracy = {Accuracy(gold, pred)}\")\n",
        "    print(f\"{'':=^80}\")"
      ]
    },
    {
      "cell_type": "markdown",
      "metadata": {
        "id": "dj5tY8CHqLKJ"
      },
      "source": [
        "### Final evaluation on SNLI test set"
      ]
    },
    {
      "cell_type": "markdown",
      "metadata": {
        "id": "0IXwg9bOqLKJ"
      },
      "source": [
        "##### all features"
      ]
    },
    {
      "cell_type": "code",
      "execution_count": null,
      "metadata": {
        "id": "1m4S85elqLKJ",
        "colab": {
          "base_uri": "https://localhost:8080/"
        },
        "outputId": "ba6a3988-9095-4649-cc0d-795ee1ae8a1b"
      },
      "outputs": [
        {
          "output_type": "stream",
          "name": "stderr",
          "text": [
            "100%|██████████| 12961/12961 [00:01<00:00, 10886.20it/s]\n",
            "100%|██████████| 9824/9824 [00:12<00:00, 758.11it/s]\n",
            "100%|██████████| 9824/9824 [00:00<00:00, 771395.13it/s]\n"
          ]
        },
        {
          "output_type": "stream",
          "name": "stdout",
          "text": [
            "================================================================================\n",
            "              |    c           |\n",
            "              |    o           |\n",
            "              |    n           |\n",
            "              |    t    e      |\n",
            "              |    r    n      |\n",
            "              |    a    t      |\n",
            "              |    d    a    n |\n",
            "              |    i    i    e |\n",
            "              |    c    l    u |\n",
            "              |    t    m    t |\n",
            "              |    i    e    r |\n",
            "              |    o    n    a |\n",
            "              |    n    t    l |\n",
            "--------------+----------------+\n",
            "contradiction |<1905> 721  611 |\n",
            "   entailment |  758<2129> 481 |\n",
            "      neutral | 1136  706<1377>|\n",
            "--------------+----------------+\n",
            "(row = reference; col = test)\n",
            "\n",
            "Accuracy = 0.5507939739413681\n",
            "================================================================================\n"
          ]
        }
      ],
      "source": [
        "DT_opt = DTC(criterion='gini', max_depth=11, min_samples_split=700, min_samples_leaf=5, max_leaf_nodes=None, splitter='best', max_features=None, random_state=0)\n",
        "optimal_DT = DT_opt.fit(feat_df, lab_df)\n",
        "\n",
        "S2A_dev = sen2anno_from_nli_problems(SNLI['test'], S2A)\n",
        "\n",
        "pred, gold = evaluate(optimal_DT, SNLI['test'], S2A_dev)\n",
        "print(f\"{'':=^80}\")\n",
        "cm = ConfusionMatrix(gold, pred)  # Ensure labels match unique gold values\n",
        "print(cm)\n",
        "print(f\"Accuracy = {Accuracy(gold, pred)}\")\n",
        "print(f\"{'':=^80}\")"
      ]
    },
    {
      "cell_type": "markdown",
      "metadata": {
        "id": "ju90ZKKWqLKK"
      },
      "source": [
        "##### smart features only"
      ]
    },
    {
      "cell_type": "code",
      "execution_count": null,
      "metadata": {
        "id": "oNaSlSZaqLKK",
        "colab": {
          "base_uri": "https://localhost:8080/"
        },
        "outputId": "6c96d0f2-ca9e-4534-a57d-78997b9d3a43"
      },
      "outputs": [
        {
          "output_type": "stream",
          "name": "stderr",
          "text": [
            "100%|██████████| 12961/12961 [00:01<00:00, 11228.61it/s]\n",
            "100%|██████████| 9824/9824 [00:12<00:00, 762.30it/s]\n",
            "100%|██████████| 9824/9824 [00:00<00:00, 809239.22it/s]\n"
          ]
        },
        {
          "output_type": "stream",
          "name": "stdout",
          "text": [
            "================================================================================\n",
            "              |    c           |\n",
            "              |    o           |\n",
            "              |    n           |\n",
            "              |    t    e      |\n",
            "              |    r    n      |\n",
            "              |    a    t      |\n",
            "              |    d    a    n |\n",
            "              |    i    i    e |\n",
            "              |    c    l    u |\n",
            "              |    t    m    t |\n",
            "              |    i    e    r |\n",
            "              |    o    n    a |\n",
            "              |    n    t    l |\n",
            "--------------+----------------+\n",
            "contradiction |<2145> 921  171 |\n",
            "   entailment | 1586<1639> 143 |\n",
            "      neutral | 1584 1113 <522>|\n",
            "--------------+----------------+\n",
            "(row = reference; col = test)\n",
            "\n",
            "Accuracy = 0.438314332247557\n",
            "================================================================================\n"
          ]
        }
      ],
      "source": [
        "optimal_DT_smart = DT_opt.fit(smart_df, lab_df)\n",
        "\n",
        "pred, gold = evaluate2(optimal_DT_smart, SNLI['test'], S2A_dev)\n",
        "print(f\"{'':=^80}\")\n",
        "cm = ConfusionMatrix(gold, pred)  # Ensure labels match unique gold values\n",
        "print(cm)\n",
        "print(f\"Accuracy = {Accuracy(gold, pred)}\")\n",
        "print(f\"{'':=^80}\")"
      ]
    },
    {
      "cell_type": "markdown",
      "metadata": {
        "id": "aGhaDzbuqLKK"
      },
      "source": [
        "##### shallow features only"
      ]
    },
    {
      "cell_type": "code",
      "execution_count": null,
      "metadata": {
        "id": "X9m8lP6FqLKK",
        "colab": {
          "base_uri": "https://localhost:8080/"
        },
        "outputId": "04ba9019-1bbd-4214-e9c1-e93f2a464faa"
      },
      "outputs": [
        {
          "output_type": "stream",
          "name": "stderr",
          "text": [
            "100%|██████████| 12961/12961 [00:01<00:00, 10613.14it/s]\n",
            "100%|██████████| 9824/9824 [00:12<00:00, 761.03it/s]\n",
            "100%|██████████| 9824/9824 [00:00<00:00, 789970.14it/s]\n"
          ]
        },
        {
          "output_type": "stream",
          "name": "stdout",
          "text": [
            "================================================================================\n",
            "              |    c           |\n",
            "              |    o           |\n",
            "              |    n           |\n",
            "              |    t    e      |\n",
            "              |    r    n      |\n",
            "              |    a    t      |\n",
            "              |    d    a    n |\n",
            "              |    i    i    e |\n",
            "              |    c    l    u |\n",
            "              |    t    m    t |\n",
            "              |    i    e    r |\n",
            "              |    o    n    a |\n",
            "              |    n    t    l |\n",
            "--------------+----------------+\n",
            "contradiction |<1662> 832  743 |\n",
            "   entailment |  658<2181> 529 |\n",
            "      neutral | 1084  755<1380>|\n",
            "--------------+----------------+\n",
            "(row = reference; col = test)\n",
            "\n",
            "Accuracy = 0.5316571661237784\n",
            "================================================================================\n"
          ]
        }
      ],
      "source": [
        "optimal_DT_shallow = DT_opt.fit(shallow_df, lab_df)\n",
        "\n",
        "pred, gold = evaluate3(optimal_DT_shallow, SNLI['test'], S2A_dev)\n",
        "print(f\"{'':=^80}\")\n",
        "cm = ConfusionMatrix(gold, pred)  # Ensure labels match unique gold values\n",
        "print(cm)\n",
        "print(f\"Accuracy = {Accuracy(gold, pred)}\")\n",
        "print(f\"{'':=^80}\")"
      ]
    },
    {
      "cell_type": "markdown",
      "source": [
        "## Analysis"
      ],
      "metadata": {
        "id": "qHZY4RD0ayTQ"
      }
    },
    {
      "cell_type": "markdown",
      "source": [
        "This section provides the code for the analysis section of our paper. We provide code for:\n",
        "  \n",
        "\n",
        "*   Finding the smart and shallow feature effectiveness by seeing their label distribution on the training set after the feature is triggered\n",
        "*   Visualizing the decision tree classifier\n",
        "\n"
      ],
      "metadata": {
        "id": "kxi4MT4Ya6D4"
      }
    },
    {
      "cell_type": "markdown",
      "source": [
        "### Smart feature effectiveness"
      ],
      "metadata": {
        "id": "SNy53Zmrb7DW"
      }
    },
    {
      "cell_type": "code",
      "source": [
        "## ENTAILMENT FEATURES\n",
        "# Generalization of the premise\n",
        "generalized_premise = df[\n",
        "    (df['sub_hypothesis_hyper'] == 1) |\n",
        "    (df['dobj_hypothesis_hyper'] == 1) |\n",
        "    (df['pobj_hypothesis_hyper'] == 1)\n",
        "]\n",
        "generalized_premise_ids = generalized_premise.iloc[:, 0]\n",
        "\n",
        "print(\"\\nGeneralization of the premise:\\n\")\n",
        "print(generalized_premise_ids.value_counts())\n",
        "print(len(generalized_premise))\n",
        "print(generalized_premise_ids.value_counts() / len(generalized_premise) * 100)\n",
        "print(len(generalized_premise) / len(df) * 100)\n",
        "\n",
        "\n",
        "# Rephrasing the premise\n",
        "rephrased_premise = df[\n",
        "    (df['dobj_synonym'] == 1) |\n",
        "    (df['subj_synonym'] == 1) |\n",
        "    (df['pobj_synonym'] == 1)\n",
        "]\n",
        "rephrased_premise_ids = rephrased_premise.iloc[:, 0]\n",
        "\n",
        "print(\"\\nRephrasing the premise:\\n\")\n",
        "print(rephrased_premise_ids.value_counts())\n",
        "print(len(rephrased_premise))\n",
        "print(rephrased_premise_ids.value_counts() / len(rephrased_premise) * 100)\n",
        "print(len(rephrased_premise) / len(df) * 100)\n",
        "\n",
        "\n",
        "## NEUTRAL FEATURES\n",
        "# Additional purpose clause\n",
        "purpose_clause_neutral = df[df['purpose_neutral'] == 1]\n",
        "purpose_clause_neutral_ids = purpose_clause_neutral.iloc[:, 0]\n",
        "\n",
        "print(\"\\nAdditional purpose clause:\\n\")\n",
        "print(purpose_clause_neutral_ids.value_counts())\n",
        "print(len(purpose_clause_neutral))\n",
        "print(purpose_clause_neutral_ids.value_counts() / len(purpose_clause_neutral) * 100)\n",
        "print(len(purpose_clause_neutral) / len(df) * 100)\n",
        "\n",
        "\n",
        "# Detail addition\n",
        "detail_addition = df[\n",
        "    (df['sub_hypothesis_hypo'] == 1) |\n",
        "    (df['dobj_hypothesis_hypo'] == 1) |\n",
        "    (df['pobj_hypothesis_hypo'] == 1)\n",
        "]\n",
        "detail_addition_ids = detail_addition.iloc[:, 0]\n",
        "\n",
        "print(\"\\nDetail addition:\\n\")\n",
        "print(detail_addition_ids.value_counts())\n",
        "print(len(detail_addition))\n",
        "print(detail_addition_ids.value_counts() / len(detail_addition) * 100)\n",
        "print(len(detail_addition) / len(df) * 100)\n",
        "\n",
        "\n",
        "## CONTRADICTION FEATURES\n",
        "# Adverb and Adjective Alteration\n",
        "adj_adv_alteration = df[df['dif_adjs_advs'] == 1]\n",
        "adj_adv_alteration_ids = adj_adv_alteration.iloc[:, 0]\n",
        "\n",
        "print(\"\\nAdverb and Adjective Alteration:\\n\")\n",
        "print(adj_adv_alteration_ids.value_counts())\n",
        "print(len(adj_adv_alteration))\n",
        "print(adj_adv_alteration_ids.value_counts() / len(adj_adv_alteration) * 100)\n",
        "print(len(adj_adv_alteration) / len(df) * 100)\n",
        "\n",
        "\n",
        "# Semantic negation of matching terms\n",
        "semantic_negation = df[df['neg_word_and_word'] == 1]\n",
        "semantic_negation_ids = semantic_negation.iloc[:, 0]\n",
        "\n",
        "print(\"\\nSemantic negation of matching terms:\\n\")\n",
        "print(semantic_negation_ids.value_counts())\n",
        "print(len(semantic_negation))\n",
        "print(semantic_negation_ids.value_counts() / len(semantic_negation) * 100)\n",
        "print(len(semantic_negation) / len(df) * 100)\n",
        "\n",
        "\n",
        "# Opposite sentiment\n",
        "opposite_sentiment = df[df['opposite_sentiment'] == 1]\n",
        "opposite_sentiment_ids = opposite_sentiment.iloc[:, 0]\n",
        "\n",
        "print(\"\\nOpposite sentiment:\\n\")\n",
        "print(opposite_sentiment_ids.value_counts())\n",
        "print(len(opposite_sentiment))\n",
        "print(opposite_sentiment_ids.value_counts() / len(opposite_sentiment) * 100)\n",
        "print(len(opposite_sentiment) / len(df) * 100)\n",
        "\n",
        "\n",
        "# Antonym detection\n",
        "antonym_detection = df[\n",
        "    (df['sub_hypothesis_anto'] == 1) |\n",
        "    (df['dobj_hypothesis_anto'] == 1) |\n",
        "    (df['pobj_hypothesis_anto'] == 1)\n",
        "]\n",
        "antonym_detection_ids = antonym_detection.iloc[:, 0]\n",
        "\n",
        "print(\"\\nAntonym detection:\\n\")\n",
        "print(antonym_detection_ids.value_counts())\n",
        "print(len(antonym_detection))\n",
        "print(antonym_detection_ids.value_counts() / len(antonym_detection) * 100)\n",
        "print(len(antonym_detection) / len(df) * 100)\n"
      ],
      "metadata": {
        "id": "ZJn20S-Zb9NJ",
        "colab": {
          "base_uri": "https://localhost:8080/"
        },
        "outputId": "af0ea21f-3ed3-467d-98c1-3db128812032"
      },
      "execution_count": null,
      "outputs": [
        {
          "output_type": "stream",
          "name": "stdout",
          "text": [
            "\n",
            "Generalization of the premise:\n",
            "\n",
            "0\n",
            "entailment       2836\n",
            "neutral          1580\n",
            "contradiction    1470\n",
            "Name: count, dtype: int64\n",
            "5886\n",
            "0\n",
            "entailment       48.182127\n",
            "neutral          26.843357\n",
            "contradiction    24.974516\n",
            "Name: count, dtype: float64\n",
            "2.943\n",
            "\n",
            "Rephrasing the premise:\n",
            "\n",
            "0\n",
            "entailment       49908\n",
            "neutral          48829\n",
            "contradiction    45954\n",
            "Name: count, dtype: int64\n",
            "144691\n",
            "0\n",
            "entailment       34.492816\n",
            "neutral          33.747089\n",
            "contradiction    31.760096\n",
            "Name: count, dtype: float64\n",
            "72.3455\n",
            "\n",
            "Additional purpose clause:\n",
            "\n",
            "0\n",
            "neutral          9652\n",
            "contradiction    3209\n",
            "entailment       2219\n",
            "Name: count, dtype: int64\n",
            "15080\n",
            "0\n",
            "neutral          64.005305\n",
            "contradiction    21.279841\n",
            "entailment       14.714854\n",
            "Name: count, dtype: float64\n",
            "7.539999999999999\n",
            "\n",
            "Detail addition:\n",
            "\n",
            "0\n",
            "neutral          2219\n",
            "contradiction    1854\n",
            "entailment       1618\n",
            "Name: count, dtype: int64\n",
            "5691\n",
            "0\n",
            "neutral          38.991390\n",
            "contradiction    32.577754\n",
            "entailment       28.430856\n",
            "Name: count, dtype: float64\n",
            "2.8455\n",
            "\n",
            "Adverb and Adjective Alteration:\n",
            "\n",
            "0\n",
            "contradiction    2426\n",
            "neutral          1458\n",
            "entailment       1107\n",
            "Name: count, dtype: int64\n",
            "4991\n",
            "0\n",
            "contradiction    48.607493\n",
            "neutral          29.212583\n",
            "entailment       22.179924\n",
            "Name: count, dtype: float64\n",
            "2.4955000000000003\n",
            "\n",
            "Semantic negation of matching terms:\n",
            "\n",
            "0\n",
            "contradiction    302\n",
            "entailment        79\n",
            "neutral           49\n",
            "Name: count, dtype: int64\n",
            "430\n",
            "0\n",
            "contradiction    70.232558\n",
            "entailment       18.372093\n",
            "neutral          11.395349\n",
            "Name: count, dtype: float64\n",
            "0.215\n",
            "\n",
            "Opposite sentiment:\n",
            "\n",
            "0\n",
            "contradiction    2698\n",
            "neutral          1655\n",
            "entailment        563\n",
            "Name: count, dtype: int64\n",
            "4916\n",
            "0\n",
            "contradiction    54.882018\n",
            "neutral          33.665582\n",
            "entailment       11.452400\n",
            "Name: count, dtype: float64\n",
            "2.458\n",
            "\n",
            "Antonym detection:\n",
            "\n",
            "0\n",
            "contradiction    2223\n",
            "neutral           271\n",
            "entailment        236\n",
            "Name: count, dtype: int64\n",
            "2730\n",
            "0\n",
            "contradiction    81.428571\n",
            "neutral           9.926740\n",
            "entailment        8.644689\n",
            "Name: count, dtype: float64\n",
            "1.365\n"
          ]
        }
      ]
    },
    {
      "cell_type": "markdown",
      "source": [
        "### Shallow feature effectiveness"
      ],
      "metadata": {
        "id": "lWp0G4qob37P"
      }
    },
    {
      "cell_type": "code",
      "source": [
        "# List of shallow features and their corresponding split threshold values (first splits made in the trained decision tree classifier)\n",
        "thresholds = {\n",
        "    \"tok_num1\": 9.5,\n",
        "    \"verb_num1\": 1.5,\n",
        "    \"sentiment1\": 0.5,\n",
        "    \"tok_num2\": 8.5,\n",
        "    \"noun_num2\": 1.5,\n",
        "    \"verb_num2\": 1.5,\n",
        "    \"adj_num2\": 0.5,\n",
        "    \"uppcase_num2\": 1.5,\n",
        "    \"neg_num2\": 0.5,\n",
        "    \"sentiment2\": 0.5,\n",
        "    \"neg_diff\": 0.5,\n",
        "    \"more_neg_in_hyp\": 0.5,\n",
        "    \"tok_diff\": 9.5,\n",
        "    \"noun_diff\": -0.5,\n",
        "    \"verb_diff\": -0.5,\n",
        "    \"adj_diff\": -0.5,\n",
        "    \"jaccard_sim\": 0.23669467866420746,\n",
        "    \"uppcase_diff\": 0.5,\n",
        "    \"charnum_diff\": 38.5,\n",
        "    \"punc_diff\": 0.5,\n",
        "    \"entailment_words\": 0.5,\n",
        "    \"neutral_words\": 0.5,\n",
        "    \"contradiction_words\": 0.5,\n",
        "    \"BLEU1\": 0.10280873998999596,\n",
        "    \"BLEU2\": 0.1341266855597496,\n",
        "    \"BLEU3\": 0.10261917486786842,\n",
        "    \"BLEU4\": 0.11377318575978279\n",
        "}\n",
        "\n",
        "# List of smart features to exclude from the analysis\n",
        "smart_features = [\n",
        "    'purpose_neutral', 'sub_hypothesis_hypo', 'dobj_hypothesis_hypo',\n",
        "    'pobj_hypothesis_hypo', 'sub_hypothesis_hyper', 'dobj_hypothesis_hyper',\n",
        "    'pobj_hypothesis_hyper', 'subj_synonym', 'dobj_synonym', 'pobj_synonym',\n",
        "    'dif_adjs_advs', 'neg_word_and_word', 'sub_hypothesis_anto', 'dobj_hypothesis_anto',\n",
        "    'pobj_hypothesis_anto',  'opposite_sentiment'\n",
        "]\n",
        "\n",
        "# Filter out features that are in the 'smart_features' list\n",
        "filtered_thresholds = {k: v for k, v in thresholds.items() if k not in smart_features}\n",
        "\n",
        "# Assuming `df` is your dataframe\n",
        "for feature, threshold in filtered_thresholds.items():\n",
        "    print(f\"\\n{'='*50}\")\n",
        "    print(f\"\\nFeature: {feature}\")\n",
        "\n",
        "    # Filter rows where the feature value is greater than or equal to the threshold\n",
        "    filtered_rows_gte = df[df[feature] >= threshold]\n",
        "    first_column_gte = filtered_rows_gte.iloc[:, 0]  # Adjust if needed\n",
        "\n",
        "    print(f\"\\nFor {feature} >= {threshold}:\")\n",
        "    percentages_gte = first_column_gte.value_counts(normalize=True) * 100\n",
        "    print(percentages_gte.to_string())  # Print percentages for >= comparison\n",
        "    print(f\"Percentage of dataset: {len(filtered_rows_gte) / len(df) * 100:.2f}%\")\n",
        "\n",
        "    # Filter rows where the feature value is less than or equal to the threshold\n",
        "    filtered_rows_lte = df[df[feature] <= threshold]\n",
        "    first_column_lte = filtered_rows_lte.iloc[:, 0]  # Adjust if needed\n",
        "\n",
        "    print(f\"\\nFor {feature} <= {threshold}:\")\n",
        "    percentages_lte = first_column_lte.value_counts(normalize=True) * 100\n",
        "    print(percentages_lte.to_string())  # Print percentages for <= comparison\n",
        "    print(f\"Percentage of dataset: {len(filtered_rows_lte) / len(df) * 100:.2f}%\")"
      ],
      "metadata": {
        "id": "CRRC9XTMbddQ",
        "colab": {
          "base_uri": "https://localhost:8080/"
        },
        "outputId": "d88c4da9-43ff-4576-d155-e99891f0868c"
      },
      "execution_count": null,
      "outputs": [
        {
          "output_type": "stream",
          "name": "stdout",
          "text": [
            "\n",
            "==================================================\n",
            "\n",
            "Feature: tok_num1\n",
            "\n",
            "For tok_num1 >= 9.5:\n",
            "0\n",
            "entailment       33.393097\n",
            "contradiction    33.334187\n",
            "neutral          33.272716\n",
            "Percentage of dataset: 78.09%\n",
            "\n",
            "For tok_num1 <= 9.5:\n",
            "0\n",
            "entailment       33.397217\n",
            "contradiction    33.317363\n",
            "neutral          33.285421\n",
            "Percentage of dataset: 21.92%\n",
            "\n",
            "==================================================\n",
            "\n",
            "Feature: verb_num1\n",
            "\n",
            "For verb_num1 >= 1.5:\n",
            "0\n",
            "entailment       33.394939\n",
            "neutral          33.333333\n",
            "contradiction    33.271728\n",
            "Percentage of dataset: 60.87%\n",
            "\n",
            "For verb_num1 <= 1.5:\n",
            "0\n",
            "contradiction    33.42193\n",
            "entailment       33.39254\n",
            "neutral          33.18553\n",
            "Percentage of dataset: 39.13%\n",
            "\n",
            "==================================================\n",
            "\n",
            "Feature: sentiment1\n",
            "\n",
            "For sentiment1 >= 0.5:\n",
            "0\n",
            "entailment       33.441857\n",
            "contradiction    33.338572\n",
            "neutral          33.219570\n",
            "Percentage of dataset: 22.27%\n",
            "\n",
            "For sentiment1 <= 0.5:\n",
            "0\n",
            "entailment       33.380290\n",
            "contradiction    33.328187\n",
            "neutral          33.291523\n",
            "Percentage of dataset: 77.73%\n",
            "\n",
            "==================================================\n",
            "\n",
            "Feature: tok_num2\n",
            "\n",
            "For tok_num2 >= 8.5:\n",
            "0\n",
            "neutral          43.389835\n",
            "contradiction    33.111775\n",
            "entailment       23.498390\n",
            "Percentage of dataset: 38.97%\n",
            "\n",
            "For tok_num2 <= 8.5:\n",
            "0\n",
            "entailment       39.711798\n",
            "contradiction    33.470143\n",
            "neutral          26.818059\n",
            "Percentage of dataset: 61.03%\n",
            "\n",
            "==================================================\n",
            "\n",
            "Feature: noun_num2\n",
            "\n",
            "For noun_num2 >= 1.5:\n",
            "0\n",
            "neutral          34.960771\n",
            "contradiction    34.436899\n",
            "entailment       30.602330\n",
            "Percentage of dataset: 81.51%\n",
            "\n",
            "For noun_num2 <= 1.5:\n",
            "0\n",
            "entailment       45.699375\n",
            "contradiction    28.453614\n",
            "neutral          25.847011\n",
            "Percentage of dataset: 18.49%\n",
            "\n",
            "==================================================\n",
            "\n",
            "Feature: verb_num2\n",
            "\n",
            "For verb_num2 >= 1.5:\n",
            "0\n",
            "neutral          35.905143\n",
            "contradiction    35.161118\n",
            "entailment       28.933739\n",
            "Percentage of dataset: 57.05%\n",
            "\n",
            "For verb_num2 <= 1.5:\n",
            "0\n",
            "entailment       39.319603\n",
            "contradiction    30.898464\n",
            "neutral          29.781933\n",
            "Percentage of dataset: 42.95%\n",
            "\n",
            "==================================================\n",
            "\n",
            "Feature: adj_num2\n",
            "\n",
            "For adj_num2 >= 0.5:\n",
            "0\n",
            "neutral          36.846085\n",
            "entailment       31.931089\n",
            "contradiction    31.222826\n",
            "Percentage of dataset: 39.67%\n",
            "\n",
            "For adj_num2 <= 0.5:\n",
            "0\n",
            "contradiction    34.716662\n",
            "entailment       34.356118\n",
            "neutral          30.927220\n",
            "Percentage of dataset: 60.33%\n",
            "\n",
            "==================================================\n",
            "\n",
            "Feature: uppcase_num2\n",
            "\n",
            "For uppcase_num2 >= 1.5:\n",
            "0\n",
            "neutral          49.215229\n",
            "contradiction    34.312354\n",
            "entailment       16.472416\n",
            "Percentage of dataset: 3.22%\n",
            "\n",
            "For uppcase_num2 <= 1.5:\n",
            "0\n",
            "entailment       33.956552\n",
            "contradiction    33.297859\n",
            "neutral          32.745589\n",
            "Percentage of dataset: 96.78%\n",
            "\n",
            "==================================================\n",
            "\n",
            "Feature: neg_num2\n",
            "\n",
            "For neg_num2 >= 0.5:\n",
            "0\n",
            "contradiction    72.962180\n",
            "neutral          14.681701\n",
            "entailment       12.356119\n",
            "Percentage of dataset: 2.13%\n",
            "\n",
            "For neg_num2 <= 0.5:\n",
            "0\n",
            "entailment       33.851530\n",
            "neutral          33.679876\n",
            "contradiction    32.468594\n",
            "Percentage of dataset: 97.87%\n",
            "\n",
            "==================================================\n",
            "\n",
            "Feature: sentiment2\n",
            "\n",
            "For sentiment2 >= 0.5:\n",
            "0\n",
            "neutral          46.000959\n",
            "entailment       28.324547\n",
            "contradiction    25.674495\n",
            "Percentage of dataset: 17.74%\n",
            "\n",
            "For sentiment2 <= 0.5:\n",
            "0\n",
            "contradiction    34.981067\n",
            "entailment       34.486929\n",
            "neutral          30.532003\n",
            "Percentage of dataset: 82.26%\n",
            "\n",
            "==================================================\n",
            "\n",
            "Feature: neg_diff\n",
            "\n",
            "For neg_diff >= 0.5:\n",
            "0\n",
            "contradiction    67.987680\n",
            "neutral          17.084189\n",
            "entailment       14.928131\n",
            "Percentage of dataset: 2.44%\n",
            "\n",
            "For neg_diff <= 0.5:\n",
            "0\n",
            "entailment       33.854866\n",
            "neutral          33.679598\n",
            "contradiction    32.465536\n",
            "Percentage of dataset: 97.56%\n",
            "\n",
            "==================================================\n",
            "\n",
            "Feature: more_neg_in_hyp\n",
            "\n",
            "For more_neg_in_hyp >= 0.5:\n",
            "0\n",
            "contradiction    73.788969\n",
            "neutral          14.364508\n",
            "entailment       11.846523\n",
            "Percentage of dataset: 2.08%\n",
            "\n",
            "For more_neg_in_hyp <= 0.5:\n",
            "0\n",
            "entailment       33.852832\n",
            "neutral          33.678190\n",
            "contradiction    32.468978\n",
            "Percentage of dataset: 97.91%\n",
            "\n",
            "==================================================\n",
            "\n",
            "Feature: tok_diff\n",
            "\n",
            "For tok_diff >= 9.5:\n",
            "0\n",
            "entailment       36.600931\n",
            "contradiction    33.565971\n",
            "neutral          29.833099\n",
            "Percentage of dataset: 23.43%\n",
            "\n",
            "For tok_diff <= 9.5:\n",
            "0\n",
            "neutral          34.328680\n",
            "contradiction    33.258459\n",
            "entailment       32.412861\n",
            "Percentage of dataset: 76.57%\n",
            "\n",
            "==================================================\n",
            "\n",
            "Feature: noun_diff\n",
            "\n",
            "For noun_diff >= -0.5:\n",
            "0\n",
            "entailment       34.975032\n",
            "contradiction    33.415473\n",
            "neutral          31.609496\n",
            "Percentage of dataset: 91.92%\n",
            "\n",
            "For noun_diff <= -0.5:\n",
            "0\n",
            "neutral          52.220710\n",
            "contradiction    32.364221\n",
            "entailment       15.415069\n",
            "Percentage of dataset: 8.08%\n",
            "\n",
            "==================================================\n",
            "\n",
            "Feature: verb_diff\n",
            "\n",
            "For verb_diff >= -0.5:\n",
            "0\n",
            "entailment       35.703710\n",
            "contradiction    33.158348\n",
            "neutral          31.137942\n",
            "Percentage of dataset: 74.29%\n",
            "\n",
            "For verb_diff <= -0.5:\n",
            "0\n",
            "neutral          39.452700\n",
            "contradiction    33.827991\n",
            "entailment       26.719309\n",
            "Percentage of dataset: 25.71%\n",
            "\n",
            "==================================================\n",
            "\n",
            "Feature: adj_diff\n",
            "\n",
            "For adj_diff >= -0.5:\n",
            "0\n",
            "entailment       34.204422\n",
            "contradiction    33.858458\n",
            "neutral          31.937120\n",
            "Percentage of dataset: 89.03%\n",
            "\n",
            "For adj_diff <= -0.5:\n",
            "0\n",
            "neutral          44.133595\n",
            "contradiction    29.047250\n",
            "entailment       26.819155\n",
            "Percentage of dataset: 10.97%\n",
            "\n",
            "==================================================\n",
            "\n",
            "Feature: jaccard_sim\n",
            "\n",
            "For jaccard_sim >= 0.23669467866420746:\n",
            "0\n",
            "entailment       42.995653\n",
            "neutral          31.876819\n",
            "contradiction    25.127528\n",
            "Percentage of dataset: 42.44%\n",
            "\n",
            "For jaccard_sim <= 0.23669467866420746:\n",
            "0\n",
            "contradiction    39.379067\n",
            "neutral          34.306836\n",
            "entailment       26.314098\n",
            "Percentage of dataset: 57.56%\n",
            "\n",
            "==================================================\n",
            "\n",
            "Feature: uppcase_diff\n",
            "\n",
            "For uppcase_diff >= 0.5:\n",
            "0\n",
            "contradiction    34.018882\n",
            "entailment       33.631057\n",
            "neutral          32.350061\n",
            "Percentage of dataset: 12.76%\n",
            "\n",
            "For uppcase_diff <= 0.5:\n",
            "0\n",
            "neutral          33.410900\n",
            "entailment       33.359316\n",
            "contradiction    33.229783\n",
            "Percentage of dataset: 87.24%\n",
            "\n",
            "==================================================\n",
            "\n",
            "Feature: charnum_diff\n",
            "\n",
            "For charnum_diff >= 38.5:\n",
            "0\n",
            "entailment       36.477960\n",
            "contradiction    34.227358\n",
            "neutral          29.294681\n",
            "Percentage of dataset: 23.06%\n",
            "\n",
            "For charnum_diff <= 38.5:\n",
            "0\n",
            "neutral          34.468641\n",
            "contradiction    33.061691\n",
            "entailment       32.469668\n",
            "Percentage of dataset: 76.94%\n",
            "\n",
            "==================================================\n",
            "\n",
            "Feature: punc_diff\n",
            "\n",
            "For punc_diff >= 0.5:\n",
            "0\n",
            "entailment       33.592839\n",
            "neutral          33.531849\n",
            "contradiction    32.875312\n",
            "Percentage of dataset: 27.87%\n",
            "\n",
            "For punc_diff <= 0.5:\n",
            "0\n",
            "contradiction    33.506409\n",
            "entailment       33.317158\n",
            "neutral          33.176433\n",
            "Percentage of dataset: 72.13%\n",
            "\n",
            "==================================================\n",
            "\n",
            "Feature: entailment_words\n",
            "\n",
            "For entailment_words >= 0.5:\n",
            "0\n",
            "entailment       58.068662\n",
            "neutral          28.254085\n",
            "contradiction    13.677254\n",
            "Percentage of dataset: 2.72%\n",
            "\n",
            "For entailment_words <= 0.5:\n",
            "0\n",
            "contradiction    33.880742\n",
            "neutral          33.416087\n",
            "entailment       32.703171\n",
            "Percentage of dataset: 97.28%\n",
            "\n",
            "==================================================\n",
            "\n",
            "Feature: neutral_words\n",
            "\n",
            "For neutral_words >= 0.5:\n",
            "0\n",
            "neutral          76.305506\n",
            "contradiction    15.737123\n",
            "entailment        7.957371\n",
            "Percentage of dataset: 1.41%\n",
            "\n",
            "For neutral_words <= 0.5:\n",
            "0\n",
            "entailment       33.757132\n",
            "contradiction    33.581662\n",
            "neutral          32.661206\n",
            "Percentage of dataset: 98.59%\n",
            "\n",
            "==================================================\n",
            "\n",
            "Feature: contradiction_words\n",
            "\n",
            "For contradiction_words >= 0.5:\n",
            "0\n",
            "contradiction    82.841858\n",
            "neutral           9.994781\n",
            "entailment        7.163361\n",
            "Percentage of dataset: 3.83%\n",
            "\n",
            "For contradiction_words <= 0.5:\n",
            "0\n",
            "entailment       34.439211\n",
            "neutral          34.203165\n",
            "contradiction    31.357624\n",
            "Percentage of dataset: 96.17%\n",
            "\n",
            "==================================================\n",
            "\n",
            "Feature: BLEU1\n",
            "\n",
            "For BLEU1 >= 0.10280873998999596:\n",
            "0\n",
            "neutral          34.857722\n",
            "entailment       33.843382\n",
            "contradiction    31.298896\n",
            "Percentage of dataset: 66.59%\n",
            "\n",
            "For BLEU1 <= 0.10280873998999596:\n",
            "0\n",
            "contradiction    37.380632\n",
            "entailment       32.498129\n",
            "neutral          30.121239\n",
            "Percentage of dataset: 33.41%\n",
            "\n",
            "==================================================\n",
            "\n",
            "Feature: BLEU2\n",
            "\n",
            "For BLEU2 >= 0.1341266855597496:\n",
            "0\n",
            "entailment       37.809397\n",
            "neutral          34.618540\n",
            "contradiction    27.572063\n",
            "Percentage of dataset: 35.35%\n",
            "\n",
            "For BLEU2 <= 0.1341266855597496:\n",
            "0\n",
            "contradiction    36.478041\n",
            "neutral          32.542580\n",
            "entailment       30.979379\n",
            "Percentage of dataset: 64.64%\n",
            "\n",
            "==================================================\n",
            "\n",
            "Feature: BLEU3\n",
            "\n",
            "For BLEU3 >= 0.10261917486786842:\n",
            "0\n",
            "entailment       41.421289\n",
            "neutral          33.086490\n",
            "contradiction    25.492221\n",
            "Percentage of dataset: 22.75%\n",
            "\n",
            "For BLEU3 <= 0.10261917486786842:\n",
            "0\n",
            "contradiction    35.671603\n",
            "neutral          33.402832\n",
            "entailment       30.925565\n",
            "Percentage of dataset: 76.98%\n",
            "\n",
            "==================================================\n",
            "\n",
            "Feature: BLEU4\n",
            "\n",
            "For BLEU4 >= 0.11377318575978279:\n",
            "0\n",
            "entailment       41.588585\n",
            "neutral          32.812388\n",
            "contradiction    25.599027\n",
            "Percentage of dataset: 13.98%\n",
            "\n",
            "For BLEU4 <= 0.11377318575978279:\n",
            "0\n",
            "contradiction    34.764328\n",
            "neutral          33.917401\n",
            "entailment       31.318271\n",
            "Percentage of dataset: 83.12%\n"
          ]
        }
      ]
    },
    {
      "cell_type": "markdown",
      "source": [
        "### Display decision tree"
      ],
      "metadata": {
        "id": "Hd_tOxqLfMZC"
      }
    },
    {
      "cell_type": "code",
      "source": [
        "from sklearn.tree import plot_tree\n",
        "import seaborn as sns\n",
        "import matplotlib.pyplot as plt\n",
        "from sklearn.metrics import confusion_matrix\n",
        "import numpy as np"
      ],
      "metadata": {
        "id": "DfIQdz4srT0T"
      },
      "execution_count": null,
      "outputs": []
    },
    {
      "cell_type": "code",
      "source": [
        "# Displays tree with only the feature labels and threshold to make it more clear and interpretable\n",
        "def custom_plot_tree(tree, feature_names):\n",
        "    plt.figure(figsize=(60, 20))\n",
        "    plot_tree(tree,\n",
        "              filled=True,\n",
        "              feature_names=feature_names,\n",
        "              class_names=None,\n",
        "              max_depth=4,\n",
        "              fontsize=20,\n",
        "              impurity=False,\n",
        "              proportion=False)\n",
        "\n",
        "    # Manually update text labels to only show feature & threshold\n",
        "    for text in plt.gca().texts:\n",
        "        txt = text.get_text()\n",
        "        lines = txt.split(\"\\n\")\n",
        "\n",
        "        # Extract only feature and threshold\n",
        "        new_label = None\n",
        "        for line in lines:\n",
        "            if \"<=\" in line or 'samples' in line:\n",
        "                new_label = line\n",
        "                break\n",
        "\n",
        "        if new_label:\n",
        "            text.set_text(new_label)\n",
        "\n",
        "    plt.show()\n",
        "\n",
        "\n",
        "custom_plot_tree(optimal_DT, feat_df.columns)"
      ],
      "metadata": {
        "id": "x3XoiEB3fPey",
        "colab": {
          "base_uri": "https://localhost:8080/",
          "height": 477
        },
        "outputId": "a35704ea-07f9-406a-913d-e6cb91cbcbd5"
      },
      "execution_count": null,
      "outputs": [
        {
          "output_type": "display_data",
          "data": {
            "text/plain": [
              "<Figure size 6000x2000 with 1 Axes>"
            ],
            "image/png": "[encoded data removed]"
          },
          "metadata": {}
        }
      ]
    },
    {
      "cell_type": "markdown",
      "source": [],
      "metadata": {
        "id": "GPYpyhyaa2T8"
      }
    }
  ],
  "metadata": {
    "colab": {
      "provenance": [],
      "toc_visible": true,
      "include_colab_link": true
    },
    "kernelspec": {
      "display_name": "Python 3",
      "name": "python3"
    },
    "language_info": {
      "name": "python"
    }
  },
  "nbformat": 4,
  "nbformat_minor": 0
}